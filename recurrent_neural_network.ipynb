{
 "cells": [
  {
   "cell_type": "markdown",
   "metadata": {},
   "source": [
    "# Recurrent Neural Network\n",
    "\n",
    "Date: 2019-09-11  \n",
    "Author: skettee  \n",
    "Categories: Deep Learning, Recurrent Neural Network  \n",
    "Tags: tanh, timesteps, many-to-one      \n",
    "<!--eofm-->"
   ]
  },
  {
   "cell_type": "markdown",
   "metadata": {},
   "source": [
    "시퀀스 모델링(Sequence Modeling)을 위한  리커런트 뉴럴 네트워크(Recurrent Neural Network) 에 대해 알아보고 keras를 이용해서 모델링을 해보자!\n",
    "<!--more-->\n",
    "\n",
    "실제로 돌려 보고 싶으면 구글 코랩으로 ~  \n",
    "\n",
    "[![Open In Colab](https://colab.research.google.com/assets/colab-badge.svg)](https://colab.research.google.com/github/skettee/notebooks/blob/master/recurrent_neural_network.ipynb)"
   ]
  },
  {
   "cell_type": "markdown",
   "metadata": {},
   "source": [
    "## 문제 (Problem)\n",
    "\n",
    "💰 고객\n",
    "\n",
    "> 친추한 여친이 이모티콘 문자를 보내면서 좋은 말인지 나쁜말인지 맞추어 보라고 하네요.   \n",
    "> 지금까지 온 문자와 답은 아래와 같아요.  \n",
    ">\n",
    "> 🐱 🤖 ❤️ ❗️ : GOOD  \n",
    "> 🐱 ❗️ 🐷 🐶 : BAD  \n",
    "> 🐷 🐱 🤖 ❤️ : GOOD  \n",
    "> ❤️ 🤖 ❗️ 🐷 : BAD  \n",
    "> 🐶 🐱 ❤️ 🤖 : GOOD  \n",
    "> 🐷 ❤️ ❗️ 🐶 : BAD  \n",
    "> 🐱 🤖 🐷 ❤️ : GOOD  \n",
    "> ❗️ ❤️ 🐱 🤖 : GOOD  \n",
    "> 🤖 🐱 ❤️ 🐷 : BAD  \n",
    "> 🐷 🐶 ❗️ ❤️ : BAD  \n",
    ">\n",
    "> 아래 이모티콘 문자가 좋은 말인지 나쁜말인지 알려주는 인공지능을 만들어 주세요~  \n",
    ">\n",
    "> 문자 1: 🐶 🐱 🤖 ❤️   \n",
    "> 문자 2: 🤖 ❗️ 🐷 🐶   \n",
    "\n",
    "⚙️ 엔지니어\n",
    "\n",
    "> 혹시~ 여친님이 암호 전문가?   \n"
   ]
  },
  {
   "cell_type": "markdown",
   "metadata": {},
   "source": [
    "## 데이터 수집 (Data Collection)\n",
    "\n",
    "넘파이(Numpy) 배열(array)로 데이터를 만들자  "
   ]
  },
  {
   "cell_type": "code",
   "execution_count": 1,
   "metadata": {},
   "outputs": [
    {
     "name": "stdout",
     "output_type": "stream",
     "text": [
      "(10, 4)\n",
      "(10, 1)\n"
     ]
    }
   ],
   "source": [
    "import numpy as np\n",
    "\n",
    "x = np.array([['🐱', '🤖', '❤️', '❗️'], \n",
    "              ['🐱', '❗️', '🐷', '🐶'], \n",
    "              ['🐷', '🐱', '🤖', '❤️'], \n",
    "              ['❤️', '🤖', '❗️', '🐷'], \n",
    "              ['🐶', '🐱', '❤️', '🤖'], \n",
    "              ['🐷', '❤️', '❗️', '🐶'], \n",
    "              ['🐱', '🤖', '🐷', '❤️'], \n",
    "              ['❗️', '❤️', '🐱', '🤖'], \n",
    "              ['🤖', '🐱', '❤️', '🐷'], \n",
    "              ['🐷', '🐶', '❗️', '❤️']] )\n",
    "\n",
    "y = np.array([['GOOD'], ['BAD'], ['GOOD'], ['BAD'], ['GOOD'], \n",
    "              ['BAD'], ['GOOD'],  ['GOOD'], ['BAD'], ['BAD']])\n",
    "\n",
    "print(x.shape)\n",
    "print(y.shape)"
   ]
  },
  {
   "cell_type": "markdown",
   "metadata": {},
   "source": [
    "## 데이터 분석 (Data Analysis)\n",
    "\n",
    "데이터 분석의 경험과 나에게 존재하는 풍부한 ~~갬성~~ 감성을 바탕으로 이모티콘의 의미를 단번에 간파하고 테이블로 만들었다.  \n",
    "\n",
    "이모티콘 | 의미\n",
    "---------|-----\n",
    "🐱 | 나 \n",
    "🤖 | 너\n",
    "❗️ | 졸라\n",
    "❤️ | 좋다\n",
    "🐷 | 바보\n",
    "🐶 | 멍청이\n",
    "\n",
    "위의 변환 테이블을 바탕으로 문자 이모티콘을 해석한 테이블을 만들었다.  \n",
    "\n",
    "문자 이모티콘  | 의미                           | 감성 분석\n",
    "------------- |----------------------|-----------\n",
    "🐱 🤖 ❤️ ❗️ | 나 너 좋아해 졸라        | GOOD  \n",
    "🐱 ❗️ 🐷 🐶 | 난 졸라 바보 멍청이야 | BAD  \n",
    "🐷 🐱 🤖 ❤️ | 바보야 난 너 좋아해    | GOOD  \n",
    "❤️ 🤖 ❗️ 🐷 | 좋냐 넌 졸라 바보야    | BAD\n",
    "🐶 🐱 ❤️ 🤖 | 멍청이 나 좋아해 너를 | GOOD\n",
    "🐷 ❤️ ❗️ 🐶 | 바보 좋냐 졸라 멍청아 | BAD\n",
    "🐱 🤖 🐷 ❤️ | 난 너가 바보같이 좋다 | GOOD\n",
    "❗️ ❤️ 🐱 🤖 | 졸라 좋다 나는 너를     | GOOD\n",
    "🤖 🐱 ❤️ 🐷 | 너 나 좋냐 바보야        | BAD\n",
    "🐷 🐶 ❗️ ❤️ | 바보 멍청아 졸라 좋냐  | BAD\n",
    "\n",
    "고객이 의뢰한 문자에 대해서 의미와 감성 분석 예상 테이블이다.  \n",
    "\n",
    "문자 이모티콘  | 의미                           | 예상\n",
    "------------- |---------------------|-----------\n",
    "🐶 🐱 🤖 ❤️ | 멍청이 나 너 좋아해    | GOOD  \n",
    "🤖 ❗️ 🐷 🐶 | 넌 졸라 바보 멍청이야 | BAD  \n"
   ]
  },
  {
   "cell_type": "markdown",
   "metadata": {},
   "source": [
    "이 문제는 뉴럴 네트워크(NN)로는 해결할 수 없다.  \n",
    "왜냐하면... 아래 데이터를 보자   \n",
    "\n",
    "문자 이모티콘  | 의미                           | 예상\n",
    "------------- |---------------------|-----------\n",
    "🐱 🤖 🐷 ❤️ | 난 너가 바보같이 좋다 | GOOD  \n",
    "🤖 🐱 ❤️ 🐷 | 너 나 좋냐 바보야        | BAD  \n",
    "\n",
    "문자 이모티콘의 순서만 바뀌어도 예상 결과값이 다르게 된다!    \n",
    "\n",
    "⚙️ 엔지니어\n",
    "\n",
    "> 데이터의 순서가 결과에 영향을 미친다!     \n",
    "> 새로운 모델이 필요하다.  \n",
    "> \n",
    "> 걱정마라      \n",
    "> 데이터의 순서를 고려한 모델이 존재한다.  \n",
    "> 그것은 바로...  \n"
   ]
  },
  {
   "cell_type": "markdown",
   "metadata": {},
   "source": [
    "## 리커런트 뉴럴 네트워크 모델링 (RNN Modeling)\n",
    "\n",
    "지금까지 알아 보았던 NN, CNN, MF등은 데이터의 순서와는 상관이 없었다.  \n",
    "그러나 이번 문제는 데이터의 순서를 고려해야 한다. 즉, 이전 데이터의 정보도 모델링에 필요하다.  \n",
    "\n",
    "⚙️ 엔지니어  \n",
    "\n",
    "> 엔지니어들을 갈아서 만든     \n",
    "> RNN 모델은 다음과 같다.    \n",
    "\n",
    "![RNN 모델](https://skettee.github.io/post/recurrent_neural_network/rnn_model.png)\n",
    "\n",
    "\n",
    "$\\begin{align} \n",
    "a^{\\lt t \\gt} & = g\\left(W_{aa}a^{\\lt t-1 \\gt} + W_{ax}x^{\\lt t \\gt} + b_a\\right) \\\\  \n",
    "\\hat y^{\\lt t \\gt} & = W_{ya}a^{\\lt t \\gt} + b_y \n",
    "\\end{align}$  \n"
   ]
  },
  {
   "cell_type": "markdown",
   "metadata": {},
   "source": [
    "⚙️ 엔지니어  \n",
    "\n",
    "> 이전 데이터의 활성함수(activation function) 값을  \n",
    "> 현재 데이터의 입력값으로 사용한다.  \n",
    "> 똑똑해~  \n",
    ">\n",
    "> RNN에서의 활성함수 $g(z)$는 ReLU 혹은 **tanh** 를 사용한다.  \n",
    "> tanh란?  "
   ]
  },
  {
   "cell_type": "markdown",
   "metadata": {},
   "source": [
    "### 하이퍼볼릭 탄젠트 함수 (tanh function)\n",
    "\n",
    "tanh 함수는 sigmoid 함수의 중심값을 0으로 옮겨 놓은 함수이다.     \n",
    "\n",
    "$tanh(x) = \\dfrac{e^x - e^{-x}}{e^x + e^{-x}}$"
   ]
  },
  {
   "cell_type": "code",
   "execution_count": 2,
   "metadata": {},
   "outputs": [
    {
     "data": {
      "image/png": "[encoded data removed]",
      "text/plain": [
       "<Figure size 432x288 with 1 Axes>"
      ]
     },
     "metadata": {
      "needs_background": "light"
     },
     "output_type": "display_data"
    }
   ],
   "source": [
    "%matplotlib inline\n",
    "import matplotlib.pyplot as plt\n",
    "\n",
    "tanh = lambda x: (np.exp(x) - np.exp(-x)) / (np.exp(x) + np.exp(-x))\n",
    "\n",
    "xx = np.linspace(-10,10,100)\n",
    "\n",
    "plt.plot(xx, tanh(xx))\n",
    "plt.show()"
   ]
  },
  {
   "cell_type": "markdown",
   "metadata": {},
   "source": [
    "### Many-to-One Model\n",
    "\n",
    "RNN모델은 5가지로 나눌 수 있다.  \n",
    "\n",
    "![RNN 모델 종류](http://karpathy.github.io/assets/rnn/diags.jpeg)\n",
    "\n",
    "출처: [Andrej Karpathy blog](http://karpathy.github.io/2015/05/21/rnn-effectiveness/)\n",
    "\n",
    "자세한 설명은 생략한다.  우리 문제를 해결하기 위해서 감성분석(Sentiment Anaysis)에 사용되는 many to one 모델을 사용하자  \n",
    "입력과 출력의 모양은 아래 그림과 같다.  \n",
    "\n",
    "![many-to-one](https://skettee.github.io/post/recurrent_neural_network/many_to_one.png)\n"
   ]
  },
  {
   "cell_type": "markdown",
   "metadata": {},
   "source": [
    "### 정리\n",
    "\n",
    "1. Input Layer  (핑크색)\n",
    "    1. Batch size는 10개   \n",
    "    2. Time step은 4개 ($T_x = 4$)   \n",
    "    3. Feature 개수는 입력에 들어가는 이모티콘 1개  \n",
    "2. RNN Layer  (연두색)\n",
    "    1. 32개 유닛으로 구성한다.  \n",
    "    2. 활성 함수는 tanh를 사용한다.  \n",
    "3. Output Layer (파랑색)\n",
    "    1. 활성 함수는 시그모이드(Sigmoid)를 사용한다.\n",
    "4. Loss funtion 은 binary_crossentropy 를 사용한다.  \n",
    "5. Optimizer 는 Adam 을 사용한다.  \n"
   ]
  },
  {
   "cell_type": "markdown",
   "metadata": {},
   "source": [
    "## 케라스(Keras)로 모델링(Modeling)\n",
    "\n",
    "### 데이터 변환 (Data Transformation)\n",
    "\n",
    "입력 데이터의 이모티콘과 출력 데이터의 문자를 숫자로 변환한다.  "
   ]
  },
  {
   "cell_type": "code",
   "execution_count": 3,
   "metadata": {},
   "outputs": [
    {
     "name": "stdout",
     "output_type": "stream",
     "text": [
      "(10, 4)\n",
      "(10, 1)\n"
     ]
    }
   ],
   "source": [
    "from sklearn.preprocessing import LabelEncoder\n",
    "\n",
    "encoder_x = LabelEncoder()\n",
    "encoder_y = LabelEncoder()\n",
    "\n",
    "# Encoding X\n",
    "batch_size = x.shape[0]\n",
    "input_dim = x.shape[1]\n",
    "x_train = x.flatten() # Flattern\n",
    "x_train = encoder_x.fit_transform(x_train) # Labeling\n",
    "x_train = np.reshape(x_train, (batch_size, input_dim)) # Reshape\n",
    "\n",
    "# Encoding Y\n",
    "batch_size = y.shape[0]\n",
    "input_dim = y.shape[1]\n",
    "y_train = y.flatten() # Flattern\n",
    "y_train = encoder_y.fit_transform(y_train) # Labeling\n",
    "y_train = np.reshape(y_train, (batch_size, input_dim)) # Reshape\n",
    "\n",
    "print(x_train.shape)\n",
    "print(y_train.shape)"
   ]
  },
  {
   "cell_type": "markdown",
   "metadata": {},
   "source": [
    "Keras의 RNN에 입력되는 데이터의 모양(shape) 은 다음과 같다.   \n",
    "\n",
    "**(batch_size, timesteps, features)**  \n",
    "\n",
    "따라서 입력 데이터의 shape를 (10, 4, 1)로 변환한다.  "
   ]
  },
  {
   "cell_type": "code",
   "execution_count": 4,
   "metadata": {},
   "outputs": [
    {
     "name": "stdout",
     "output_type": "stream",
     "text": [
      "(10, 4, 1)\n",
      "(10, 1)\n"
     ]
    }
   ],
   "source": [
    "X_train = np.reshape(x_train, (x_train.shape[0], x_train.shape[1], 1))\n",
    "Y_train = y_train\n",
    "print(X_train.shape)\n",
    "print(Y_train.shape)"
   ]
  },
  {
   "cell_type": "markdown",
   "metadata": {},
   "source": [
    "### 모델링 (Modeling)"
   ]
  },
  {
   "cell_type": "code",
   "execution_count": 8,
   "metadata": {},
   "outputs": [],
   "source": [
    "from tensorflow.keras import Sequential\n",
    "from tensorflow.keras.layers import SimpleRNN, Dense\n",
    "\n",
    "model = Sequential()\n",
    "model.add(SimpleRNN(units=32, input_shape=(4, 1), activation=\"tanh\"))\n",
    "model.add(Dense(1, activation=\"sigmoid\"))\n",
    "model.compile(loss='binary_crossentropy', optimizer='adam')"
   ]
  },
  {
   "cell_type": "markdown",
   "metadata": {},
   "source": [
    "### 모델 훈련 (Train Model)"
   ]
  },
  {
   "cell_type": "code",
   "execution_count": 6,
   "metadata": {},
   "outputs": [
    {
     "data": {
      "image/png": "[encoded data removed]",
      "text/plain": [
       "<Figure size 432x288 with 1 Axes>"
      ]
     },
     "metadata": {
      "needs_background": "light"
     },
     "output_type": "display_data"
    }
   ],
   "source": [
    "hist = model.fit(X_train,Y_train, epochs=300, verbose=0)\n",
    "\n",
    "plt.plot(hist.history['loss'])\n",
    "plt.xlabel('epoch')\n",
    "plt.ylabel('loss')\n",
    "plt.show()"
   ]
  },
  {
   "cell_type": "markdown",
   "metadata": {},
   "source": [
    "## 해결 (Solution)\n",
    "\n",
    "⚙️ 엔지니어  \n",
    "\n",
    "> 고객님~ 원하시는 솔루션입니다.    \n",
    ">\n",
    "> test_data에 원하시는 문자 이모티콘을 입력하시면    \n",
    "> 감성 분석 결과 값 (GOOD, BAD)가 출력 됩니다.   \n"
   ]
  },
  {
   "cell_type": "code",
   "execution_count": 7,
   "metadata": {},
   "outputs": [
    {
     "name": "stdout",
     "output_type": "stream",
     "text": [
      "['🐶', '🐱', '🤖', '❤️'] : GOOD\n",
      "['🤖', '❗️', '🐷', '🐶'] : BAD\n"
     ]
    }
   ],
   "source": [
    "def analyze_message(message):\n",
    "    x = np.array([message])\n",
    "    if x.shape[0] != 1:\n",
    "        return None\n",
    "    if x.shape[1] != 4:\n",
    "        return None\n",
    "    batch_size = x.shape[0]\n",
    "    time_steps = x.shape[1]\n",
    "    x = x.flatten()\n",
    "    x = encoder_x.transform(x)\n",
    "    X_test = np.reshape(x, (batch_size, time_steps, 1))\n",
    "    predict = model.predict(X_test)\n",
    "    if predict[0] > 0.5:\n",
    "        return 'GOOD'\n",
    "    else:\n",
    "        return 'BAD'\n",
    "\n",
    "test_data1 = ['🐶', '🐱', '🤖', '❤️']\n",
    "result = analyze_message(test_data1)\n",
    "print('{} : {}'.format(test_data1, result))\n",
    "\n",
    "test_data2 = ['🤖', '❗️', '🐷', '🐶']\n",
    "result = analyze_message(test_data2)\n",
    "print('{} : {}'.format(test_data2, result))"
   ]
  }
 ],
 "metadata": {
  "kernelspec": {
   "display_name": "Python 3",
   "language": "python",
   "name": "python3"
  },
  "language_info": {
   "codemirror_mode": {
    "name": "ipython",
    "version": 3
   },
   "file_extension": ".py",
   "mimetype": "text/x-python",
   "name": "python",
   "nbconvert_exporter": "python",
   "pygments_lexer": "ipython3",
   "version": "3.7.3"
  }
 },
 "nbformat": 4,
 "nbformat_minor": 2
}
