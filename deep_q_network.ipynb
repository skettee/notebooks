{
 "cells": [
  {
   "cell_type": "markdown",
   "metadata": {},
   "source": [
    "# Deep Q-Networks (DQN)\n",
    "\n",
    "Date: 2019-09-28  \n",
    "Author: skettee  \n",
    "Categories: Reinforcement Learning, Neural Network, Q-Learning    \n",
    "Tags: Environment, Agent, State, Action, Reward, Q-value    \n",
    "<!--eofm-->"
   ]
  },
  {
   "cell_type": "markdown",
   "metadata": {},
   "source": [
    "딥러닝 과 Q-Learning의 만남! DQN에 대해서 알아 보고 Gym에서 제공하는 문제를 해결하기 위해 DQN을 모델링 하고 최적의 액션을 예측하는 알고리듬을 만들어 보자.  \n",
    "<!--more-->\n",
    "\n",
    "실제로 돌려 보고 싶으면 구글 코랩으로 ~  \n",
    "\n",
    "[![Open In Colab](https://colab.research.google.com/assets/colab-badge.svg)](https://colab.research.google.com/github/skettee/notebooks/blob/master/deep_q_network.ipynb)"
   ]
  },
  {
   "cell_type": "markdown",
   "metadata": {},
   "source": [
    "## 문제 (Problem)\n",
    "\n",
    "👤 상사\n",
    "\n",
    "> 딥러닝을 강화 학습에 적용이 가능하다며?          \n",
    "> 아래 체육관(Gym)에 가서      \n",
    "> 'CartPole' 문제를 풀어 보게          \n",
    ">\n",
    "> https://gym.openai.com/envs/CartPole-v1/\n",
    "\n",
    "⚙️ 엔지니어\n",
    "\n",
    "> 오~ 드디어 딥러닝을 활용할 수 있겠구나!\n"
   ]
  },
  {
   "cell_type": "markdown",
   "metadata": {},
   "source": [
    "## 문제 분석 (Problem Anaysis)\n",
    "\n",
    "![CartPole](https://skettee.github.io/post/deep_q_network/cartpole.gif)\n",
    "\n",
    "검은색 카트(Cart) 위에 막대기(Pole)를 살짝 올려 놓고   \n",
    "검은색 카트를 좌우로 움직여서 막대기가 쓰러지지 않도록 하는 것이 목표다.    "
   ]
  },
  {
   "cell_type": "markdown",
   "metadata": {},
   "source": [
    "## 환경 (Environment)\n",
    "\n",
    "'CartPole' 의 환경은 네종류의 상태(State)와 2개의 액션(Action)으로 구성 되어 있다.   "
   ]
  },
  {
   "cell_type": "code",
   "execution_count": 1,
   "metadata": {},
   "outputs": [
    {
     "name": "stdout",
     "output_type": "stream",
     "text": [
      "State space:  Box(4,)\n",
      "Initial state:  [-0.00432244 -0.01186421  0.03167495 -0.0328928 ]\n",
      "\n",
      "Action space:  Discrete(2)\n",
      "Random action:  1\n"
     ]
    }
   ],
   "source": [
    "import gym\n",
    "import numpy as np\n",
    "\n",
    "#\n",
    "# Environment\n",
    "#\n",
    "env = gym.make('CartPole-v1')\n",
    "state = env.reset()\n",
    "action = env.action_space.sample()\n",
    "\n",
    "print('State space: ', env.observation_space)\n",
    "print('Initial state: ', state)\n",
    "print('\\nAction space: ', env.action_space)\n",
    "print('Random action: ', action)"
   ]
  },
  {
   "cell_type": "markdown",
   "metadata": {},
   "source": [
    "### 액션 (Action)\n",
    "\n",
    "'CartPole'에서는 2개의 액션이 존재한다. 그리고 각각의 액션이 번호로 지정 되어 있다.\n",
    "\n",
    "$A = \\{0, 1\\}$   \n",
    "\n",
    "Num\t| Action\n",
    "----|----\n",
    "0 |\tPush cart to the left\n",
    "1 |\tPush cart to the right\n"
   ]
  },
  {
   "cell_type": "markdown",
   "metadata": {},
   "source": [
    "### 상태 (State)\n",
    "\n",
    "'CartPole'의 상태(State) $S$는 4개의 실수값의 배열로 되어 있다.   \n",
    "\n",
    "$S = \\begin{bmatrix}\n",
    "\\{ s_{00}, s_{01}, \\cdots\\}, \\\\\n",
    "\\{ s_{10}, s_{11}, \\cdots \\}, \\\\\n",
    "\\{ s_{20}, s_{21}, \\cdots \\}, \\\\\n",
    "\\{ s_{30}, s_{31}, \\cdots \\}\n",
    "\\end{bmatrix}$  \n",
    "\n",
    "Index | State                   | Min      | Max\n",
    "-----|-----------------|--------|------\n",
    "0      | Cart Position       | -4.8    | 4.8  \n",
    "1       | Cart Velocity       | -Inf     | Inf\n",
    "2      | Pole Angle           | -24 deg | 24 deg\n",
    "3      | Pole Velocity At Tip | -Inf     | Inf\n",
    "\n",
    "\n",
    "⚙️ 엔지니어\n",
    "\n",
    "> 4종류의 상태값 중에 하나가 0.0000001만 바뀌어도  \n",
    "> 상태가 바뀐다.  \n",
    "> 다시말하면  \n",
    ">\n",
    "> 상태(State)가 무한대이다!  \n",
    "> Q 테이블을 만드는 것은 불가능하다...  \n",
    ">"
   ]
  },
  {
   "cell_type": "markdown",
   "metadata": {},
   "source": [
    "### 보상 (Reward)\n",
    "\n",
    "매 스텝(step)마다 +1을 보상 받는다. 종료 스텝(termination step)에도 +1을 보상 받는다.\n",
    "\n",
    "⚙️ 엔지니어\n",
    "\n",
    "> 오래 버티면 높은 점수를 받는다!\n"
   ]
  },
  {
   "cell_type": "markdown",
   "metadata": {},
   "source": [
    "## DQN 모델링 (Modeling)\n",
    "\n",
    "아이디어는 단순하다. 샘플링된 상태(State)와 Q-value 데이터를 가지고 전체 상태에 대한 Q-value를 예측 하겠다는 것이다. 그리고 우리는 뉴럴 네트워크가 예측(Prediction)을 아주 잘 한다는 것을 알고 있다!  \n",
    "\n",
    "아래와 같이 3-레이어 뉴럴 네트워크를 구성한다.  \n",
    "\n",
    "![DQN Model](https://skettee.github.io/post/deep_q_network/dqn_model.png)\n",
    "\n",
    "### 데이터 수집 (Data Collection)\n",
    "\n",
    "입력 데이터 $X$는 상태(State), 출력 데이터 $Y$는 액션에 대한 Q-value이다.  입력 데이터는 𝜀-greedy 방식으로 탐색하면서 데이터를 수집한다. \n",
    "\n",
    "$\\begin{align}\n",
    "& X = \\{ x_1^{(i)}, x_2^{(i)}, x_3^{(i)}, x_4^{(i)} \\} \\\\\n",
    "& x_1^{(i)} : \\text{i 번째 Cart Position 값} \\\\\n",
    "& x_2^{(i)} : \\text{i 번째 Cart Velocity 값} \\\\\n",
    "& x_3^{(i)} : \\text{i 번째 Pole Angle 값} \\\\\n",
    "& x_4^{(i)} : \\text{i 번째 Pole Velocity At Tip 값} \\\\\n",
    "\\\\\n",
    "& Y = \\{ y_1^{(i)}, y_2^{(i)} \\} \\\\\n",
    "& y_1^{(i)} = r + \\gamma \\max_{a_0} q(s, a_0), \\quad \\text{i 번째 0번 액션에 대한 Q-value} \\\\\n",
    "& y_2^{(i)} = r + \\gamma \\max_{a_1} q(s, a_1), \\quad \\text{i 번째 1번 액션에 대한 Q-value}\n",
    "\\end{align}$\n"
   ]
  },
  {
   "cell_type": "markdown",
   "metadata": {},
   "source": [
    "### 손실 함수 (Loss Function)\n",
    "\n",
    "$\\begin{align}\n",
    "J(w) & = \\mathbb E_{\\pi} [(y - \\hat y)^2] \\\\\n",
    "& =  \\mathbb E_{\\pi} \\left [\\left (R_{t+1} + \\gamma \\max_{a'} Q(S_{t+1}, a') - Q(S_t, A_t, w) \\right)^2 \\right ]\n",
    "\\end{align}$\n",
    "\n",
    "### 경사 하강법 (Gradient Descent)  \n",
    "\n",
    "REPEAT(epoch) {    \n",
    "\n",
    "$ w \\leftarrow w-\\alpha \\dfrac{\\partial J(w,b)}{\\partial w}$  \n",
    "}  \n",
    "\n",
    "### 최적의 액션 예측 (Predict Optimal Action)  \n",
    "\n",
    "$\\hat A_t = \\text{argmax}_{a'}Q(S_t, a', w)$  "
   ]
  },
  {
   "cell_type": "markdown",
   "metadata": {},
   "source": [
    "### 케라스(Keras)로 모델링 (Modeling)\n",
    "\n",
    "1. 히든 레이어(hidden layer)  정의  \n",
    "     1. 히든 레이어 개수를 정의한다. 여기서는 2-hidden layer를 사용한다.  \n",
    "     2. 히든 레이어 유닛 개수를 정의한다. 여기서는 24개, 24개 유닛을 사용한다.  \n",
    "     3. 활성 함수(activation function)를 정의한다. 여기서는 ReLU 를 사용한다.  \n",
    "2. 출력 레이어(output layer)  정의   \n",
    "     1. 출력 레이어 유닛 개수를 정의한다. 여기서는 각 액션에 대한 Q-value이므로 2개 유닛을 사용한다.  \n",
    "     2. 활성 함수(activation function)를 정의한다. Linear 를 사용한다.  \n",
    "3. 손실 함수 (Loss function)를 정의한다. 평균 제곱 오차(mean squared error) 를 사용한다.  \n",
    "4. 옵티마이저(Optimizer)를 정의한다. 여기서는 Adam 을 사용한다.  "
   ]
  },
  {
   "cell_type": "code",
   "execution_count": 3,
   "metadata": {},
   "outputs": [],
   "source": [
    "# DQN Modeling\n",
    "from tensorflow.keras import Sequential\n",
    "from tensorflow.keras.layers import Dense\n",
    "\n",
    "num_state = env.observation_space.shape[0]\n",
    "num_action = env.action_space.n\n",
    "\n",
    "model = Sequential()\n",
    "model.add(Dense(24, input_dim= num_state, activation='relu'))\n",
    "model.add(Dense(24, activation='relu'))\n",
    "model.add(Dense(num_action, activation='linear'))\n",
    "model.compile(loss='mse', optimizer='adam')"
   ]
  },
  {
   "cell_type": "markdown",
   "metadata": {},
   "source": [
    "## 에이전트 (Agent)\n",
    "\n",
    "### 메모리 (Memory)\n",
    "\n",
    "Q-Learning에서 얻은 데이터 ($s_t, a_t, r_{t+1}, s_{t+1}$) 들을 딥러닝에서 사용하기 위해서 메모리에 저장한다.\n",
    "\n",
    "$\\text{memory} = [(s_0, a_0, r_1, s_1), (s_1, a_1, r_2, s_2), \\cdots]$\n",
    "\n",
    "### 리플레이 (Replay)\n",
    "\n",
    "하나의 에피소드가 끝나면 메모리에 저장된 데이터들을 랜덤(random), 미니배치(mini-batch)로 샘플링해서 DQN 모델에 넣고 훈련한다.  \n"
   ]
  },
  {
   "cell_type": "markdown",
   "metadata": {},
   "source": [
    "## 학습 (Learning)\n",
    "\n",
    "돌려 놓고 커피 한잔 하세여~ ☕️"
   ]
  },
  {
   "cell_type": "code",
   "execution_count": 4,
   "metadata": {},
   "outputs": [
    {
     "name": "stderr",
     "output_type": "stream",
     "text": [
      "100%|██████████| 5000/5000 [13:39<00:00,  4.85it/s]\n"
     ]
    }
   ],
   "source": [
    "import random\n",
    "from tqdm import tqdm\n",
    "\n",
    "num_episode = 5000\n",
    "memory = []\n",
    "\n",
    "# Hyper parameter\n",
    "epsilon = 0.3\n",
    "gamma = 0.9\n",
    "batch_size = 32\n",
    "\n",
    "# DQN Learning\n",
    "for episode in tqdm(range(num_episode)):\n",
    "    state = env.reset()\n",
    "    state = np.array(state).reshape(1, num_state)\n",
    "    done = False\n",
    "    while not done:\n",
    "        if np.random.uniform() < epsilon:\n",
    "            action = env.action_space.sample()\n",
    "        else:\n",
    "            q_value = model.predict(state)\n",
    "            action = np.argmax(q_value[0])\n",
    "        next_state, reward, done, info = env.step(action)\n",
    "        next_state = np.array(next_state).reshape(1, num_state)\n",
    "        # Memory\n",
    "        memory.append((state, action, reward, next_state, done))\n",
    "        \n",
    "        state = next_state\n",
    "    \n",
    "    # Replay\n",
    "    if len(memory) > batch_size:\n",
    "        mini_batch = random.sample(memory, batch_size)\n",
    "        for state, action, reward, next_state, done in mini_batch:\n",
    "            target = reward\n",
    "            if not done:\n",
    "                target = reward + gamma * (np.max(model.predict(next_state)[0]))\n",
    "            q_value = model.predict(state)\n",
    "            q_value[0][action] = target\n",
    "            model.fit(state, q_value, epochs=1, verbose=0)\n",
    "\n",
    "env.close()"
   ]
  },
  {
   "cell_type": "markdown",
   "metadata": {},
   "source": [
    "### 모델 저장 (Save Model)"
   ]
  },
  {
   "cell_type": "code",
   "execution_count": 5,
   "metadata": {},
   "outputs": [],
   "source": [
    "import os\n",
    "\n",
    "save_dir = os.getcwd()\n",
    "model_name = 'keras_dqn_trained_model.h5'\n",
    "\n",
    "# Save model and weights\n",
    "model_path = os.path.join(save_dir, model_name)\n",
    "model.save(model_path)"
   ]
  },
  {
   "cell_type": "markdown",
   "metadata": {},
   "source": [
    "## 해결 (Solution)\n",
    "\n",
    "저장된 모델을 이용해서 어떠한 상태(state)에서도 최적의 Q-value와 액션(action)을 예측한다. CartPole의 동작을 비디오로 저장해서 잘 동작 하는지 확인하자!\n",
    "\n",
    "\n",
    "학습된 CartPole의 묘기를 비디오로 저장하기 위한 코드이다."
   ]
  },
  {
   "cell_type": "code",
   "execution_count": null,
   "metadata": {},
   "outputs": [],
   "source": [
    "!pip install gym pyvirtualdisplay"
   ]
  },
  {
   "cell_type": "code",
   "execution_count": null,
   "metadata": {},
   "outputs": [],
   "source": [
    "!apt-get install xvfb python-opengl ffmpeg"
   ]
  },
  {
   "cell_type": "code",
   "execution_count": 6,
   "metadata": {},
   "outputs": [
    {
     "name": "stderr",
     "output_type": "stream",
     "text": [
      "W0929 17:30:22.150940 139839369533248 abstractdisplay.py:151] xdpyinfo was not found, X start can not be checked! Please install xdpyinfo!\n"
     ]
    }
   ],
   "source": [
    "from gym.wrappers import Monitor\n",
    "import matplotlib.pyplot as plt\n",
    "\n",
    "import base64\n",
    "from IPython.display import HTML\n",
    "from IPython import display as ipythondisplay\n",
    "\n",
    "%matplotlib inline\n",
    "\n",
    "from pyvirtualdisplay import Display\n",
    "display = Display(visible=0, size=(1400, 900))\n",
    "display.start()\n",
    "\n",
    "def show_video(file_infix):\n",
    "    with open('./video/openaigym.video.%s.video000000.mp4' % file_infix, 'r+b') as f:\n",
    "        video = f.read()\n",
    "        encoded = base64.b64encode(video)\n",
    "        ipythondisplay.display(HTML(data='''<video alt=\"Trained CartPole\" autoplay \n",
    "                loop style=\"height: 200px;\">\n",
    "                <source src=\"data:video/mp4;base64,{0}\" type=\"video/mp4\" />\n",
    "                 </video>'''.format(encoded.decode('ascii'))))\n",
    "    \n",
    "def wrap_env(env):\n",
    "    env = Monitor(env, './video', force=True)\n",
    "    return env"
   ]
  },
  {
   "cell_type": "markdown",
   "metadata": {},
   "source": [
    "저장된 모델을 불러온다."
   ]
  },
  {
   "cell_type": "code",
   "execution_count": 8,
   "metadata": {},
   "outputs": [],
   "source": [
    "from  tensorflow.keras.models import load_model\n",
    "import os\n",
    "\n",
    "load_dir = os.getcwd()\n",
    "model_name = 'keras_dqn_trained_model.h5'\n",
    "model_path = os.path.join(load_dir, model_name)\n",
    "model = load_model(model_path)"
   ]
  },
  {
   "cell_type": "markdown",
   "metadata": {},
   "source": [
    "막대기가 쓰러지지 않도록 카트를 잘 조종하고 있다! "
   ]
  },
  {
   "cell_type": "code",
   "execution_count": 15,
   "metadata": {},
   "outputs": [
    {
     "data": {
      "text/html": [
       "<video alt=\"Trained CartPole\" autoplay \n",
       "                loop style=\"height: 200px;\">\n",
       "                <source src=\"data:video/mp4;base64,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\" type=\"video/mp4\" />\n",
       "                 </video>"
      ],
      "text/plain": [
       "<IPython.core.display.HTML object>"
      ]
     },
     "metadata": {},
     "output_type": "display_data"
    }
   ],
   "source": [
    "import gym\n",
    "import numpy as np\n",
    "\n",
    "num_state = env.observation_space.shape[0]\n",
    "env = wrap_env(gym.make('CartPole-v1'))\n",
    "state = env.reset()\n",
    "done = False\n",
    "\n",
    "while not done:\n",
    "    state = np.array(state).reshape(1, num_state)\n",
    "    q_value = model.predict(state)\n",
    "    action = np.argmax(q_value[0])\n",
    "    state, reward, done, info = env.step(action)\n",
    "\n",
    "file_infix = env.file_infix\n",
    "env.close()\n",
    "\n",
    "show_video(file_infix)"
   ]
  }
 ],
 "metadata": {
  "kernelspec": {
   "display_name": "Python 3",
   "language": "python",
   "name": "python3"
  },
  "language_info": {
   "codemirror_mode": {
    "name": "ipython",
    "version": 3
   },
   "file_extension": ".py",
   "mimetype": "text/x-python",
   "name": "python",
   "nbconvert_exporter": "python",
   "pygments_lexer": "ipython3",
   "version": "3.7.3"
  }
 },
 "nbformat": 4,
 "nbformat_minor": 2
}
