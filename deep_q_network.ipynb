{
 "cells": [
  {
   "cell_type": "markdown",
   "metadata": {},
   "source": [
    "# Deep Q-Networks (DQN)\n",
    "\n",
    "Date: 2019-09-28  \n",
    "Author: skettee  \n",
    "Categories: Reinforcement Learning, Neural Network, Q-Learning    \n",
    "Tags: Environment, Agent, State, Action, Reward, Q-value    \n",
    "<!--eofm-->"
   ]
  },
  {
   "cell_type": "markdown",
   "metadata": {},
   "source": [
    "딥러닝 과 Q-Learning의 만남! DQN에 대해서 알아 보고 Gym에서 제공하는 문제를 해결하기 위해 DQN을 모델링 하고 최적의 액션을 예측하는 알고리듬을 만들어 보자.  \n",
    "<!--more-->\n",
    "\n",
    "실제로 돌려 보고 싶으면 구글 코랩으로 ~  \n",
    "\n",
    "[![Open In Colab](https://colab.research.google.com/assets/colab-badge.svg)](https://colab.research.google.com/github/skettee/notebooks/blob/master/deep_q_network.ipynb)"
   ]
  },
  {
   "cell_type": "markdown",
   "metadata": {},
   "source": [
    "## 문제 (Problem)\n",
    "\n",
    "👤 상사\n",
    "\n",
    "> 딥러닝을 강화 학습에 적용이 가능하다며?          \n",
    "> 아래 체육관(Gym)에 가서      \n",
    "> 'CartPole' 문제를 풀어 보게          \n",
    ">\n",
    "> https://gym.openai.com/envs/CartPole-v1/\n",
    "\n",
    "⚙️ 엔지니어\n",
    "\n",
    "> 오~ 드디어 딥러닝을 활용할 수 있겠구나!\n"
   ]
  },
  {
   "cell_type": "markdown",
   "metadata": {},
   "source": [
    "## 문제 분석 (Problem Anaysis)\n",
    "\n",
    "![CartPole](https://skettee.github.io/post/deep_q_network/cartpole.gif)\n",
    "\n",
    "검은색 카트(Cart) 위에 막대기(Pole)를 살짝 올려 놓고   \n",
    "검은색 카트를 좌우로 움직여서 막대기가 쓰러지지 않도록 하는 것이 목표다.    "
   ]
  },
  {
   "cell_type": "markdown",
   "metadata": {},
   "source": [
    "## 환경 (Environment)\n",
    "\n",
    "'CartPole' 의 환경은 네종류의 상태(State)와 2개의 액션(Action)으로 구성 되어 있다.   "
   ]
  },
  {
   "cell_type": "code",
   "execution_count": 1,
   "metadata": {},
   "outputs": [
    {
     "name": "stdout",
     "output_type": "stream",
     "text": [
      "State space:  Box(4,)\n",
      "Initial state:  [ 0.00567487  0.01806323 -0.00897363 -0.03876896]\n",
      "\n",
      "Action space:  Discrete(2)\n",
      "Random action:  1\n"
     ]
    }
   ],
   "source": [
    "import gym\n",
    "import numpy as np\n",
    "\n",
    "#\n",
    "# Environment\n",
    "#\n",
    "env = gym.make('CartPole-v1')\n",
    "state = env.reset()\n",
    "action = env.action_space.sample()\n",
    "\n",
    "print('State space: ', env.observation_space)\n",
    "print('Initial state: ', state)\n",
    "print('\\nAction space: ', env.action_space)\n",
    "print('Random action: ', action)"
   ]
  },
  {
   "cell_type": "markdown",
   "metadata": {},
   "source": [
    "### 액션 (Action)\n",
    "\n",
    "'CartPole'에서는 2개의 액션이 존재한다. 그리고 각각의 액션이 번호로 지정 되어 있다.\n",
    "\n",
    "$A = \\{0, 1\\}$   \n",
    "\n",
    "Num\t| Action\n",
    "----|----\n",
    "0 |\tPush cart to the left\n",
    "1 |\tPush cart to the right\n"
   ]
  },
  {
   "cell_type": "markdown",
   "metadata": {},
   "source": [
    "### 상태 (State)\n",
    "\n",
    "'CartPole'의 상태(State) $S$는 4개의 실수값의 배열로 되어 있다.   \n",
    "\n",
    "$S = \\begin{bmatrix}\n",
    "\\{ s_{00}, s_{01}, \\cdots\\}, \\\\\n",
    "\\{ s_{10}, s_{11}, \\cdots \\}, \\\\\n",
    "\\{ s_{20}, s_{21}, \\cdots \\}, \\\\\n",
    "\\{ s_{30}, s_{31}, \\cdots \\}\n",
    "\\end{bmatrix}$  \n",
    "\n",
    "Index | State                   | Min      | Max\n",
    "-----|-----------------|--------|------\n",
    "0      | Cart Position       | -4.8    | 4.8  \n",
    "1       | Cart Velocity       | -Inf     | Inf\n",
    "2      | Pole Angle           | -24 deg | 24 deg\n",
    "3      | Pole Velocity At Tip | -Inf     | Inf\n",
    "\n",
    "\n",
    "⚙️ 엔지니어\n",
    "\n",
    "> 4종류의 상태값 중에 하나가 0.0000001만 바뀌어도  \n",
    "> 상태가 바뀐다.  \n",
    "> 다시말하면  \n",
    ">\n",
    "> 상태(State)가 무한대이다!  \n",
    "> Q 테이블을 만드는 것은 불가능하다...  \n",
    ">"
   ]
  },
  {
   "cell_type": "markdown",
   "metadata": {},
   "source": [
    "### 보상 (Reward)\n",
    "\n",
    "매 스텝(step)마다 +1을 보상 받는다. 종료 스텝(termination step)에도 +1을 보상 받는다.\n",
    "\n",
    "⚙️ 엔지니어\n",
    "\n",
    "> 오래 버티면 높은 점수를 받는다!\n"
   ]
  },
  {
   "cell_type": "markdown",
   "metadata": {},
   "source": [
    "## DQN 모델링 (Modeling)\n",
    "\n",
    "아이디어는 단순하다. 샘플링된 상태(State)와 Q-value 데이터를 가지고 전체 상태에 대한 Q-value를 예측 하겠다는 것이다. 그리고 우리는 뉴럴 네트워크가 예측(Prediction)을 아주 잘 한다는 것을 알고 있다!  \n",
    "\n",
    "아래와 같이 3-레이어 뉴럴 네트워크를 구성한다.  \n",
    "\n",
    "![DQN Model](https://skettee.github.io/post/deep_q_network/dqn_model.png)\n",
    "\n",
    "### 데이터 수집 (Data Collection)\n",
    "\n",
    "입력 데이터 $X$는 상태(State), 출력 데이터 $Y$는 액션에 대한 Q-value이다.  𝜀-greedy 방식으로 탐색하면서 데이터를 수집한다. \n",
    "\n",
    "$\\begin{align}\n",
    "& X = \\{ x_1^{(i)}, x_2^{(i)}, x_3^{(i)}, x_4^{(i)} \\} \\\\\n",
    "& x_1^{(i)} : \\text{i 번째 Cart Position 값} \\\\\n",
    "& x_2^{(i)} : \\text{i 번째 Cart Velocity 값} \\\\\n",
    "& x_3^{(i)} : \\text{i 번째 Pole Angle 값} \\\\\n",
    "& x_4^{(i)} : \\text{i 번째 Pole Velocity At Tip 값} \\\\\n",
    "\\\\\n",
    "& Y = \\{ y_1^{(i)}, y_2^{(i)} \\} \\\\\n",
    "& y_1^{(i)} = r + \\gamma \\max_{a_0} q(s, a_0), \\quad \\text{i 번째 0번 액션에 대한 Q-value} \\\\\n",
    "& y_2^{(i)} = r + \\gamma \\max_{a_1} q(s, a_1), \\quad \\text{i 번째 1번 액션에 대한 Q-value}\n",
    "\\end{align}$\n"
   ]
  },
  {
   "cell_type": "markdown",
   "metadata": {},
   "source": [
    "### 손실 함수 (Loss Function)\n",
    "\n",
    "$\\begin{align}\n",
    "J(w) & = \\mathbb E_{\\pi} [(y - \\hat y)^2] \\\\\n",
    "& =  \\mathbb E_{\\pi} \\left [\\left (R_{t+1} + \\gamma \\max_{a'} Q(S_{t+1}, a') - Q(S_t, A_t, w) \\right)^2 \\right ]\n",
    "\\end{align}$\n",
    "\n",
    "### 경사 하강법 (Gradient Descent)  \n",
    "\n",
    "REPEAT(epoch) {    \n",
    "\n",
    "$ w \\leftarrow w-\\alpha \\dfrac{\\partial J(w,b)}{\\partial w}$  \n",
    "}  \n",
    "\n",
    "### 최적의 액션 예측 (Predict Optimal Action)  \n",
    "\n",
    "$\\hat A_t = \\text{argmax}_{a'}Q(S_t, a', w)$  "
   ]
  },
  {
   "cell_type": "markdown",
   "metadata": {},
   "source": [
    "### 케라스(Keras)로 모델링 (Modeling)\n",
    "\n",
    "1. 히든 레이어(hidden layer)  정의  \n",
    "     1. 히든 레이어 개수를 정의한다. 여기서는 2-hidden layer를 사용한다.  \n",
    "     2. 히든 레이어 유닛 개수를 정의한다. 여기서는 24개, 24개 유닛을 사용한다.  \n",
    "     3. 활성 함수(activation function)를 정의한다. 여기서는 ReLU 를 사용한다.  \n",
    "2. 출력 레이어(output layer)  정의   \n",
    "     1. 출력 레이어 유닛 개수를 정의한다. 여기서는 각 액션에 대한 Q-value이므로 2개 유닛을 사용한다.  \n",
    "     2. 활성 함수(activation function)를 정의한다. Linear 를 사용한다.  \n",
    "3. 손실 함수 (Loss function)를 정의한다. 평균 제곱 오차(mean squared error) 를 사용한다.  \n",
    "4. 옵티마이저(Optimizer)를 정의한다. 여기서는 Adam 을 사용하고, learning rate는 0.0001을 사용한다."
   ]
  },
  {
   "cell_type": "code",
   "execution_count": 2,
   "metadata": {},
   "outputs": [
    {
     "name": "stderr",
     "output_type": "stream",
     "text": [
      "WARNING: Logging before flag parsing goes to stderr.\n",
      "W0929 19:16:32.085939 140315350894400 deprecation.py:506] From /home/dataman/anaconda3/lib/python3.7/site-packages/tensorflow/python/ops/init_ops.py:1251: calling VarianceScaling.__init__ (from tensorflow.python.ops.init_ops) with dtype is deprecated and will be removed in a future version.\n",
      "Instructions for updating:\n",
      "Call initializer instance with the dtype argument instead of passing it to the constructor\n"
     ]
    }
   ],
   "source": [
    "# DQN Modeling\n",
    "from tensorflow.keras import Sequential\n",
    "from tensorflow.keras.layers import Dense\n",
    "from tensorflow.keras.optimizers import Adam\n",
    "\n",
    "num_state = env.observation_space.shape[0]\n",
    "num_action = env.action_space.n\n",
    "learning_rate = 0.0001\n",
    "\n",
    "model = Sequential()\n",
    "model.add(Dense(24, input_dim= num_state, activation='relu'))\n",
    "model.add(Dense(24, activation='relu'))\n",
    "model.add(Dense(num_action, activation='linear'))\n",
    "model.compile(loss='mse', optimizer=Adam(learning_rate=learning_rate))"
   ]
  },
  {
   "cell_type": "markdown",
   "metadata": {},
   "source": [
    "## 에이전트 (Agent)\n",
    "\n",
    "### 메모리 (Memory)\n",
    "\n",
    "Q-Learning에서 얻은 데이터 ($s_t, a_t, r_{t+1}, s_{t+1}$) 들을 딥러닝에서 사용하기 위해서 메모리에 저장한다.\n",
    "\n",
    "$\\text{memory} = [(s_0, a_0, r_1, s_1), (s_1, a_1, r_2, s_2), \\cdots]$\n",
    "\n",
    "### 리플레이 (Replay)\n",
    "\n",
    "하나의 에피소드가 끝나면 메모리에 저장된 데이터들을 랜덤(random), 미니배치(mini-batch)로 샘플링해서 DQN 모델에 넣고 훈련한다.  \n"
   ]
  },
  {
   "cell_type": "markdown",
   "metadata": {},
   "source": [
    "## 학습 (Learning)\n",
    "\n",
    "코드는 https://github.com/keon/deep-q-learning 를 참조했습니다.  \n",
    "\n",
    "돌려 놓고 커피 한잔 하세여~ ☕️"
   ]
  },
  {
   "cell_type": "code",
   "execution_count": 3,
   "metadata": {},
   "outputs": [
    {
     "name": "stderr",
     "output_type": "stream",
     "text": [
      "100%|██████████| 5000/5000 [10:48<00:00,  4.72it/s]\n"
     ]
    }
   ],
   "source": [
    "import random\n",
    "from tqdm import tqdm\n",
    "\n",
    "num_episode = 5000\n",
    "memory = []\n",
    "\n",
    "# Hyper parameter\n",
    "epsilon = 0.3\n",
    "gamma = 0.9\n",
    "batch_size = 32\n",
    "\n",
    "# DQN Learning\n",
    "for episode in tqdm(range(num_episode)):\n",
    "    state = env.reset()\n",
    "    state = np.array(state).reshape(1, num_state)\n",
    "    done = False\n",
    "    while not done:\n",
    "        if np.random.uniform() < epsilon:\n",
    "            action = env.action_space.sample()\n",
    "        else:\n",
    "            q_value = model.predict(state)\n",
    "            action = np.argmax(q_value[0])\n",
    "        next_state, reward, done, info = env.step(action)\n",
    "        next_state = np.array(next_state).reshape(1, num_state)\n",
    "        # Memory\n",
    "        memory.append((state, action, reward, next_state, done))\n",
    "        \n",
    "        state = next_state\n",
    "    \n",
    "    # Replay\n",
    "    if len(memory) > batch_size:\n",
    "        mini_batch = random.sample(memory, batch_size)\n",
    "        for state, action, reward, next_state, done in mini_batch:\n",
    "            target = reward\n",
    "            if not done:\n",
    "                target = reward + gamma * (np.max(model.predict(next_state)[0]))\n",
    "            q_value = model.predict(state)\n",
    "            q_value[0][action] = target\n",
    "            model.fit(state, q_value, epochs=1, verbose=0)\n",
    "\n",
    "env.close()"
   ]
  },
  {
   "cell_type": "markdown",
   "metadata": {},
   "source": [
    "### 모델 저장 (Save Model)"
   ]
  },
  {
   "cell_type": "code",
   "execution_count": 4,
   "metadata": {},
   "outputs": [],
   "source": [
    "import os\n",
    "\n",
    "save_dir = os.getcwd()\n",
    "model_name = 'keras_dqn_trained_model.h5'\n",
    "\n",
    "# Save model and weights\n",
    "model_path = os.path.join(save_dir, model_name)\n",
    "model.save(model_path)"
   ]
  },
  {
   "cell_type": "markdown",
   "metadata": {},
   "source": [
    "## 해결 (Solution)\n",
    "\n",
    "저장된 모델을 이용해서 어떠한 상태(state)에서도 최적의 Q-value와 액션(action)을 예측한다. CartPole의 동작을 비디오로 저장해서 잘 동작 하는지 확인하자!\n",
    "\n",
    "\n",
    "학습된 CartPole의 묘기를 비디오로 저장하기 위한 코드이다."
   ]
  },
  {
   "cell_type": "code",
   "execution_count": null,
   "metadata": {},
   "outputs": [],
   "source": [
    "!pip install gym pyvirtualdisplay"
   ]
  },
  {
   "cell_type": "code",
   "execution_count": null,
   "metadata": {},
   "outputs": [],
   "source": [
    "!apt-get install xvfb python-opengl ffmpeg"
   ]
  },
  {
   "cell_type": "code",
   "execution_count": 5,
   "metadata": {},
   "outputs": [
    {
     "name": "stderr",
     "output_type": "stream",
     "text": [
      "W0929 19:27:38.234755 140315350894400 abstractdisplay.py:151] xdpyinfo was not found, X start can not be checked! Please install xdpyinfo!\n"
     ]
    }
   ],
   "source": [
    "from gym.wrappers import Monitor\n",
    "import matplotlib.pyplot as plt\n",
    "\n",
    "import base64\n",
    "from IPython.display import HTML\n",
    "from IPython import display as ipythondisplay\n",
    "\n",
    "%matplotlib inline\n",
    "\n",
    "from pyvirtualdisplay import Display\n",
    "display = Display(visible=0, size=(1400, 900))\n",
    "display.start()\n",
    "\n",
    "def show_video(file_infix):\n",
    "    with open('./video/openaigym.video.%s.video000000.mp4' % file_infix, 'r+b') as f:\n",
    "        video = f.read()\n",
    "        encoded = base64.b64encode(video)\n",
    "        ipythondisplay.display(HTML(data='''<video alt=\"Trained CartPole\" autoplay \n",
    "                loop style=\"height: 200px;\">\n",
    "                <source src=\"data:video/mp4;base64,{0}\" type=\"video/mp4\" />\n",
    "                 </video>'''.format(encoded.decode('ascii'))))\n",
    "    \n",
    "def wrap_env(env):\n",
    "    env = Monitor(env, './video', force=True)\n",
    "    return env"
   ]
  },
  {
   "cell_type": "markdown",
   "metadata": {},
   "source": [
    "저장된 모델을 불러온다."
   ]
  },
  {
   "cell_type": "code",
   "execution_count": 7,
   "metadata": {},
   "outputs": [],
   "source": [
    "from  tensorflow.keras.models import load_model\n",
    "import os\n",
    "\n",
    "load_dir = os.getcwd()\n",
    "model_name = 'keras_dqn_trained_model.h5'\n",
    "model_path = os.path.join(load_dir, model_name)\n",
    "model = load_model(model_path)"
   ]
  },
  {
   "cell_type": "markdown",
   "metadata": {},
   "source": [
    "막대기가 쓰러지지 않도록 카트를 잘 조종하고 있다! "
   ]
  },
  {
   "cell_type": "code",
   "execution_count": 8,
   "metadata": {},
   "outputs": [
    {
     "data": {
      "text/html": [
       "<video alt=\"Trained CartPole\" autoplay \n",
       "                loop style=\"height: 200px;\">\n",
       "                <source src=\"data:video/mp4;base64,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\" type=\"video/mp4\" />\n",
       "                 </video>"
      ],
      "text/plain": [
       "<IPython.core.display.HTML object>"
      ]
     },
     "metadata": {},
     "output_type": "display_data"
    }
   ],
   "source": [
    "import gym\n",
    "import numpy as np\n",
    "\n",
    "num_state = env.observation_space.shape[0]\n",
    "env = wrap_env(gym.make('CartPole-v1'))\n",
    "state = env.reset()\n",
    "done = False\n",
    "\n",
    "while not done:\n",
    "    state = np.array(state).reshape(1, num_state)\n",
    "    q_value = model.predict(state)\n",
    "    action = np.argmax(q_value[0])\n",
    "    state, reward, done, info = env.step(action)\n",
    "\n",
    "file_infix = env.file_infix\n",
    "env.close()\n",
    "\n",
    "show_video(file_infix)"
   ]
  }
 ],
 "metadata": {
  "kernelspec": {
   "display_name": "Python 3",
   "language": "python",
   "name": "python3"
  },
  "language_info": {
   "codemirror_mode": {
    "name": "ipython",
    "version": 3
   },
   "file_extension": ".py",
   "mimetype": "text/x-python",
   "name": "python",
   "nbconvert_exporter": "python",
   "pygments_lexer": "ipython3",
   "version": "3.7.3"
  }
 },
 "nbformat": 4,
 "nbformat_minor": 2
}
