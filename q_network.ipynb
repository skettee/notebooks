{
 "cells": [
  {
   "cell_type": "markdown",
   "metadata": {},
   "source": [
    "# Q 네트워크 (Q-Networks)  \n",
    "\n",
    "Date: 2019-09-29  \n",
    "Author: skettee  \n",
    "Categories: Reinforcement Learning, Neural Network, Q-Learning    \n",
    "Tags: Environment, Agent, State, Action, Reward, Q-value, CartPole      \n",
    "<!--eofm-->"
   ]
  },
  {
   "cell_type": "markdown",
   "metadata": {},
   "source": [
    "뉴럴 네트워크와 Q-Learning의 만남! Q-네트워크에 대해서 알아 보고 Gym에서 제공하는 문제를 해결하기 위해 QN을 모델링 하고 최적의 액션을 예측하는 알고리듬을 만들어 보자.  \n",
    "<!--more-->\n",
    "\n",
    "실제로 돌려 보고 싶으면 구글 코랩으로 ~  \n",
    "\n",
    "[![Open In Colab](https://colab.research.google.com/assets/colab-badge.svg)](https://colab.research.google.com/github/skettee/notebooks/blob/master/deep_q_network.ipynb)"
   ]
  },
  {
   "cell_type": "markdown",
   "metadata": {},
   "source": [
    "## 문제 (Problem)\n",
    "\n",
    "👤 보스\n",
    "\n",
    "> 뉴럴 네트워크를 강화 학습에 적용이 가능하다며?          \n",
    "> 아래 체육관(Gym)에 가서      \n",
    "> 'CartPole' 문제를 풀어 보게          \n",
    ">\n",
    "> https://gym.openai.com/envs/CartPole-v1/\n",
    "\n",
    "⚙️ 엔지니어\n",
    "\n",
    "> 오~ 드디어 딥러닝을 활용할 수 있겠구나!\n"
   ]
  },
  {
   "cell_type": "markdown",
   "metadata": {},
   "source": [
    "## 문제 분석 (Problem Anaysis)\n",
    "\n",
    "![CartPole](https://skettee.github.io/post/q_network/cartpole.gif)\n",
    "\n",
    "검은색 카트(Cart) 위에 막대기(Pole)를 살짝 올려 놓고   \n",
    "검은색 카트를 좌우로 움직여서 막대기가 쓰러지지 않도록 하는 것이 목표다. (조금만 잘못 움직여도 막대기는 쓰러진다...)       "
   ]
  },
  {
   "cell_type": "markdown",
   "metadata": {},
   "source": [
    "## 환경 (Environment)\n",
    "\n",
    "'CartPole' 의 환경은 네종류의 상태(State)와 2개의 액션(Action)으로 구성 되어 있다.   "
   ]
  },
  {
   "cell_type": "code",
   "execution_count": 1,
   "metadata": {},
   "outputs": [
    {
     "name": "stdout",
     "output_type": "stream",
     "text": [
      "State space:  Box(4,)\n",
      "Initial state:  [ 0.02349072  0.03010665  0.03237231 -0.02729614]\n",
      "\n",
      "Action space:  Discrete(2)\n",
      "Random action:  0\n"
     ]
    }
   ],
   "source": [
    "import gym\n",
    "import numpy as np\n",
    "\n",
    "#\n",
    "# Environment\n",
    "#\n",
    "env = gym.make('CartPole-v1')\n",
    "state = env.reset()\n",
    "action = env.action_space.sample()\n",
    "\n",
    "print('State space: ', env.observation_space)\n",
    "print('Initial state: ', state)\n",
    "print('\\nAction space: ', env.action_space)\n",
    "print('Random action: ', action)"
   ]
  },
  {
   "cell_type": "markdown",
   "metadata": {},
   "source": [
    "### 액션 (Action)\n",
    "\n",
    "'CartPole'에서는 2개의 액션이 존재한다. 그리고 각각의 액션이 번호로 지정 되어 있다.\n",
    "\n",
    "$A = \\{0, 1\\}$   \n",
    "\n",
    "Num\t| Action\n",
    "----|----\n",
    "0 |\tPush cart to the left\n",
    "1 |\tPush cart to the right\n"
   ]
  },
  {
   "cell_type": "markdown",
   "metadata": {},
   "source": [
    "### 상태 (State)\n",
    "\n",
    "'CartPole'의 상태(State) $S$는 4개의 실수값의 배열로 되어 있다.   \n",
    "\n",
    "$S = \\begin{bmatrix}\n",
    "\\{ s_{00}, s_{01}, \\cdots\\}, \\\\\n",
    "\\{ s_{10}, s_{11}, \\cdots \\}, \\\\\n",
    "\\{ s_{20}, s_{21}, \\cdots \\}, \\\\\n",
    "\\{ s_{30}, s_{31}, \\cdots \\}\n",
    "\\end{bmatrix}$  \n",
    "\n",
    "Index | State                   | Min      | Max\n",
    "-----|-----------------|--------|------\n",
    "0      | Cart Position       | -4.8    | 4.8  \n",
    "1       | Cart Velocity       | -Inf     | Inf\n",
    "2      | Pole Angle           | -24 deg | 24 deg\n",
    "3      | Pole Velocity At Tip | -Inf     | Inf\n",
    "\n",
    "\n",
    "⚙️ 엔지니어\n",
    "\n",
    "> 4종류의 상태값 중에 하나가 0.0000001만 바뀌어도  \n",
    "> 상태가 바뀐다.  \n",
    "> 다시말하면  \n",
    ">\n",
    "> 상태(State)가 무한대이다!  \n",
    "> Q 테이블을 만드는 것은 불가능하다...  \n",
    ">"
   ]
  },
  {
   "cell_type": "markdown",
   "metadata": {},
   "source": [
    "### 보상 (Reward)\n",
    "\n",
    "매 스텝(step)마다 +1을 보상 받는다. 종료 스텝(termination step)에도 +1을 보상 받는다.\n",
    "\n",
    "⚙️ 엔지니어\n",
    "\n",
    "> 오래 버티면 높은 점수를 받는다!\n"
   ]
  },
  {
   "cell_type": "markdown",
   "metadata": {},
   "source": [
    "## Q-Network 모델링 (Modeling)\n",
    "\n",
    "아이디어는 단순하다. 샘플링된 상태(State)와 Q-value 데이터를 가지고 전체 상태에 대한 Q-value를 예측 하겠다는 것이다. 그리고 우리는 뉴럴 네트워크가 예측(Prediction)을 아주 잘 한다는 것을 알고 있다!  \n",
    "\n",
    "아래와 같이 3-레이어 뉴럴 네트워크를 구성한다.  \n",
    "\n",
    "![DQN Model](https://skettee.github.io/post/q_network/dqn_model.png)\n",
    "\n",
    "\n",
    "### 데이터 수집 (Data Collection)\n",
    "\n",
    "입력 데이터 $X$는 상태(State), $Y$는 액션에 대한 Q-value (Q-Learning에서 타겟) 이다.    \n",
    "\n",
    "$\\begin{align}\n",
    "& X = \\{ s_1^{(i)}, s_2^{(i)}, s_3^{(i)}, s_4^{(i)} \\} \\\\\n",
    "& s_1^{(i)} : \\text{i 번째 Cart Position 값} \\\\\n",
    "& s_2^{(i)} : \\text{i 번째 Cart Velocity 값} \\\\\n",
    "& s_3^{(i)} : \\text{i 번째 Pole Angle 값} \\\\\n",
    "& s_4^{(i)} : \\text{i 번째 Pole Velocity At Tip 값} \\\\\n",
    "\\\\\n",
    "& Y = \\{ q_1^{(i)}, q_2^{(i)} \\} \\\\\n",
    "& q_1^{(i)} = r^{(i)} + \\gamma \\max_{a_0} q^{(i)}(s_{t+1}, a_0), \\quad \\text{i 번째 0번 액션에 대한 Q-value} \\\\\n",
    "& q_2^{(i)} = r^{(i)} + \\gamma \\max_{a_1} q^{(i)}(s_{t+1}, a_1), \\quad \\text{i 번째 1번 액션에 대한 Q-value}  \n",
    "\\end{align}$\n",
    "\n",
    "### 모델링 (Modeling)\n",
    "\n",
    "$\\begin{align}\n",
    "& \\hat Y = \\{ \\hat q_1^{(i)}, \\hat q_2^{(i)} \\} \\\\\n",
    "& \\hat q_1^{(i)} = Q(s, a_0, w) \\\\\n",
    "& \\hat q_2^{(i)} = Q(s, a_1, w)\n",
    "\\end{align}$\n"
   ]
  },
  {
   "cell_type": "markdown",
   "metadata": {},
   "source": [
    "### 손실 함수 (Loss Function)\n",
    "\n",
    "$\\begin{align}\n",
    "J(w) & = \\mathbb E_{\\pi} [(q - \\hat q)^2] \\\\\n",
    "& =  \\mathbb E_{\\pi} \\left [\\left (R_{t+1} + \\gamma \\max_{a'} Q(S_{t+1}, a') - Q(S_t, A_t, w) \\right)^2 \\right ]\n",
    "\\end{align}$\n",
    "\n",
    "### 경사 하강법 (Gradient Descent)  \n",
    "\n",
    "REPEAT(epoch) {    \n",
    "\n",
    "$ w \\leftarrow w-\\alpha \\dfrac{\\partial J(w)}{\\partial w}$  \n",
    "}  \n",
    "\n",
    "### 최적의 액션 예측 (Predict Optimal Action)  \n",
    "\n",
    "$\\hat A_t = \\text{argmax}_{a'}Q(S_t, a', w)$  "
   ]
  },
  {
   "cell_type": "markdown",
   "metadata": {},
   "source": [
    "### 케라스(Keras)로 모델링 (Modeling)\n",
    "\n",
    "1. 히든 레이어(hidden layer)  정의  \n",
    "     1. 히든 레이어 개수를 정의한다. 여기서는 2-hidden layer를 사용한다.  \n",
    "     2. 히든 레이어 유닛 개수를 정의한다. 여기서는 32개, 32개 유닛을 사용한다.  \n",
    "     3. 활성 함수(activation function)를 정의한다. 여기서는 ReLU 를 사용한다.  \n",
    "2. 출력 레이어(output layer)  정의   \n",
    "     1. 출력 레이어 유닛 개수를 정의한다. 여기서는 각 액션에 대한 Q-value이므로 2개 유닛을 사용한다.  \n",
    "3. 손실 함수 (Loss function)를 정의한다. 평균 제곱 오차(mean squared error) 를 사용한다.  \n",
    "4. 옵티마이저(Optimizer)를 정의한다. 여기서는 Adam 을 사용한다.  "
   ]
  },
  {
   "cell_type": "code",
   "execution_count": 3,
   "metadata": {},
   "outputs": [],
   "source": [
    "# Q-Network Modeling\n",
    "from tensorflow.keras import Sequential\n",
    "from tensorflow.keras.layers import Dense\n",
    "\n",
    "num_state = env.observation_space.shape[0]\n",
    "num_action = env.action_space.n\n",
    "\n",
    "model = Sequential()\n",
    "model.add(Dense(32, input_dim= num_state, activation='relu'))\n",
    "model.add(Dense(32, activation='relu'))\n",
    "model.add(Dense(num_action, activation=None))\n",
    "model.compile(loss='mse', optimizer=\"adam\")"
   ]
  },
  {
   "cell_type": "markdown",
   "metadata": {},
   "source": [
    "## 에이전트 (Agent)\n",
    "\n",
    "𝜀-greedy 방식으로 탐색하면서 데이터를 수집한다.\n",
    "\n",
    "### 메모리 (Memory)\n",
    "\n",
    "Q-Learning에서 얻은 데이터 ($s_t, a_t, r_{t+1}, s_{t+1}$) 들을 뉴럴 네트워크에서 사용하기 위해서 메모리에 저장한다.\n",
    "\n",
    "$\\text{memory} = [(s_0, a_0, r_1, s_1), (s_1, a_1, r_2, s_2), \\cdots]$\n",
    "\n",
    "### 리플레이 (Replay)\n",
    "\n",
    "메모리에 저장된 데이터들을 QN 모델에 넣고 훈련한다.  \n"
   ]
  },
  {
   "cell_type": "markdown",
   "metadata": {},
   "source": [
    "## 학습 (Learning)\n",
    "\n",
    "돌려 놓고 커피 한잔 하세여~ ☕️"
   ]
  },
  {
   "cell_type": "code",
   "execution_count": 4,
   "metadata": {},
   "outputs": [
    {
     "name": "stderr",
     "output_type": "stream",
     "text": [
      "100%|██████████| 500/500 [20:35<00:00,  3.16s/it]\n"
     ]
    }
   ],
   "source": [
    "from tqdm import tqdm\n",
    "\n",
    "num_iteration = 500\n",
    "min_timesteps_per_batch = 2500\n",
    "\n",
    "# Hyper parameter\n",
    "epsilon = 0.3\n",
    "gamma = 0.95\n",
    "batch_size = 32\n",
    "\n",
    "# Q-Network Learning\n",
    "for i in tqdm(range(num_iteration)):\n",
    "    timesteps_this_batch = 0\n",
    "    memory = []\n",
    "    while True:\n",
    "        state = env.reset()\n",
    "        done = False\n",
    "        while not done:\n",
    "            if np.random.uniform() < epsilon:\n",
    "                action = env.action_space.sample()\n",
    "            else:\n",
    "                q_value = model.predict(state.reshape(1, num_state))\n",
    "                action = np.argmax(q_value[0])\n",
    "            next_state, reward, done, info = env.step(action)\n",
    "            # Memory\n",
    "            memory.append((state, action, reward, next_state, done))\n",
    "\n",
    "            state = next_state\n",
    "\n",
    "        timesteps_this_batch += len(memory)\n",
    "        if timesteps_this_batch > min_timesteps_per_batch:\n",
    "            break\n",
    "\n",
    "    # Replay   \n",
    "    for state, action, reward, next_state, done in memory:\n",
    "        if done:\n",
    "            target = reward\n",
    "        else:\n",
    "            target = reward + gamma * (np.max(model.predict(next_state.reshape(1, num_state))[0]))\n",
    "        q_value = model.predict(state.reshape(1, num_state))\n",
    "        q_value[0][action] = target\n",
    "        model.fit(state.reshape(1, num_state), q_value, epochs=1, batch_size=32, verbose=0)\n",
    "\n",
    "env.close()"
   ]
  },
  {
   "cell_type": "markdown",
   "metadata": {},
   "source": [
    "### 모델 저장 (Save Model)"
   ]
  },
  {
   "cell_type": "code",
   "execution_count": 5,
   "metadata": {},
   "outputs": [],
   "source": [
    "import os\n",
    "\n",
    "save_dir = os.getcwd()\n",
    "model_name = 'keras_dqn_trained_model.h5'\n",
    "\n",
    "# Save model and weights\n",
    "model_path = os.path.join(save_dir, model_name)\n",
    "model.save(model_path)"
   ]
  },
  {
   "cell_type": "markdown",
   "metadata": {},
   "source": [
    "## 해결 (Solution)\n",
    "\n",
    "저장된 모델을 이용해서 어떠한 상태(state)에서도 최적의 Q-value와 액션(action)을 예측한다. CartPole의 동작을 비디오로 저장해서 잘 동작 하는지 확인하자!\n",
    "\n",
    "\n",
    "학습된 CartPole의 묘기를 비디오로 저장하기 위한 코드이다."
   ]
  },
  {
   "cell_type": "code",
   "execution_count": null,
   "metadata": {},
   "outputs": [],
   "source": [
    "!pip install gym pyvirtualdisplay"
   ]
  },
  {
   "cell_type": "code",
   "execution_count": null,
   "metadata": {},
   "outputs": [],
   "source": [
    "!apt-get install xvfb python-opengl ffmpeg"
   ]
  },
  {
   "cell_type": "code",
   "execution_count": 6,
   "metadata": {},
   "outputs": [
    {
     "name": "stderr",
     "output_type": "stream",
     "text": [
      "W1008 12:17:57.362279 140568074921792 abstractdisplay.py:151] xdpyinfo was not found, X start can not be checked! Please install xdpyinfo!\n"
     ]
    }
   ],
   "source": [
    "from gym.wrappers import Monitor\n",
    "\n",
    "import base64\n",
    "from IPython.display import HTML\n",
    "from IPython import display as ipythondisplay\n",
    "\n",
    "from pyvirtualdisplay import Display\n",
    "display = Display(visible=0, size=(1400, 900))\n",
    "display.start()\n",
    "\n",
    "def show_video(file_infix):\n",
    "    with open('./video/openaigym.video.%s.video000000.mp4' % file_infix, 'r+b') as f:\n",
    "        video = f.read()\n",
    "        encoded = base64.b64encode(video)\n",
    "        ipythondisplay.display(HTML(data='''<video alt=\"Trained CartPole\" autoplay \n",
    "                loop style=\"height: 200px;\">\n",
    "                <source src=\"data:video/mp4;base64,{0}\" type=\"video/mp4\" />\n",
    "                 </video>'''.format(encoded.decode('ascii'))))\n",
    "    \n",
    "def wrap_env(env):\n",
    "    env = Monitor(env, './video', force=True)\n",
    "    return env"
   ]
  },
  {
   "cell_type": "markdown",
   "metadata": {},
   "source": [
    "저장된 모델을 불러온다."
   ]
  },
  {
   "cell_type": "code",
   "execution_count": 8,
   "metadata": {},
   "outputs": [],
   "source": [
    "from  tensorflow.keras.models import load_model\n",
    "import os\n",
    "\n",
    "load_dir = os.getcwd()\n",
    "model_name = 'keras_dqn_trained_model.h5'\n",
    "model_path = os.path.join(load_dir, model_name)\n",
    "model = load_model(model_path)"
   ]
  },
  {
   "cell_type": "markdown",
   "metadata": {},
   "source": [
    "막대기가 쓰러지지 않도록 카트를 잘 조종하고 있다! "
   ]
  },
  {
   "cell_type": "code",
   "execution_count": 9,
   "metadata": {},
   "outputs": [
    {
     "data": {
      "text/html": [
       "<video alt=\"Trained CartPole\" autoplay \n",
       "                loop style=\"height: 200px;\">\n",
       "                <source src=\"data:video/mp4;base64,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\" type=\"video/mp4\" />\n",
       "                 </video>"
      ],
      "text/plain": [
       "<IPython.core.display.HTML object>"
      ]
     },
     "metadata": {},
     "output_type": "display_data"
    }
   ],
   "source": [
    "import gym\n",
    "import numpy as np\n",
    "\n",
    "env = wrap_env(gym.make('CartPole-v1'))\n",
    "num_state = env.observation_space.shape[0]\n",
    "state = env.reset()\n",
    "done = False\n",
    "\n",
    "while not done:\n",
    "    state = np.array(state).reshape(1, num_state)\n",
    "    q_value = model.predict(state)\n",
    "    action = np.argmax(q_value[0])\n",
    "    state, reward, done, info = env.step(action)\n",
    "\n",
    "file_infix = env.file_infix\n",
    "env.close()\n",
    "\n",
    "show_video(file_infix)"
   ]
  },
  {
   "cell_type": "markdown",
   "metadata": {},
   "source": [
    "- 참고한 코드는 아래와 같다.  \n",
    "    https://github.com/keon/deep-q-learning"
   ]
  }
 ],
 "metadata": {
  "kernelspec": {
   "display_name": "Python 3",
   "language": "python",
   "name": "python3"
  },
  "language_info": {
   "codemirror_mode": {
    "name": "ipython",
    "version": 3
   },
   "file_extension": ".py",
   "mimetype": "text/x-python",
   "name": "python",
   "nbconvert_exporter": "python",
   "pygments_lexer": "ipython3",
   "version": "3.7.3"
  }
 },
 "nbformat": 4,
 "nbformat_minor": 2
}
