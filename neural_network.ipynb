{
 "cells": [
  {
   "cell_type": "markdown",
   "metadata": {},
   "source": [
    "# 뉴럴 네트워크 (Neural Network)\n",
    "\n",
    "Date: 2019-8-29  \n",
    "Author: skettee  \n",
    "Categories: Deep Learning, Neural Network  \n",
    "Tags: 딥러닝, 뉴럴 네트워크, 원-핫 인코딩, 소프트맥스\n",
    "<!--eofm-->"
   ]
  },
  {
   "cell_type": "markdown",
   "metadata": {},
   "source": [
    "\n",
    "딥러닝의 세계로 들어가기 위해 알아야 하는 세번째 모델인 뉴럴 네트워크(Neural Network)에 대해 알아보고 keras를 이용해서 모델링을 해보자!\n",
    "<!--more-->\n",
    "\n",
    "실제로 돌려 보고 싶으면 구글 코랩으로 ~  \n",
    "\n",
    "[![Open In Colab](https://colab.research.google.com/assets/colab-badge.svg)](https://colab.research.google.com/github/skettee/notebooks/blob/master/neural_network.ipynb)"
   ]
  },
  {
   "cell_type": "markdown",
   "metadata": {},
   "source": [
    "## 문제 (Problem)\n",
    "\n",
    "💰 고객\n",
    "\n",
    "> 덕분에 친추가 되었어요. 고마워요~\n",
    ">\n",
    "> 그 친구가 숙제를 부탁했는데... 해결해 주세요.\n",
    ">\n",
    "> 아래와 같이 입력과 출력을 하는 프로그램이 필요해요.  \n",
    ">\n",
    "> 입력: 1 0 0 0 0 0 0 0 0 0, 출력: 0  \n",
    "> 입력: 0 1 0 0 0 0 0 0 0 0, 출력: 1  \n",
    "> 입력: 0 0 1 0 0 0 0 0 0 0, 출력: 2  \n",
    "> 입력: 0 0 0 1 0 0 0 0 0 0, 출력: 3  \n",
    "> 입력: 0 0 0 0 1 0 0 0 0 0, 출력: 4  \n",
    "> 입력: 0 0 0 0 0 1 0 0 0 0, 출력: 5  \n",
    "> 입력: 0 0 0 0 0 0 1 0 0 0, 출력: 6  \n",
    "> 입력: 0 0 0 0 0 0 0 1 0 0, 출력: 7   \n",
    "> 입력: 0 0 0 0 0 0 0 0 1 0, 출력: 8   \n",
    "> 입력: 0 0 0 0 0 0 0 0 0 1, 출력: 9     \n",
    ">  \n",
    "> 데이터는 아래에 있어요.  "
   ]
  },
  {
   "cell_type": "code",
   "execution_count": 1,
   "metadata": {},
   "outputs": [],
   "source": [
    "input_data = [\n",
    "    [1, 0, 0, 0, 0, 0, 0, 0, 0, 0],\n",
    "    [0, 1, 0, 0, 0, 0, 0, 0, 0, 0],\n",
    "    [0, 0, 1, 0, 0, 0, 0, 0, 0, 0],\n",
    "    [0, 0, 0, 1, 0, 0, 0, 0, 0, 0],\n",
    "    [0, 0, 0, 0, 1, 0, 0, 0, 0, 0],\n",
    "    [0, 0, 0, 0, 0, 1, 0, 0, 0, 0],\n",
    "    [0, 0, 0, 0, 0, 0, 1, 0, 0, 0],\n",
    "    [0, 0, 0, 0, 0, 0, 0, 1, 0, 0],\n",
    "    [0, 0, 0, 0, 0, 0, 0, 0, 1, 0],\n",
    "    [0, 0, 0, 0, 0, 0, 0, 0, 0, 1],\n",
    "]\n",
    "\n",
    "output_data = [0, 1, 2, 3, 4, 5, 6, 7, 8, 9]"
   ]
  },
  {
   "cell_type": "markdown",
   "metadata": {},
   "source": [
    "⚙️ 엔지니어\n",
    "\n",
    "> 이건 제가 코딩해서 바로 만들어 드릴 수 있습니다!  "
   ]
  },
  {
   "cell_type": "code",
   "execution_count": 2,
   "metadata": {},
   "outputs": [
    {
     "name": "stdout",
     "output_type": "stream",
     "text": [
      "input data is [0, 0, 0, 0, 0, 1, 0, 0, 0, 0] and ouput is 5\n"
     ]
    }
   ],
   "source": [
    "import numpy as np\n",
    "\n",
    "def human_coding(x):\n",
    "    for i in range(len(x)):\n",
    "        if x[i] == 1:\n",
    "            return i\n",
    "    return None\n",
    "\n",
    "test_data =  [0, 0, 0, 0, 0, 1, 0, 0, 0, 0]\n",
    "result = human_coding(test_data)\n",
    "print('input data is {} and ouput is {}'.format(test_data, result))"
   ]
  },
  {
   "cell_type": "markdown",
   "metadata": {},
   "source": [
    "💰 고객\n",
    "\n",
    "> 아... 조건이 있어요.  \n",
    ">\n",
    "> 2-레이어 뉴럴 네트워크(NN)로 만들어 주세요.  \n",
    "> 히든 레이어(hidden layer)는 3개의 유닛들(units)로 구성되게 해 주세요.  \n",
    "\n",
    "⚙️ 엔지니어\n",
    "\n",
    "> ㅅㅂ"
   ]
  },
  {
   "cell_type": "markdown",
   "metadata": {},
   "source": [
    "## 뉴럴 네트워크(Neural Network) 구성\n",
    "\n",
    "### 뉴런 모델 (Neuron model)\n",
    "\n",
    "뉴런(Neuron) 모델 은 앞에서 학습한 로지스틱 모델과 같다.  \n",
    "예를 들어서 3개의 변수($x_1$, $x_2$, $x_3$)를 입력 받을 경우    \n",
    "$z=w_{1}x_{1} + w_{2}x_{2} + w_{3}x_{3} + b$가 되고  \n",
    "$a=\\sigma(z)$ 가 된다.  \n",
    "아래 그림과 같이 표현 된다.  \n",
    "\n",
    "![뉴런 모델](https://skettee.github.io/post/neural_network/neuron_model.png)"
   ]
  },
  {
   "cell_type": "markdown",
   "metadata": {},
   "source": [
    "### 뉴럴 네트워트(Neural Network)\n",
    "\n",
    "뉴럴 네트워트(Neural Network)는  \n",
    "하나의 뉴런, 즉 로지스틱 모델을 **유닛(Unit)** 이라고 하고   \n",
    "유닛들을 서로 연결한 구조이다.  \n",
    "유닛들을 모아서 **레이어(Layer)** 를 형성하고  \n",
    "레이어를 (오른쪽으로) 계속해서 쌓아가는 모양을 가지고 있다.  \n",
    "\n",
    "아래 그림은  \n",
    "2-레이어 (2-layer) 뉴럴 네트워크이다.  \n",
    "4개의 유닛(4-units)들로 구성된 히든 레이어(hidden layer) 1개와   \n",
    "1개의 유닛(1-unit)으로 구성된 출력 레이어(output layer) 1개로 되어 있다.   \n",
    "\n",
    "![뉴럴 네트워크](https://skettee.github.io/post/neural_network/neural_network.png)"
   ]
  },
  {
   "cell_type": "markdown",
   "metadata": {},
   "source": [
    "## 데이터 분석 (Data Analysis)\n",
    "\n",
    "이 문제는 데이터의 규칙에 따라 출력값을 결정하는 것이다.  \n",
    "\n",
    "10개의 입력값 중에  \n",
    "- 첫번째 입력값이 1이고 나머지가 0이면 출력값은 0  \n",
    "- 두번째 입력값이 1이고 나머지가 0이면 출력값은 1  \n",
    "-   ...    \n",
    "\n",
    "이 규칙을 학습 시켜서 원하는 출력값으로 분류하는 것이 목표다.  "
   ]
  },
  {
   "cell_type": "markdown",
   "metadata": {},
   "source": [
    "## 데이터 변환 (Data Transformation)\n",
    "\n",
    "Keras가 원하는 입력과 출력의 모양(shape)는 다음과 같다.  \n",
    "\n",
    "- (batch_size, input_dimension)    \n",
    "- batch_size는 학습할 데이터의 개수이다.  \n",
    "- input_demension은 학습을 할 때에 사용할 입력 변수의 개수이다.  \n",
    "\n",
    "**입력 데이터 변환**  "
   ]
  },
  {
   "cell_type": "code",
   "execution_count": 3,
   "metadata": {},
   "outputs": [
    {
     "name": "stdout",
     "output_type": "stream",
     "text": [
      "batch_size=  10\n"
     ]
    }
   ],
   "source": [
    "print('batch_size= ', len(input_data))"
   ]
  },
  {
   "cell_type": "code",
   "execution_count": 4,
   "metadata": {},
   "outputs": [
    {
     "name": "stdout",
     "output_type": "stream",
     "text": [
      "input_dimension=  10\n"
     ]
    }
   ],
   "source": [
    "print('input_dimension= ', len(input_data[0]))"
   ]
  },
  {
   "cell_type": "code",
   "execution_count": 5,
   "metadata": {},
   "outputs": [
    {
     "name": "stdout",
     "output_type": "stream",
     "text": [
      "x.shape is  (10, 10)\n",
      "\n",
      "x is \n",
      " [[1 0 0 0 0 0 0 0 0 0]\n",
      " [0 1 0 0 0 0 0 0 0 0]\n",
      " [0 0 1 0 0 0 0 0 0 0]\n",
      " [0 0 0 1 0 0 0 0 0 0]\n",
      " [0 0 0 0 1 0 0 0 0 0]\n",
      " [0 0 0 0 0 1 0 0 0 0]\n",
      " [0 0 0 0 0 0 1 0 0 0]\n",
      " [0 0 0 0 0 0 0 1 0 0]\n",
      " [0 0 0 0 0 0 0 0 1 0]\n",
      " [0 0 0 0 0 0 0 0 0 1]]\n"
     ]
    }
   ],
   "source": [
    "import numpy as np\n",
    "\n",
    "x = np.array(input_data)\n",
    "print('x.shape is ', x.shape)\n",
    "print('\\nx is \\n', x)"
   ]
  },
  {
   "cell_type": "markdown",
   "metadata": {},
   "source": [
    "**출력 데이터 변환**\n",
    "\n",
    "⚙️ 엔지니어\n",
    "\n",
    "> yes or no 문제라면 0과 1로 변환 하면 된다.     \n",
    "> 이번 문제는 0에서 9까지 10개다.  \n",
    "> 출력 데이터를 어떻게 변환해야 할까?  "
   ]
  },
  {
   "cell_type": "markdown",
   "metadata": {},
   "source": [
    "### 원-핫 인코딩 (One-hot encoding)\n",
    "\n",
    "'강아지', '고양이', '토끼'를 분류하는 문제가 있다고 하자  \n",
    "손실 함수(loss function)를 계산하기 위해서는 출력 데이터를 숫자로 표시 해야 한다.  \n",
    "\n",
    "Label | 숫자\n",
    "--------|---\n",
    "강아지 | 0\n",
    "고양이 | 1\n",
    "토끼    | 2\n",
    "\n",
    "시그모이드(Sigmoid)나 소프트맥스(softmax)와 같은 활성 함수(activation function)을 사용하기 위해서는 각 레이블(label)이 0과 1로 표현 되어야 한다. 원-핫-인코딩은 '강아지', '고양이', '토끼'를 0과 1로 표현하는 방법이다.\n",
    "\n",
    "Label | 숫자 | 원-핫 벡터\n",
    "--------|-------|---\n",
    "강아지 | 0    | [1, 0, 0]\n",
    "고양이 | 1    | [0, 1, 0]\n",
    "토끼    | 2    | [0, 0, 1]\n"
   ]
  },
  {
   "cell_type": "markdown",
   "metadata": {},
   "source": [
    "⚙️ 엔지니어\n",
    "\n",
    "> 아하~    \n",
    "> 0에서 9까지의 값을   \n",
    "> 원-핫 벡터 (one-hot vector)로 표시하면 되겠군  "
   ]
  },
  {
   "cell_type": "code",
   "execution_count": 6,
   "metadata": {},
   "outputs": [
    {
     "name": "stdout",
     "output_type": "stream",
     "text": [
      "y.shape is  (10, 10)\n",
      "\n",
      "one-hot encoded y is \n",
      " [[1. 0. 0. 0. 0. 0. 0. 0. 0. 0.]\n",
      " [0. 1. 0. 0. 0. 0. 0. 0. 0. 0.]\n",
      " [0. 0. 1. 0. 0. 0. 0. 0. 0. 0.]\n",
      " [0. 0. 0. 1. 0. 0. 0. 0. 0. 0.]\n",
      " [0. 0. 0. 0. 1. 0. 0. 0. 0. 0.]\n",
      " [0. 0. 0. 0. 0. 1. 0. 0. 0. 0.]\n",
      " [0. 0. 0. 0. 0. 0. 1. 0. 0. 0.]\n",
      " [0. 0. 0. 0. 0. 0. 0. 1. 0. 0.]\n",
      " [0. 0. 0. 0. 0. 0. 0. 0. 1. 0.]\n",
      " [0. 0. 0. 0. 0. 0. 0. 0. 0. 1.]]\n"
     ]
    }
   ],
   "source": [
    "from tensorflow.keras.utils import to_categorical\n",
    "\n",
    "y = to_categorical(output_data)\n",
    "print('y.shape is ', y.shape)\n",
    "print('\\none-hot encoded y is \\n', y)"
   ]
  },
  {
   "cell_type": "markdown",
   "metadata": {},
   "source": [
    "⚙️ 엔지니어\n",
    "\n",
    "> 엇... 어어... 입력 데이터와 출력 데이터가 ???  "
   ]
  },
  {
   "cell_type": "markdown",
   "metadata": {},
   "source": [
    "## 모델링 (Modeling)\n",
    "\n",
    "입력 레이어(input layer)는 $x_1$에서 $x_{10}$까지 10개로 되어 있다.   \n",
    "히든 레이어(hidden layer)는 3개의 units로 구성 한다.  \n",
    "출력 레이어(output layer)는 10개의 units로 구성 한다.  \n",
    "그림으로 나타내면 다음과 같다.  \n",
    "\n",
    "⚙️ 엔지니어\n",
    "\n",
    "> 선들이 빠짐 없이 조밀하게 연결 되어 있다.  \n",
    "> 음... **덴스(Dense)** 하게 연결 되어있군...   \n",
    "\n",
    "![오토 코딩 모델](https://skettee.github.io/post/neural_network/auto_coding_model.png)"
   ]
  },
  {
   "cell_type": "markdown",
   "metadata": {},
   "source": [
    "히든 레이어에 있는 유닛들의 활성함수(activation function)는 sigmoid로 한다.   \n",
    "출력 레이어에 있는 유닛들의 활성함수(activation function)를 sigmoid로 하면 ~~ㅈ된다~~안된다.  \n",
    "왜냐하면  \n",
    "각 확률의 총합은 1이 나와야 하는데   \n",
    "sigmoid는   \n",
    "$\\hat y_{1}+\\hat y_{2}+\\hat y_{3}+\\hat y_{4}+\\hat y_{5}+\\hat y_{6}+\\hat y_{7}+\\hat y_{8}+\\hat y_{9}+\\hat y_{10}=1$ 을 만족하지 않는다.  \n",
    "\n",
    "⚙️ 엔지니어\n",
    "\n",
    ">  걱정마라.  엔지니어를 갈아서 만든 것이 있다.  \n",
    ">  그것은 바로..."
   ]
  },
  {
   "cell_type": "markdown",
   "metadata": {},
   "source": [
    "### 소프트맥스 회귀 (Softmax Regression)\n",
    "\n",
    "0과 1, 두가지의 경우에 대한 분류는 로지스틱 회귀(logistic regression)로 모델링을 한다.  \n",
    "세가지 이상에 대한 분류는 소프트맥스 회귀(softmax regression)로 모델링을 한다.  \n",
    "소프트맥스의 활성 함수(activation function)는 아래와 같이 정의한다.  \n",
    "\n",
    "$z=w^{T}x+b$,  \n",
    "$a=\\sigma(z) = {{e^z}\\over{\\sum_{j=1}^{m} e^z}}$,  \n",
    "$m=$ number of classes (분류 개수)"
   ]
  },
  {
   "cell_type": "markdown",
   "metadata": {},
   "source": [
    "**소프트맥스 회귀를 이용한 분류**\n",
    "\n",
    "3개로 분류된 아래 데이터를 가지고 10X10 공간을 3개의 클래스로 분류해 보자.  \n",
    "여기서 **클래스(Class)** 란 '공통적인 성질을 가진 종류'라는 뜻이다.  "
   ]
  },
  {
   "cell_type": "code",
   "execution_count": 18,
   "metadata": {},
   "outputs": [],
   "source": [
    "import numpy as np\n",
    "\n",
    "x_data = np.array([\n",
    "    (1,4), (1,5), (1,6), (1,7), (1,8), (2,5), (2,6), (2,7), (2,8), (2,9), \n",
    "    (3,6), (3,7), (3,8), (3,9), (4,7), (4,8), (4,9), (5,8), (5,9), (6,9),\n",
    "    (3,1), (4,1), (4,2), (5,1), (5,2), (5,3), (6,1), (6,2), (7,1), (8,1),\n",
    "    (7,5), (8,4), (8,5), (8,6), (9,3), (9,4), (9,5), (9,6), (9,7), (9,8)\n",
    "])\n",
    "\n",
    "y_data = np.array([\n",
    "    [1,0,0], [1,0,0], [1,0,0], [1,0,0], [1,0,0], [1,0,0], [1,0,0], [1,0,0], [1,0,0], [1,0,0], \n",
    "    [1,0,0], [1,0,0], [1,0,0], [1,0,0], [1,0,0], [1,0,0], [1,0,0], [1,0,0], [1,0,0], [1,0,0],\n",
    "    [0,1,0], [0,1,0], [0,1,0], [0,1,0], [0,1,0], [0,1,0], [0,1,0], [0,1,0], [0,1,0], [0,1,0],\n",
    "    [0,0,1], [0,0,1], [0,0,1], [0,0,1], [0,0,1], [0,0,1], [0,0,1], [0,0,1], [0,0,1], [0,0,1]\n",
    "])\n",
    "\n",
    "label_data = ['red', 'green', 'blue']"
   ]
  },
  {
   "cell_type": "markdown",
   "metadata": {},
   "source": [
    "x_data를 그래프로 표시하면 아래와 같다.  \n",
    "y_data에서 [1,0,0]은 빨강, [0,1,0]은 초록, [0,0,1]은 파랑으로 클래스를 구분한다.    "
   ]
  },
  {
   "cell_type": "code",
   "execution_count": 19,
   "metadata": {},
   "outputs": [
    {
     "data": {
      "image/png": "[encoded data removed]",
      "text/plain": [
       "<Figure size 432x288 with 1 Axes>"
      ]
     },
     "metadata": {
      "needs_background": "light"
     },
     "output_type": "display_data"
    }
   ],
   "source": [
    "%matplotlib inline\n",
    "import matplotlib.pyplot as plt\n",
    "\n",
    "plt.scatter([x[0] for x in x_data ], [x[1] for x in x_data], color=[label_data[i] for i in [np.argmax(x) for x in y_data]])\n",
    "plt.show()"
   ]
  },
  {
   "cell_type": "markdown",
   "metadata": {},
   "source": [
    "소프트맥스 회귀 모델은 Keras로 간단하게 모델링할 수 있다.\n",
    "\n",
    "![소프트맥스 회귀 모델](https://skettee.github.io/post/neural_network/softmax_regression.png)"
   ]
  },
  {
   "cell_type": "code",
   "execution_count": 20,
   "metadata": {},
   "outputs": [],
   "source": [
    "from tensorflow.keras import Sequential\n",
    "from tensorflow.keras.layers import Dense, Activation\n",
    "\n",
    "# 모델을 준비한다.\n",
    "model = Sequential()\n",
    "# 입력 변수 x가 2개, unit 개수가 3개인 output layer를 생성한다.\n",
    "model.add(Dense(3, input_shape=(2,), activation='softmax'))\n",
    "# Loss funtion과 Optimizer를 선택한다.\n",
    "model.compile(loss='categorical_crossentropy', optimizer='rmsprop')\n",
    "# epochs만큼 반복해서 손실값이 최저가 되도록 모델을 훈련한다.\n",
    "hist = model.fit(x_data, y_data, epochs=1000, verbose=0)"
   ]
  },
  {
   "cell_type": "markdown",
   "metadata": {},
   "source": [
    "반복 학습할 수록 손실 값이 0에 가깝게 줄어 든다."
   ]
  },
  {
   "cell_type": "code",
   "execution_count": 21,
   "metadata": {},
   "outputs": [
    {
     "data": {
      "image/png": "[encoded data removed]",
      "text/plain": [
       "<Figure size 432x288 with 1 Axes>"
      ]
     },
     "metadata": {
      "needs_background": "light"
     },
     "output_type": "display_data"
    }
   ],
   "source": [
    "plt.plot(hist.history['loss'])\n",
    "plt.xlabel('epoch')\n",
    "plt.ylabel('loss')\n",
    "plt.show()"
   ]
  },
  {
   "cell_type": "markdown",
   "metadata": {},
   "source": [
    "첫번째 x 데이터 (1,4)에 대해서 소프트맥스가 예측한 데이터는 다음과 같다.  \n",
    "예측된 확률을 모두 더하면 1이 되는 것을 확인할 수 있다. "
   ]
  },
  {
   "cell_type": "code",
   "execution_count": 26,
   "metadata": {},
   "outputs": [
    {
     "name": "stdout",
     "output_type": "stream",
     "text": [
      "y data is  [1 0 0]\n",
      "predicted y data is  [0.980123   0.0051288  0.01474817]\n",
      "sum of probability is  0.99999994\n"
     ]
    }
   ],
   "source": [
    "predict = model.predict(x_data[0].reshape(1, 2))\n",
    "print('y data is ', y_data[0])\n",
    "print('predicted y data is ', predict[0])\n",
    "print('sum of probability is ', np.sum(predict[0]))"
   ]
  },
  {
   "cell_type": "markdown",
   "metadata": {},
   "source": [
    "학습이 완료된 소프트맥스 회귀 모델을 이용해서  \n",
    "10X10 공간을 3개의 클래스로 분류한 그래프를 그려 보자.  "
   ]
  },
  {
   "cell_type": "code",
   "execution_count": 12,
   "metadata": {},
   "outputs": [
    {
     "data": {
      "image/png": "[encoded data removed]",
      "text/plain": [
       "<Figure size 432x288 with 1 Axes>"
      ]
     },
     "metadata": {
      "needs_background": "light"
     },
     "output_type": "display_data"
    }
   ],
   "source": [
    "x_data = []\n",
    "y_data = []\n",
    "c_data = []\n",
    "for i in range(10):\n",
    "    for j in range(10):\n",
    "        x_data.append(i)\n",
    "        y_data.append(j)\n",
    "        c_data.append(label_data[np.argmax(model.predict(np.array([i, j]).reshape(1, 2))[0])])\n",
    "\n",
    "plt.scatter(x_data, y_data, color=c_data)\n",
    "plt.show()"
   ]
  },
  {
   "cell_type": "markdown",
   "metadata": {},
   "source": [
    "⚙️ 엔지니어\n",
    "\n",
    "> 스스로 학습해서  \n",
    "> 근처에 있는 땅을 자기것으로 만들면서  \n",
    "> 천하삼분지계 하고 있다!!!  "
   ]
  },
  {
   "cell_type": "markdown",
   "metadata": {},
   "source": [
    "### 정리\n",
    "\n",
    "뉴럴 네트워크 모델(Neural Network model)을 만드는 방법을 정리해 보자.  \n",
    "1. 데이터를 변환한다.    \n",
    "  1. 입력 데이터의 형식과 모양을 변환한다.  \n",
    "  2. 출력 데이터의 형식과 모양을 변환한다. **원-핫 인코딩(one-hot encoding)** 을 사용한다.  \n",
    "2. **히든 레이어(hidden layer)**  정의  \n",
    "  1. 히든 레이어 개수를 정의한다. 여기서는 1-hidden layer를 사용한다.  \n",
    "  2. 히든 레이어 유닛 개수를 정의한다. 여기서는 3개이 유닛을 사용한다.  \n",
    "  3. 활성 함수(activation function)를 정의한다. 여기서는 **시그모이드(sigmoid)** 를 사용한다.  \n",
    "3. **출력 레이어(output layer)**  정의   \n",
    "  1. 출력 레이어 유닛 개수를 정의한다. 여기서는 10개의 클래스로 분류해야 되니까 10개의 유닛을 사용한다.  \n",
    "  2. 활성 함수(activation function)를 정의한다. 여기서는 **소프트맥스(softmax)** 를 사용한다.\n",
    "4. 손실 함수 (Loss function)를 정의한다. 여기서는 **크로스-엔트로피 손실(cross-entropy loss)** 를 사용한다.  \n",
    "  5. 옵티마이저(Optimizer)를 정의한다. 여기서는 **RMSProp** 을 사용한다.  \n",
    "4. 반복할 회수(epoch)를 결정한다.  \n",
    "5. 주어진 조건으로 모델을 최적화(fit) 시킨다.  "
   ]
  },
  {
   "cell_type": "markdown",
   "metadata": {},
   "source": [
    "## 텐서플로우(Tensorflow)로 모델링(Modeling)\n",
    "\n",
    "**케라스(Keras)** 를 이용해서 구현을 해보자!  "
   ]
  },
  {
   "cell_type": "markdown",
   "metadata": {},
   "source": [
    "### 정규화 (Normalization)\n",
    "\n",
    "⚙️ 엔지니어  \n",
    "\n",
    "> 정규화 할거 없음!  \n",
    "> 0과 1로 되어 있는데 뭔... 필요???  "
   ]
  },
  {
   "cell_type": "code",
   "execution_count": 13,
   "metadata": {},
   "outputs": [],
   "source": [
    "X_train = x\n",
    "Y_train = y"
   ]
  },
  {
   "cell_type": "markdown",
   "metadata": {},
   "source": [
    "### Keras를 가지고 모델링(Modeling)하기\n",
    "\n",
    "⚙️ 엔지니어\n",
    "\n",
    "> 5줄로 모델링이 가능하다!   \n",
    "> \n",
    "> 프랑소와 숄레 만세!"
   ]
  },
  {
   "cell_type": "code",
   "execution_count": 14,
   "metadata": {
    "scrolled": true
   },
   "outputs": [],
   "source": [
    "from tensorflow.keras import Sequential\n",
    "from tensorflow.keras.layers import Dense\n",
    "\n",
    "# 모델을 준비한다.\n",
    "model = Sequential()\n",
    "# unit 개수가 3이고 입력 변수 x가 10개인  hidden layer를 생성하고 dense하게 연결한다.\n",
    "model.add(Dense(3, input_shape=(10,), activation='sigmoid'))\n",
    "# unit 개수가 10인 output layer를 생성하고 dense하게 연결한다.\n",
    "model.add(Dense(10, activation='softmax'))\n",
    "# Loss funtion과 Optimizer를 선택한다.\n",
    "model.compile(loss='categorical_crossentropy', optimizer='rmsprop')\n",
    "# epochs만큼 반복해서 손실값이 최저가 되도록 모델을 훈련한다.\n",
    "hist = model.fit(X_train, Y_train, epochs=10000, verbose=0)"
   ]
  },
  {
   "cell_type": "markdown",
   "metadata": {},
   "source": [
    "### 손실값의 변화를 그래프로 확인"
   ]
  },
  {
   "cell_type": "code",
   "execution_count": 15,
   "metadata": {},
   "outputs": [
    {
     "data": {
      "image/png": "[encoded data removed]",
      "text/plain": [
       "<Figure size 432x288 with 1 Axes>"
      ]
     },
     "metadata": {
      "needs_background": "light"
     },
     "output_type": "display_data"
    }
   ],
   "source": [
    "plt.plot(hist.history['loss'])\n",
    "plt.xlabel('epoch')\n",
    "plt.ylabel('loss')\n",
    "plt.show()"
   ]
  },
  {
   "cell_type": "markdown",
   "metadata": {},
   "source": [
    "⚙️ 엔지니어\n",
    "\n",
    "> 반복적으로 학습할 수록 손실(Loss)이 0에 가깝게 된다.  \n",
    "> 나이스!"
   ]
  },
  {
   "cell_type": "markdown",
   "metadata": {},
   "source": [
    "## 해결 (Solution)\n",
    "\n",
    "⚙️ 엔지니어  \n",
    "\n",
    "> 고객님~ 원하시는 솔루션입니다.   \n",
    "> test_data에 원하시는 값을 입력하시면    \n",
    "> 원하시는 결과값이 출력 됩니다.  "
   ]
  },
  {
   "cell_type": "code",
   "execution_count": 16,
   "metadata": {},
   "outputs": [
    {
     "name": "stdout",
     "output_type": "stream",
     "text": [
      "input data is [0, 0, 0, 0, 0, 1, 0, 0, 0, 0] and ouput is 5\n"
     ]
    }
   ],
   "source": [
    "def auto_coding(x):\n",
    "    input_data = np.array(x).reshape(1, 10)\n",
    "    predict = model.predict(input_data)\n",
    "    return np.argmax(predict[0])\n",
    "\n",
    "test_data =  [0, 0, 0, 0, 0, 1, 0, 0, 0, 0]\n",
    "result = auto_coding(test_data)\n",
    "print('input data is {} and ouput is {}'.format(test_data, result))"
   ]
  },
  {
   "cell_type": "markdown",
   "metadata": {},
   "source": [
    "⚙️ 엔지니어  \n",
    "\n",
    "> 내가 만든 human_coding과  \n",
    "> 같은 결과가 나온다   \n",
    ">\n",
    "> 이것은  \n",
    "> 히든 레이어에서   \n",
    "> 학습에 의해서  \n",
    "> 자동으로 코딩이 되었다는 것이다.  \n",
    ">\n",
    "> 여기서 문제는  \n",
    "> 히든 레이어에서의 $w$와 $b$ 값들이  \n",
    "> 왜 이런 값을 가지는지  \n",
    "> 인간은 모른다는 것이다.  \n",
    "> 그래서  \n",
    "> Hidden(숨은) 레이어 라고 한다.  \n"
   ]
  }
 ],
 "metadata": {
  "kernelspec": {
   "display_name": "Python 3",
   "language": "python",
   "name": "python3"
  },
  "language_info": {
   "codemirror_mode": {
    "name": "ipython",
    "version": 3
   },
   "file_extension": ".py",
   "mimetype": "text/x-python",
   "name": "python",
   "nbconvert_exporter": "python",
   "pygments_lexer": "ipython3",
   "version": "3.7.3"
  }
 },
 "nbformat": 4,
 "nbformat_minor": 4
}
