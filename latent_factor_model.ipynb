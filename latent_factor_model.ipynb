{
 "cells": [
  {
   "cell_type": "markdown",
   "metadata": {},
   "source": [
    "# 잠재 인수 모델 (Latent Factor Model)\n",
    "\n",
    "Date: 2019-09-09  \n",
    "Author: skettee  \n",
    "Categories: Deep Learning, Recommendation  \n",
    "Tags: Latent factor, Matrix Factorization, Embedding    \n",
    "<!--eofm-->"
   ]
  },
  {
   "cell_type": "markdown",
   "metadata": {},
   "source": [
    "\n",
    "영화나 상품 추천에 사용되는 잠재 인수 모델(Latent Factor Model)을 살펴 보고 Keras로 모델링을 해보자!\n",
    "<!--more-->\n",
    "\n",
    "실제로 돌려 보고 싶으면 구글 코랩으로 ~  \n",
    "\n",
    "[![Open In Colab](https://colab.research.google.com/assets/colab-badge.svg)](https://colab.research.google.com/github/skettee/notebooks/blob/master/latent_factor_model.ipynb)"
   ]
  },
  {
   "cell_type": "markdown",
   "metadata": {},
   "source": [
    "## 문제 (Problem)\n",
    "\n",
    "👤 상사\n",
    "\n",
    "> 인공지능을 이용해서 영화를 추천하는 프로젝트를 시작한다    \n",
    "> 데이터는 movielens에서 제공하는 데이터를 사용하게      \n",
    "> https://movielens.org/\n",
    ">\n",
    "> 여기서 제공하는 영화 메타데이터와 사용자 별점을 이용해서    \n",
    "> 영화에 대한 사용자의 별점을 예측하는 프로그램을 만들어 보게    \n",
    "\n",
    "⚙️ 엔지니어\n",
    "\n",
    "> 아니 보스... 사진 인식 프로젝트는 어떻게 하라고...   \n",
    "> 막 지르는 구나...  "
   ]
  },
  {
   "cell_type": "markdown",
   "metadata": {},
   "source": [
    "## 데이터 수집 (Data Collection)\n",
    " \n",
    "데이터를 다운로드하고 파일로 저장하고 데이터프레임으로 변환하는 작업이 필요하다.\n",
    "\n",
    "우리가 사용할 무비렌즈 데이터셋은 다음과 같다.  \n",
    "\n",
    "**MovieLens Latest Datasets**  \n",
    "100,000 ratings and 3,600 tag applications applied to 9,000 movies by 600 users. Last updated 9/2018.\n",
    "\n",
    "- [README.txt](http://files.grouplens.org/datasets/movielens/ml-latest-small-README.html)    \n",
    "- ml-latest-small.zip (size: 1 MB)\n",
    "- http://files.grouplens.org/datasets/movielens/ml-latest-small.zip\n",
    "\n",
    "Zip파일을 풀면 아래의 데이터가 나온다. (README.txt 참조)\n",
    "\n",
    "1. ratings.csv  \n",
    "  - 파일 형식: userId, movieId, rating, timestamp\n",
    "  - userId: 1 ~ 610 사이의 정수값   \n",
    "  - movieId: 1 ~ 193609 사이의 정수값   \n",
    "  - rating: 0.5 ~ 5.0 사이의 별점값 (0.5씩 증가)  \n",
    "  - timestamp: 별점을 준 시간을 초로 표시  (1970.01.01 부터 UTC time)  \n",
    "\n",
    "\n",
    "2. movies.csv  \n",
    "  - 파일 형식: movieId, title, genres\n",
    "  - movieId: 1 ~ 193609 사이의 정수값  \n",
    "  - title: 영화 제목  \n",
    "  - genres: 하나 이상의 장르가 '|' 로 연결되어 표시  \n",
    "      Action, Adventure, Animation, Children's, Comedy, Comedy, Documentary, Drama, Fantasy, Film-Noir, Horror, Musical, Mystery, Romance, Sci-Fi, Thriller, War, Western  \n",
    "\n",
    "⚙️ 엔지니어\n",
    "\n",
    "> 데이터를 다운로드 하고 데이터프레임으로 변환하자  \n",
    "\n"
   ]
  },
  {
   "cell_type": "code",
   "execution_count": 1,
   "metadata": {},
   "outputs": [
    {
     "name": "stdout",
     "output_type": "stream",
     "text": [
      "/home/dataman/.keras/datasets/ml-latest-small/ratings.csv\n",
      "/home/dataman/.keras/datasets/ml-latest-small/movies.csv\n"
     ]
    }
   ],
   "source": [
    "from tensorflow.keras.utils import get_file\n",
    "import os\n",
    "\n",
    "zip_fname = 'ml-latest-small.zip'\n",
    "data_dir = 'ml-latest-small'\n",
    "ratings_fname = 'ratings.csv'\n",
    "movies_fname = 'movies.csv'\n",
    "origin = 'http://files.grouplens.org/datasets/movielens/ml-latest-small.zip'\n",
    "path = get_file(zip_fname, origin, extract=True)\n",
    "\n",
    "path = path.replace(zip_fname, data_dir)\n",
    "ratings_path = os.path.join(path, ratings_fname)\n",
    "movies_path = os.path.join(path, movies_fname)\n",
    "\n",
    "print(ratings_path)\n",
    "print(movies_path)"
   ]
  },
  {
   "cell_type": "markdown",
   "metadata": {},
   "source": [
    "### Ratings 데이터프레임"
   ]
  },
  {
   "cell_type": "code",
   "execution_count": 2,
   "metadata": {},
   "outputs": [
    {
     "data": {
      "text/html": [
       "<div>\n",
       "<style scoped>\n",
       "    .dataframe tbody tr th:only-of-type {\n",
       "        vertical-align: middle;\n",
       "    }\n",
       "\n",
       "    .dataframe tbody tr th {\n",
       "        vertical-align: top;\n",
       "    }\n",
       "\n",
       "    .dataframe thead th {\n",
       "        text-align: right;\n",
       "    }\n",
       "</style>\n",
       "<table border=\"1\" class=\"dataframe\">\n",
       "  <thead>\n",
       "    <tr style=\"text-align: right;\">\n",
       "      <th></th>\n",
       "      <th>userId</th>\n",
       "      <th>movieId</th>\n",
       "      <th>rating</th>\n",
       "      <th>timestamp</th>\n",
       "    </tr>\n",
       "  </thead>\n",
       "  <tbody>\n",
       "    <tr>\n",
       "      <td>0</td>\n",
       "      <td>1</td>\n",
       "      <td>1</td>\n",
       "      <td>4.0</td>\n",
       "      <td>964982703</td>\n",
       "    </tr>\n",
       "    <tr>\n",
       "      <td>1</td>\n",
       "      <td>1</td>\n",
       "      <td>3</td>\n",
       "      <td>4.0</td>\n",
       "      <td>964981247</td>\n",
       "    </tr>\n",
       "    <tr>\n",
       "      <td>2</td>\n",
       "      <td>1</td>\n",
       "      <td>6</td>\n",
       "      <td>4.0</td>\n",
       "      <td>964982224</td>\n",
       "    </tr>\n",
       "    <tr>\n",
       "      <td>3</td>\n",
       "      <td>1</td>\n",
       "      <td>47</td>\n",
       "      <td>5.0</td>\n",
       "      <td>964983815</td>\n",
       "    </tr>\n",
       "    <tr>\n",
       "      <td>4</td>\n",
       "      <td>1</td>\n",
       "      <td>50</td>\n",
       "      <td>5.0</td>\n",
       "      <td>964982931</td>\n",
       "    </tr>\n",
       "  </tbody>\n",
       "</table>\n",
       "</div>"
      ],
      "text/plain": [
       "   userId  movieId  rating  timestamp\n",
       "0       1        1     4.0  964982703\n",
       "1       1        3     4.0  964981247\n",
       "2       1        6     4.0  964982224\n",
       "3       1       47     5.0  964983815\n",
       "4       1       50     5.0  964982931"
      ]
     },
     "execution_count": 2,
     "metadata": {},
     "output_type": "execute_result"
    }
   ],
   "source": [
    "import pandas as pd\n",
    "import numpy as np\n",
    "\n",
    "ratings_df = pd.read_csv(ratings_path)\n",
    "ratings_df.head()"
   ]
  },
  {
   "cell_type": "markdown",
   "metadata": {},
   "source": [
    "### Movies 데이터프레임"
   ]
  },
  {
   "cell_type": "code",
   "execution_count": 3,
   "metadata": {},
   "outputs": [
    {
     "data": {
      "text/html": [
       "<div>\n",
       "<style scoped>\n",
       "    .dataframe tbody tr th:only-of-type {\n",
       "        vertical-align: middle;\n",
       "    }\n",
       "\n",
       "    .dataframe tbody tr th {\n",
       "        vertical-align: top;\n",
       "    }\n",
       "\n",
       "    .dataframe thead th {\n",
       "        text-align: right;\n",
       "    }\n",
       "</style>\n",
       "<table border=\"1\" class=\"dataframe\">\n",
       "  <thead>\n",
       "    <tr style=\"text-align: right;\">\n",
       "      <th></th>\n",
       "      <th>movieId</th>\n",
       "      <th>title</th>\n",
       "      <th>genres</th>\n",
       "    </tr>\n",
       "  </thead>\n",
       "  <tbody>\n",
       "    <tr>\n",
       "      <td>0</td>\n",
       "      <td>1</td>\n",
       "      <td>Toy Story (1995)</td>\n",
       "      <td>Adventure|Animation|Children|Comedy|Fantasy</td>\n",
       "    </tr>\n",
       "    <tr>\n",
       "      <td>1</td>\n",
       "      <td>2</td>\n",
       "      <td>Jumanji (1995)</td>\n",
       "      <td>Adventure|Children|Fantasy</td>\n",
       "    </tr>\n",
       "    <tr>\n",
       "      <td>2</td>\n",
       "      <td>3</td>\n",
       "      <td>Grumpier Old Men (1995)</td>\n",
       "      <td>Comedy|Romance</td>\n",
       "    </tr>\n",
       "    <tr>\n",
       "      <td>3</td>\n",
       "      <td>4</td>\n",
       "      <td>Waiting to Exhale (1995)</td>\n",
       "      <td>Comedy|Drama|Romance</td>\n",
       "    </tr>\n",
       "    <tr>\n",
       "      <td>4</td>\n",
       "      <td>5</td>\n",
       "      <td>Father of the Bride Part II (1995)</td>\n",
       "      <td>Comedy</td>\n",
       "    </tr>\n",
       "  </tbody>\n",
       "</table>\n",
       "</div>"
      ],
      "text/plain": [
       "   movieId                               title  \\\n",
       "0        1                    Toy Story (1995)   \n",
       "1        2                      Jumanji (1995)   \n",
       "2        3             Grumpier Old Men (1995)   \n",
       "3        4            Waiting to Exhale (1995)   \n",
       "4        5  Father of the Bride Part II (1995)   \n",
       "\n",
       "                                        genres  \n",
       "0  Adventure|Animation|Children|Comedy|Fantasy  \n",
       "1                   Adventure|Children|Fantasy  \n",
       "2                               Comedy|Romance  \n",
       "3                         Comedy|Drama|Romance  \n",
       "4                                       Comedy  "
      ]
     },
     "execution_count": 3,
     "metadata": {},
     "output_type": "execute_result"
    }
   ],
   "source": [
    "movies_df = pd.read_csv(movies_path)\n",
    "movies_df.head()"
   ]
  },
  {
   "cell_type": "markdown",
   "metadata": {},
   "source": [
    "**#번 사용자가 5개 별점을 준 영화 리스트**"
   ]
  },
  {
   "cell_type": "code",
   "execution_count": 4,
   "metadata": {},
   "outputs": [
    {
     "name": "stdout",
     "output_type": "stream",
     "text": [
      "Top rated titles of userId 100:\n",
      "\n",
      "Top Gun (1986)\n",
      "Terms of Endearment (1983)\n",
      "Christmas Vacation (National Lampoon's Christmas Vacation) (1989)\n",
      "Officer and a Gentleman, An (1982)\n",
      "Sweet Home Alabama (2002)\n"
     ]
    }
   ],
   "source": [
    "userId = 100 # 1~610\n",
    "rating = 5  # 1 ~ 5\n",
    "top_movie_ids = ratings_df[(ratings_df['userId'] == userId) \n",
    "                           & (ratings_df['rating'] == rating)].movieId\n",
    "top_titles = movies_df[movies_df['movieId'].isin(top_movie_ids)].title\n",
    "\n",
    "print('Top rated titles of userId {}:\\n'.format(userId))\n",
    "for item in top_titles:\n",
    "    print(item)"
   ]
  },
  {
   "cell_type": "markdown",
   "metadata": {},
   "source": [
    "## 데이터 클렌징 (Data Cleansing)"
   ]
  },
  {
   "cell_type": "markdown",
   "metadata": {},
   "source": [
    "데이터가 구멍이 난 것이 없는지 확인"
   ]
  },
  {
   "cell_type": "code",
   "execution_count": 6,
   "metadata": {},
   "outputs": [
    {
     "name": "stdout",
     "output_type": "stream",
     "text": [
      "missing number of userId data is  0\n",
      "missing number of movieId data is  0\n",
      "missing number of rating data is  0\n"
     ]
    }
   ],
   "source": [
    "# Check missing data\n",
    "print('missing number of userId data is ', ratings_df['userId'].isnull().sum())\n",
    "print('missing number of movieId data is ', ratings_df['movieId'].isnull().sum())\n",
    "print('missing number of rating data is ', ratings_df['rating'].isnull().sum())"
   ]
  },
  {
   "cell_type": "markdown",
   "metadata": {},
   "source": [
    "## 데이터 분석 (Data Analysis)"
   ]
  },
  {
   "cell_type": "code",
   "execution_count": 5,
   "metadata": {},
   "outputs": [
    {
     "name": "stdout",
     "output_type": "stream",
     "text": [
      "100836 Ratings, 610 Users, 9724 Movies\n"
     ]
    }
   ],
   "source": [
    "print('{} Ratings, {} Users, {} Movies'.format(len(ratings_df), \n",
    "                                               len(ratings_df.userId.unique()), \n",
    "                                               len(ratings_df.movieId.unique())))"
   ]
  },
  {
   "cell_type": "markdown",
   "metadata": {},
   "source": [
    "`userId`를 컬럼(Column), `movieId`를 열(Row)로 만들어서 `rating`값을 확인해 보자  "
   ]
  },
  {
   "cell_type": "code",
   "execution_count": 7,
   "metadata": {},
   "outputs": [
    {
     "data": {
      "text/plain": [
       "(9724, 1220)"
      ]
     },
     "execution_count": 7,
     "metadata": {},
     "output_type": "execute_result"
    }
   ],
   "source": [
    "df_table = ratings_df.set_index([\"movieId\", \"userId\"]).unstack()\n",
    "df_table.shape"
   ]
  },
  {
   "cell_type": "code",
   "execution_count": 8,
   "metadata": {},
   "outputs": [
    {
     "data": {
      "text/html": [
       "<div>\n",
       "<style scoped>\n",
       "    .dataframe tbody tr th:only-of-type {\n",
       "        vertical-align: middle;\n",
       "    }\n",
       "\n",
       "    .dataframe tbody tr th {\n",
       "        vertical-align: top;\n",
       "    }\n",
       "\n",
       "    .dataframe thead tr th {\n",
       "        text-align: left;\n",
       "    }\n",
       "\n",
       "    .dataframe thead tr:last-of-type th {\n",
       "        text-align: right;\n",
       "    }\n",
       "</style>\n",
       "<table border=\"1\" class=\"dataframe\">\n",
       "  <thead>\n",
       "    <tr>\n",
       "      <th></th>\n",
       "      <th colspan=\"10\" halign=\"left\">rating</th>\n",
       "    </tr>\n",
       "    <tr>\n",
       "      <th>userId</th>\n",
       "      <th>213</th>\n",
       "      <th>214</th>\n",
       "      <th>215</th>\n",
       "      <th>216</th>\n",
       "      <th>217</th>\n",
       "      <th>218</th>\n",
       "      <th>219</th>\n",
       "      <th>220</th>\n",
       "      <th>221</th>\n",
       "      <th>222</th>\n",
       "    </tr>\n",
       "    <tr>\n",
       "      <th>movieId</th>\n",
       "      <th></th>\n",
       "      <th></th>\n",
       "      <th></th>\n",
       "      <th></th>\n",
       "      <th></th>\n",
       "      <th></th>\n",
       "      <th></th>\n",
       "      <th></th>\n",
       "      <th></th>\n",
       "      <th></th>\n",
       "    </tr>\n",
       "  </thead>\n",
       "  <tbody>\n",
       "    <tr>\n",
       "      <td>1057</td>\n",
       "      <td></td>\n",
       "      <td></td>\n",
       "      <td></td>\n",
       "      <td></td>\n",
       "      <td></td>\n",
       "      <td></td>\n",
       "      <td></td>\n",
       "      <td></td>\n",
       "      <td></td>\n",
       "      <td></td>\n",
       "    </tr>\n",
       "    <tr>\n",
       "      <td>1059</td>\n",
       "      <td></td>\n",
       "      <td>4</td>\n",
       "      <td></td>\n",
       "      <td></td>\n",
       "      <td></td>\n",
       "      <td></td>\n",
       "      <td></td>\n",
       "      <td></td>\n",
       "      <td></td>\n",
       "      <td>2</td>\n",
       "    </tr>\n",
       "    <tr>\n",
       "      <td>1060</td>\n",
       "      <td></td>\n",
       "      <td></td>\n",
       "      <td></td>\n",
       "      <td></td>\n",
       "      <td></td>\n",
       "      <td></td>\n",
       "      <td></td>\n",
       "      <td></td>\n",
       "      <td></td>\n",
       "      <td></td>\n",
       "    </tr>\n",
       "    <tr>\n",
       "      <td>1061</td>\n",
       "      <td></td>\n",
       "      <td></td>\n",
       "      <td>3.5</td>\n",
       "      <td></td>\n",
       "      <td>3</td>\n",
       "      <td></td>\n",
       "      <td></td>\n",
       "      <td></td>\n",
       "      <td></td>\n",
       "      <td></td>\n",
       "    </tr>\n",
       "    <tr>\n",
       "      <td>1064</td>\n",
       "      <td></td>\n",
       "      <td></td>\n",
       "      <td></td>\n",
       "      <td></td>\n",
       "      <td></td>\n",
       "      <td></td>\n",
       "      <td></td>\n",
       "      <td></td>\n",
       "      <td></td>\n",
       "      <td></td>\n",
       "    </tr>\n",
       "    <tr>\n",
       "      <td>1066</td>\n",
       "      <td></td>\n",
       "      <td></td>\n",
       "      <td></td>\n",
       "      <td></td>\n",
       "      <td></td>\n",
       "      <td></td>\n",
       "      <td></td>\n",
       "      <td></td>\n",
       "      <td></td>\n",
       "      <td></td>\n",
       "    </tr>\n",
       "    <tr>\n",
       "      <td>1068</td>\n",
       "      <td></td>\n",
       "      <td></td>\n",
       "      <td></td>\n",
       "      <td></td>\n",
       "      <td></td>\n",
       "      <td></td>\n",
       "      <td></td>\n",
       "      <td></td>\n",
       "      <td></td>\n",
       "      <td></td>\n",
       "    </tr>\n",
       "    <tr>\n",
       "      <td>1073</td>\n",
       "      <td></td>\n",
       "      <td>3</td>\n",
       "      <td></td>\n",
       "      <td></td>\n",
       "      <td>3</td>\n",
       "      <td></td>\n",
       "      <td>2.5</td>\n",
       "      <td></td>\n",
       "      <td></td>\n",
       "      <td></td>\n",
       "    </tr>\n",
       "    <tr>\n",
       "      <td>1077</td>\n",
       "      <td></td>\n",
       "      <td></td>\n",
       "      <td></td>\n",
       "      <td>3</td>\n",
       "      <td>2</td>\n",
       "      <td></td>\n",
       "      <td></td>\n",
       "      <td></td>\n",
       "      <td>4</td>\n",
       "      <td></td>\n",
       "    </tr>\n",
       "  </tbody>\n",
       "</table>\n",
       "</div>"
      ],
      "text/plain": [
       "        rating                                      \n",
       "userId     213 214  215 216 217 218  219 220 221 222\n",
       "movieId                                             \n",
       "1057                                                \n",
       "1059             4                                 2\n",
       "1060                                                \n",
       "1061                3.5       3                     \n",
       "1064                                                \n",
       "1066                                                \n",
       "1068                                                \n",
       "1073             3            3      2.5            \n",
       "1077                      3   2                4    "
      ]
     },
     "execution_count": 8,
     "metadata": {},
     "output_type": "execute_result"
    }
   ],
   "source": [
    "df_table.iloc[808:817, 212:222].fillna(\"\")"
   ]
  },
  {
   "cell_type": "markdown",
   "metadata": {},
   "source": [
    "⚙️ 엔지니어\n",
    "\n",
    "> 빵꾸가 많이 보인다...    \n",
    "> 별점이 비어 있는 빵꾸난 부분을   \n",
    "> 우리가 만들 모델을 통해서   \n",
    "> 별점을 예측해서 채워 넣어야 한다.     \n",
    ">\n",
    "> 어떻게?"
   ]
  },
  {
   "cell_type": "markdown",
   "metadata": {},
   "source": [
    "## 미니 데이터 (Mini Data)"
   ]
  },
  {
   "cell_type": "markdown",
   "metadata": {},
   "source": [
    "데이터가 크고 불완전하면 이해하기도 어렵고 다루기도 어렵다.  \n",
    "미니 데이터를 만들어서 솔루션을 찾아보자!  \n",
    "\n",
    "5편의 영화에 대해서 4명이 별점을 매긴 데이터가 있다.      \n",
    "\n",
    " 영화 \\ 사용자    | Alice | Bob | Carol | Dave\n",
    "--------------|------|-----|------|------\n",
    "**뷰티인사이드**   | 5       | 5      | 1       | 1\n",
    "**라라랜드**         | 5       | 4      | 1       | 1\n",
    "**러브스토리**      | 5       | 5      | 1       | 1\n",
    "**매트릭스**         | 1        | 1      | 5       | 5\n",
    "**스타워즈**         | 1        | 1      | 5       | 4\n",
    "\n",
    "우리는 여기서 앨리스(Alice), 밥(Bob), 캐롤(Carol), 데이브(Dave)를 분류할 수 있는 특징과  \n",
    "뷰티 인사이드, 라라랜드, 러브 스토리, 매트릭스, 스타워즈를 분류 할 수 있는 특징을 발견할 것이다.  \n",
    "\n",
    "영화를 보자    \n",
    "뷰티 인사이드, 라라랜드, 러브 스토리는 '로맨틱 영화'로 분류할 수 있고,  \n",
    "매트릭스와 스타워즈는 '공상과학 영화'로 분류할 수 있다.   \n",
    "\n",
    "영화 \\ 특징           | 로맨틱 영화 | 공상과학 영화\n",
    "-----------------|-----------|--------------\n",
    "**뷰티인사이드**  | 높은 점수   | 낮은 점수\n",
    "**라라랜드**        | 높은 점수   | 낮은 점수\n",
    "**러브스토리**     | 높은 점수   | 낮은 점수\n",
    "**매트릭스**        | 낮은 점수   | 높은 점수\n",
    "**스타워즈**        | 낮은 점수   | 높은 점수\n",
    "\n",
    "사용자를 보자  \n",
    "앨리스와 밥은 로맨틱 영화를 좋아하고 공상과학 영화를 좋아하지 않는 '로맨틱한 사람'으로 분류할 수 있고,  \n",
    "캐롤과 데이브는 공상과학 영화를 좋아하고 로맨틱 영화를 좋아하지 않는 '상상력이 풍부한 사람'으로 분류할 수 있다.  \n",
    "\n",
    "특징 \\ 사용자                          | Alice       | Bob          | Carol       | Dave\n",
    "----------------------------|----------|----------|----------|----------\n",
    "**로맨틱한 사람**                   | 높은 점수 | 높은 점수 | 낮은 점수 | 낮은 점수\n",
    "**상상력이 풍부한 사람**        | 낮은 점수 | 낮은 점수 | 높은 점수 | 높은 점수  \n"
   ]
  },
  {
   "cell_type": "markdown",
   "metadata": {},
   "source": [
    "### 잠재 인수 (Latent factor) \n",
    "\n",
    "'로맨틱 영화', '상상력이 풍부한 사람'과 같은 피쳐(feature)는 데이터에서는 보이지 않는다.   \n",
    "이와같이 데이터들 속에 숨어있는 특징을 **잠재 인수(Latent factor)** 라고 한다.  \n",
    "\n",
    "⚙️ 엔지니어\n",
    "\n",
    "> 잠재 인수(Latent factor)의 값들이       \n",
    "> 영화의 특징을 보여주고    \n",
    "> 평가자의 특징을 보여 주면서  \n",
    "> 별점수까지 보여 주는 방법이 없을까?    \n",
    "> \n",
    "> 있다! 그것은 바로...  "
   ]
  },
  {
   "cell_type": "markdown",
   "metadata": {},
   "source": [
    "### 행렬 인수 분해 (Matrix Factorization)  \n",
    "\n",
    "\n",
    "\n",
    "별점 매트릭스를 $R$라고 하자    \n",
    "\n",
    "$R= \\begin{bmatrix}\n",
    "5 & 5 & 1 & 1  \\\\\n",
    "5 & 4 & 1 & 1  \\\\\n",
    "5 & 5 & 1 & 1  \\\\\n",
    "1 & 1 & 5 & 5  \\\\\n",
    "1 & 1 & 5 & 4\n",
    "\\end{bmatrix}$  \n",
    "\n",
    "우리는 이제 $R$ (5X4) 매트릭스를 $Q$ (5X2)와 $P^T$ (2X4) 매트릭스로 분해를 할 것이다.  "
   ]
  },
  {
   "cell_type": "code",
   "execution_count": 9,
   "metadata": {},
   "outputs": [],
   "source": [
    "# Non-negative matrix factorization\n",
    "from sklearn.decomposition import NMF\n",
    "R = [\n",
    "     [5,5,1,1],\n",
    "     [5,4,1,1],\n",
    "     [5,5,1,1],\n",
    "     [1,1,5,5],\n",
    "     [1,1,5,4],\n",
    "    ]\n",
    "\n",
    "k = 2 # number of factors\n",
    "model = NMF(n_components=k)\n",
    "Q = model.fit_transform(np.array(R))\n",
    "P = model.components_"
   ]
  },
  {
   "cell_type": "markdown",
   "metadata": {},
   "source": [
    "아래 $Q$ 매트릭스를 보자.  \n",
    "\n",
    "0번 컬럼(Column)을 '로맨틱 영화',  \n",
    "1번 컬럼(Column)을 '공상과학 영화' 라고 하면  \n",
    "$Q$ 매트릭스는 영화의 특징을 나타내고 있다.  "
   ]
  },
  {
   "cell_type": "code",
   "execution_count": 10,
   "metadata": {},
   "outputs": [
    {
     "data": {
      "text/html": [
       "<div>\n",
       "<style scoped>\n",
       "    .dataframe tbody tr th:only-of-type {\n",
       "        vertical-align: middle;\n",
       "    }\n",
       "\n",
       "    .dataframe tbody tr th {\n",
       "        vertical-align: top;\n",
       "    }\n",
       "\n",
       "    .dataframe thead th {\n",
       "        text-align: right;\n",
       "    }\n",
       "</style>\n",
       "<table border=\"1\" class=\"dataframe\">\n",
       "  <thead>\n",
       "    <tr style=\"text-align: right;\">\n",
       "      <th></th>\n",
       "      <th>Romantic</th>\n",
       "      <th>Sci-Fi</th>\n",
       "    </tr>\n",
       "  </thead>\n",
       "  <tbody>\n",
       "    <tr>\n",
       "      <td>0</td>\n",
       "      <td>1.931132</td>\n",
       "      <td>0.000002</td>\n",
       "    </tr>\n",
       "    <tr>\n",
       "      <td>1</td>\n",
       "      <td>1.744253</td>\n",
       "      <td>0.047301</td>\n",
       "    </tr>\n",
       "    <tr>\n",
       "      <td>2</td>\n",
       "      <td>1.931132</td>\n",
       "      <td>0.000002</td>\n",
       "    </tr>\n",
       "    <tr>\n",
       "      <td>3</td>\n",
       "      <td>0.376532</td>\n",
       "      <td>2.425963</td>\n",
       "    </tr>\n",
       "    <tr>\n",
       "      <td>4</td>\n",
       "      <td>0.375488</td>\n",
       "      <td>2.186905</td>\n",
       "    </tr>\n",
       "  </tbody>\n",
       "</table>\n",
       "</div>"
      ],
      "text/plain": [
       "   Romantic    Sci-Fi\n",
       "0  1.931132  0.000002\n",
       "1  1.744253  0.047301\n",
       "2  1.931132  0.000002\n",
       "3  0.376532  2.425963\n",
       "4  0.375488  2.186905"
      ]
     },
     "execution_count": 10,
     "metadata": {},
     "output_type": "execute_result"
    }
   ],
   "source": [
    "# Q (5X2) 매트릭스\n",
    "pd.DataFrame(Q, columns=['Romantic', 'Sci-Fi'])"
   ]
  },
  {
   "cell_type": "markdown",
   "metadata": {},
   "source": [
    "아래 $P^T$ 매트릭스를 보자.  \n",
    "\n",
    "0번 열(Row)을 '로맨틱한 사람',  \n",
    "1번 열(Row)을 '상상력이 풍부한 사람' 이라고 하면  \n",
    "$P^T$ 매트릭스는 사용자의 특징을 나타내고 있다.  "
   ]
  },
  {
   "cell_type": "code",
   "execution_count": 11,
   "metadata": {},
   "outputs": [
    {
     "data": {
      "text/html": [
       "<div>\n",
       "<style scoped>\n",
       "    .dataframe tbody tr th:only-of-type {\n",
       "        vertical-align: middle;\n",
       "    }\n",
       "\n",
       "    .dataframe tbody tr th {\n",
       "        vertical-align: top;\n",
       "    }\n",
       "\n",
       "    .dataframe thead th {\n",
       "        text-align: right;\n",
       "    }\n",
       "</style>\n",
       "<table border=\"1\" class=\"dataframe\">\n",
       "  <thead>\n",
       "    <tr style=\"text-align: right;\">\n",
       "      <th></th>\n",
       "      <th>0</th>\n",
       "      <th>1</th>\n",
       "      <th>2</th>\n",
       "      <th>3</th>\n",
       "    </tr>\n",
       "  </thead>\n",
       "  <tbody>\n",
       "    <tr>\n",
       "      <td>Romantic Guy</td>\n",
       "      <td>2.669263</td>\n",
       "      <td>2.503536</td>\n",
       "      <td>0.518479</td>\n",
       "      <td>0.518187</td>\n",
       "    </tr>\n",
       "    <tr>\n",
       "      <td>Imaginary Guy</td>\n",
       "      <td>0.000000</td>\n",
       "      <td>0.023698</td>\n",
       "      <td>2.077725</td>\n",
       "      <td>1.872818</td>\n",
       "    </tr>\n",
       "  </tbody>\n",
       "</table>\n",
       "</div>"
      ],
      "text/plain": [
       "                      0         1         2         3\n",
       "Romantic Guy   2.669263  2.503536  0.518479  0.518187\n",
       "Imaginary Guy  0.000000  0.023698  2.077725  1.872818"
      ]
     },
     "execution_count": 11,
     "metadata": {},
     "output_type": "execute_result"
    }
   ],
   "source": [
    "# P (2X4) 매트릭스\n",
    "pd.DataFrame(P, index=['Romantic Guy', 'Imaginary Guy'])"
   ]
  },
  {
   "cell_type": "markdown",
   "metadata": {},
   "source": [
    "마지막으로 $Q$와 $P^T$ 매트릭스가  \n",
    "별점을 표현하는 지를 확인하기 위해서  \n",
    "$Q$와 $P^T$를 곱해 보자  "
   ]
  },
  {
   "cell_type": "code",
   "execution_count": 12,
   "metadata": {},
   "outputs": [
    {
     "data": {
      "text/html": [
       "<div>\n",
       "<style scoped>\n",
       "    .dataframe tbody tr th:only-of-type {\n",
       "        vertical-align: middle;\n",
       "    }\n",
       "\n",
       "    .dataframe tbody tr th {\n",
       "        vertical-align: top;\n",
       "    }\n",
       "\n",
       "    .dataframe thead th {\n",
       "        text-align: right;\n",
       "    }\n",
       "</style>\n",
       "<table border=\"1\" class=\"dataframe\">\n",
       "  <thead>\n",
       "    <tr style=\"text-align: right;\">\n",
       "      <th></th>\n",
       "      <th>0</th>\n",
       "      <th>1</th>\n",
       "      <th>2</th>\n",
       "      <th>3</th>\n",
       "    </tr>\n",
       "  </thead>\n",
       "  <tbody>\n",
       "    <tr>\n",
       "      <td>0</td>\n",
       "      <td>5.154699</td>\n",
       "      <td>4.834659</td>\n",
       "      <td>1.001255</td>\n",
       "      <td>1.000692</td>\n",
       "    </tr>\n",
       "    <tr>\n",
       "      <td>1</td>\n",
       "      <td>4.655871</td>\n",
       "      <td>4.367922</td>\n",
       "      <td>1.002637</td>\n",
       "      <td>0.992436</td>\n",
       "    </tr>\n",
       "    <tr>\n",
       "      <td>2</td>\n",
       "      <td>5.154699</td>\n",
       "      <td>4.834659</td>\n",
       "      <td>1.001255</td>\n",
       "      <td>1.000692</td>\n",
       "    </tr>\n",
       "    <tr>\n",
       "      <td>3</td>\n",
       "      <td>1.005062</td>\n",
       "      <td>1.000152</td>\n",
       "      <td>5.235708</td>\n",
       "      <td>4.738501</td>\n",
       "    </tr>\n",
       "    <tr>\n",
       "      <td>4</td>\n",
       "      <td>1.002276</td>\n",
       "      <td>0.991874</td>\n",
       "      <td>4.738469</td>\n",
       "      <td>4.290248</td>\n",
       "    </tr>\n",
       "  </tbody>\n",
       "</table>\n",
       "</div>"
      ],
      "text/plain": [
       "          0         1         2         3\n",
       "0  5.154699  4.834659  1.001255  1.000692\n",
       "1  4.655871  4.367922  1.002637  0.992436\n",
       "2  5.154699  4.834659  1.001255  1.000692\n",
       "3  1.005062  1.000152  5.235708  4.738501\n",
       "4  1.002276  0.991874  4.738469  4.290248"
      ]
     },
     "execution_count": 12,
     "metadata": {},
     "output_type": "execute_result"
    }
   ],
   "source": [
    "R_hat = np.dot(Q,P)\n",
    "pd.DataFrame(R_hat)"
   ]
  },
  {
   "cell_type": "markdown",
   "metadata": {},
   "source": [
    "$R$과 비슷한 값이 나온다.  \n",
    "\n",
    "이렇게  $R \\simeq Q \\cdot P^T$ 를 **행렬인수분해(Matrix Factorization)** 라고 한다.  "
   ]
  },
  {
   "cell_type": "markdown",
   "metadata": {},
   "source": [
    "⚙️ 엔지니어\n",
    "\n",
    "> 놀랍다!   \n",
    ">\n",
    "> 평가자들의 영화 평점 매트릭스만 가지고  \n",
    "> 평가자들의 잠재 인수(latent factor)와  \n",
    "> 영화의 잠재 인수(latent factor)를  \n",
    "> 추출할 수 있다.  \n",
    ">\n",
    "> 수학이 이렇게 신기하고  \n",
    "> 재미있다니...  \n",
    ">\n",
    "> 학생때  \n",
    "> 열심히 할걸...  \n",
    ">\n",
    "> 그러나  \n",
    ">\n",
    "> 별점이 빵꾸난 데이터에 대해서  \n",
    "> 잠재 인수(Latent factor)를 어떻게 찾을까?  "
   ]
  },
  {
   "cell_type": "markdown",
   "metadata": {},
   "source": [
    "### 잠재 인수 찾기\n",
    "\n",
    "앞에서 배운 선형회귀(Linear regression)를 기억해 보자  \n",
    "\n",
    "1. $\\hat y=wx+b$를 정의하고  \n",
    "2. 손실함수(Loss function) $J(w,b)$를 정의하고  \n",
    "3. 경사하강법(Gradient descent)으로 손실값이 최소가 되는 $w, b$를 찾았다.    \n",
    "\n",
    "이것을 잠재 인수 찾기에 활용해 보자  \n",
    "\n",
    "1. $\\hat r=q \\cdot p^T$를 정의하고  \n",
    "2. 손실함수(Loss function) $J(p,q)$를 정의하고  \n",
    "3. 경사하강법(Gradient descent)으로 손실값이 최소가 되는 $p, q$를 찾으면 되지 않을까?  \n"
   ]
  },
  {
   "cell_type": "markdown",
   "metadata": {},
   "source": [
    "### Keras를 이용한 미니 모델링\n",
    "\n",
    "⚙️ 엔지니어\n",
    "\n",
    "> 좋았어!  \n",
    ">\n",
    "> 미니 데이터를 가지고 확인 해보자\n"
   ]
  },
  {
   "cell_type": "code",
   "execution_count": 13,
   "metadata": {},
   "outputs": [
    {
     "data": {
      "text/html": [
       "<div>\n",
       "<style scoped>\n",
       "    .dataframe tbody tr th:only-of-type {\n",
       "        vertical-align: middle;\n",
       "    }\n",
       "\n",
       "    .dataframe tbody tr th {\n",
       "        vertical-align: top;\n",
       "    }\n",
       "\n",
       "    .dataframe thead th {\n",
       "        text-align: right;\n",
       "    }\n",
       "</style>\n",
       "<table border=\"1\" class=\"dataframe\">\n",
       "  <thead>\n",
       "    <tr style=\"text-align: right;\">\n",
       "      <th></th>\n",
       "      <th>user</th>\n",
       "      <th>item</th>\n",
       "      <th>rating</th>\n",
       "    </tr>\n",
       "  </thead>\n",
       "  <tbody>\n",
       "    <tr>\n",
       "      <td>0</td>\n",
       "      <td>Alice</td>\n",
       "      <td>Beauty Inside</td>\n",
       "      <td>5</td>\n",
       "    </tr>\n",
       "    <tr>\n",
       "      <td>1</td>\n",
       "      <td>Alice</td>\n",
       "      <td>La La Land</td>\n",
       "      <td>5</td>\n",
       "    </tr>\n",
       "    <tr>\n",
       "      <td>2</td>\n",
       "      <td>Alice</td>\n",
       "      <td>Love Story</td>\n",
       "      <td>5</td>\n",
       "    </tr>\n",
       "    <tr>\n",
       "      <td>3</td>\n",
       "      <td>Alice</td>\n",
       "      <td>Matrix</td>\n",
       "      <td>1</td>\n",
       "    </tr>\n",
       "    <tr>\n",
       "      <td>4</td>\n",
       "      <td>Alice</td>\n",
       "      <td>Star Wars</td>\n",
       "      <td>1</td>\n",
       "    </tr>\n",
       "    <tr>\n",
       "      <td>5</td>\n",
       "      <td>Bob</td>\n",
       "      <td>La La Land</td>\n",
       "      <td>4</td>\n",
       "    </tr>\n",
       "    <tr>\n",
       "      <td>6</td>\n",
       "      <td>Bob</td>\n",
       "      <td>Love Story</td>\n",
       "      <td>5</td>\n",
       "    </tr>\n",
       "    <tr>\n",
       "      <td>7</td>\n",
       "      <td>Bob</td>\n",
       "      <td>Matrix</td>\n",
       "      <td>1</td>\n",
       "    </tr>\n",
       "    <tr>\n",
       "      <td>8</td>\n",
       "      <td>Bob</td>\n",
       "      <td>Star Wars</td>\n",
       "      <td>1</td>\n",
       "    </tr>\n",
       "    <tr>\n",
       "      <td>9</td>\n",
       "      <td>Carol</td>\n",
       "      <td>Beauty Inside</td>\n",
       "      <td>1</td>\n",
       "    </tr>\n",
       "    <tr>\n",
       "      <td>10</td>\n",
       "      <td>Carol</td>\n",
       "      <td>La La Land</td>\n",
       "      <td>1</td>\n",
       "    </tr>\n",
       "    <tr>\n",
       "      <td>11</td>\n",
       "      <td>Carol</td>\n",
       "      <td>Matrix</td>\n",
       "      <td>5</td>\n",
       "    </tr>\n",
       "    <tr>\n",
       "      <td>12</td>\n",
       "      <td>Carol</td>\n",
       "      <td>Star Wars</td>\n",
       "      <td>5</td>\n",
       "    </tr>\n",
       "    <tr>\n",
       "      <td>13</td>\n",
       "      <td>Dave</td>\n",
       "      <td>Beauty Inside</td>\n",
       "      <td>1</td>\n",
       "    </tr>\n",
       "    <tr>\n",
       "      <td>14</td>\n",
       "      <td>Dave</td>\n",
       "      <td>La La Land</td>\n",
       "      <td>1</td>\n",
       "    </tr>\n",
       "    <tr>\n",
       "      <td>15</td>\n",
       "      <td>Dave</td>\n",
       "      <td>Love Story</td>\n",
       "      <td>1</td>\n",
       "    </tr>\n",
       "    <tr>\n",
       "      <td>16</td>\n",
       "      <td>Dave</td>\n",
       "      <td>Matrix</td>\n",
       "      <td>5</td>\n",
       "    </tr>\n",
       "    <tr>\n",
       "      <td>17</td>\n",
       "      <td>Dave</td>\n",
       "      <td>Star Wars</td>\n",
       "      <td>4</td>\n",
       "    </tr>\n",
       "  </tbody>\n",
       "</table>\n",
       "</div>"
      ],
      "text/plain": [
       "     user           item  rating\n",
       "0   Alice  Beauty Inside       5\n",
       "1   Alice     La La Land       5\n",
       "2   Alice     Love Story       5\n",
       "3   Alice         Matrix       1\n",
       "4   Alice      Star Wars       1\n",
       "5     Bob     La La Land       4\n",
       "6     Bob     Love Story       5\n",
       "7     Bob         Matrix       1\n",
       "8     Bob      Star Wars       1\n",
       "9   Carol  Beauty Inside       1\n",
       "10  Carol     La La Land       1\n",
       "11  Carol         Matrix       5\n",
       "12  Carol      Star Wars       5\n",
       "13   Dave  Beauty Inside       1\n",
       "14   Dave     La La Land       1\n",
       "15   Dave     Love Story       1\n",
       "16   Dave         Matrix       5\n",
       "17   Dave      Star Wars       4"
      ]
     },
     "execution_count": 13,
     "metadata": {},
     "output_type": "execute_result"
    }
   ],
   "source": [
    "import pandas as pd\n",
    "import numpy as np\n",
    "\n",
    "data = [\n",
    "    ['Alice', 'Beauty Inside', 5],\n",
    "    ['Alice', 'La La Land', 5],\n",
    "    ['Alice', 'Love Story', 5],\n",
    "    ['Alice', 'Matrix', 1],\n",
    "    ['Alice', 'Star Wars', 1], \n",
    "    ['Bob', 'La La Land', 4],\n",
    "    ['Bob', 'Love Story', 5],\n",
    "    ['Bob', 'Matrix', 1],\n",
    "    ['Bob', 'Star Wars', 1],\n",
    "    ['Carol', 'Beauty Inside', 1],\n",
    "    ['Carol', 'La La Land', 1],\n",
    "    ['Carol', 'Matrix', 5],\n",
    "    ['Carol', 'Star Wars', 5], \n",
    "    ['Dave', 'Beauty Inside', 1], \n",
    "    ['Dave', 'La La Land', 1],\n",
    "    ['Dave', 'Love Story', 1],\n",
    "    ['Dave', 'Matrix', 5],\n",
    "    ['Dave', 'Star Wars', 4],\n",
    "]\n",
    "\n",
    "mini_df = pd.DataFrame( data = data, columns = ['user', 'item', 'rating'])\n",
    "mini_df"
   ]
  },
  {
   "cell_type": "markdown",
   "metadata": {},
   "source": [
    "영화 제목을 열(Row)로 하고 사용자 이름을 컬럼(Column)으로 테이블을 만들자  "
   ]
  },
  {
   "cell_type": "code",
   "execution_count": 14,
   "metadata": {},
   "outputs": [
    {
     "data": {
      "text/html": [
       "<div>\n",
       "<style scoped>\n",
       "    .dataframe tbody tr th:only-of-type {\n",
       "        vertical-align: middle;\n",
       "    }\n",
       "\n",
       "    .dataframe tbody tr th {\n",
       "        vertical-align: top;\n",
       "    }\n",
       "\n",
       "    .dataframe thead th {\n",
       "        text-align: right;\n",
       "    }\n",
       "</style>\n",
       "<table border=\"1\" class=\"dataframe\">\n",
       "  <thead>\n",
       "    <tr style=\"text-align: right;\">\n",
       "      <th>user</th>\n",
       "      <th>Alice</th>\n",
       "      <th>Bob</th>\n",
       "      <th>Carol</th>\n",
       "      <th>Dave</th>\n",
       "    </tr>\n",
       "    <tr>\n",
       "      <th>item</th>\n",
       "      <th></th>\n",
       "      <th></th>\n",
       "      <th></th>\n",
       "      <th></th>\n",
       "    </tr>\n",
       "  </thead>\n",
       "  <tbody>\n",
       "    <tr>\n",
       "      <td>Beauty Inside</td>\n",
       "      <td>5.0</td>\n",
       "      <td></td>\n",
       "      <td>1</td>\n",
       "      <td>1.0</td>\n",
       "    </tr>\n",
       "    <tr>\n",
       "      <td>La La Land</td>\n",
       "      <td>5.0</td>\n",
       "      <td>4</td>\n",
       "      <td>1</td>\n",
       "      <td>1.0</td>\n",
       "    </tr>\n",
       "    <tr>\n",
       "      <td>Love Story</td>\n",
       "      <td>5.0</td>\n",
       "      <td>5</td>\n",
       "      <td></td>\n",
       "      <td>1.0</td>\n",
       "    </tr>\n",
       "    <tr>\n",
       "      <td>Matrix</td>\n",
       "      <td>1.0</td>\n",
       "      <td>1</td>\n",
       "      <td>5</td>\n",
       "      <td>5.0</td>\n",
       "    </tr>\n",
       "    <tr>\n",
       "      <td>Star Wars</td>\n",
       "      <td>1.0</td>\n",
       "      <td>1</td>\n",
       "      <td>5</td>\n",
       "      <td>4.0</td>\n",
       "    </tr>\n",
       "  </tbody>\n",
       "</table>\n",
       "</div>"
      ],
      "text/plain": [
       "user           Alice Bob Carol  Dave\n",
       "item                                \n",
       "Beauty Inside    5.0         1   1.0\n",
       "La La Land       5.0   4     1   1.0\n",
       "Love Story       5.0   5         1.0\n",
       "Matrix           1.0   1     5   5.0\n",
       "Star Wars        1.0   1     5   4.0"
      ]
     },
     "execution_count": 14,
     "metadata": {},
     "output_type": "execute_result"
    }
   ],
   "source": [
    "df_table = pd.pivot_table(mini_df, values='rating', index='item', columns='user', fill_value='')\n",
    "df_table"
   ]
  },
  {
   "cell_type": "markdown",
   "metadata": {},
   "source": [
    "#### 데이터 변환 (Data Transformation)\n",
    "\n",
    "사용자 이름과 영화 제목은 Keras가 입력을 받을 수 있도록 숫자로 변환이 되어야 한다.  \n",
    "사용자(`user`)를 숫자로 변환해 보자  \n",
    "\n",
    "Alice가 0번, Bob이 1번, Carol이 2번, Dave가 3번으로 변환 되었다."
   ]
  },
  {
   "cell_type": "code",
   "execution_count": 15,
   "metadata": {},
   "outputs": [
    {
     "data": {
      "text/html": [
       "<div>\n",
       "<style scoped>\n",
       "    .dataframe tbody tr th:only-of-type {\n",
       "        vertical-align: middle;\n",
       "    }\n",
       "\n",
       "    .dataframe tbody tr th {\n",
       "        vertical-align: top;\n",
       "    }\n",
       "\n",
       "    .dataframe thead th {\n",
       "        text-align: right;\n",
       "    }\n",
       "</style>\n",
       "<table border=\"1\" class=\"dataframe\">\n",
       "  <thead>\n",
       "    <tr style=\"text-align: right;\">\n",
       "      <th></th>\n",
       "      <th>user</th>\n",
       "      <th>item</th>\n",
       "      <th>rating</th>\n",
       "    </tr>\n",
       "  </thead>\n",
       "  <tbody>\n",
       "    <tr>\n",
       "      <td>0</td>\n",
       "      <td>0</td>\n",
       "      <td>Beauty Inside</td>\n",
       "      <td>5</td>\n",
       "    </tr>\n",
       "    <tr>\n",
       "      <td>1</td>\n",
       "      <td>0</td>\n",
       "      <td>La La Land</td>\n",
       "      <td>5</td>\n",
       "    </tr>\n",
       "    <tr>\n",
       "      <td>2</td>\n",
       "      <td>0</td>\n",
       "      <td>Love Story</td>\n",
       "      <td>5</td>\n",
       "    </tr>\n",
       "    <tr>\n",
       "      <td>3</td>\n",
       "      <td>0</td>\n",
       "      <td>Matrix</td>\n",
       "      <td>1</td>\n",
       "    </tr>\n",
       "    <tr>\n",
       "      <td>4</td>\n",
       "      <td>0</td>\n",
       "      <td>Star Wars</td>\n",
       "      <td>1</td>\n",
       "    </tr>\n",
       "    <tr>\n",
       "      <td>5</td>\n",
       "      <td>1</td>\n",
       "      <td>La La Land</td>\n",
       "      <td>4</td>\n",
       "    </tr>\n",
       "    <tr>\n",
       "      <td>6</td>\n",
       "      <td>1</td>\n",
       "      <td>Love Story</td>\n",
       "      <td>5</td>\n",
       "    </tr>\n",
       "    <tr>\n",
       "      <td>7</td>\n",
       "      <td>1</td>\n",
       "      <td>Matrix</td>\n",
       "      <td>1</td>\n",
       "    </tr>\n",
       "    <tr>\n",
       "      <td>8</td>\n",
       "      <td>1</td>\n",
       "      <td>Star Wars</td>\n",
       "      <td>1</td>\n",
       "    </tr>\n",
       "    <tr>\n",
       "      <td>9</td>\n",
       "      <td>2</td>\n",
       "      <td>Beauty Inside</td>\n",
       "      <td>1</td>\n",
       "    </tr>\n",
       "    <tr>\n",
       "      <td>10</td>\n",
       "      <td>2</td>\n",
       "      <td>La La Land</td>\n",
       "      <td>1</td>\n",
       "    </tr>\n",
       "    <tr>\n",
       "      <td>11</td>\n",
       "      <td>2</td>\n",
       "      <td>Matrix</td>\n",
       "      <td>5</td>\n",
       "    </tr>\n",
       "    <tr>\n",
       "      <td>12</td>\n",
       "      <td>2</td>\n",
       "      <td>Star Wars</td>\n",
       "      <td>5</td>\n",
       "    </tr>\n",
       "    <tr>\n",
       "      <td>13</td>\n",
       "      <td>3</td>\n",
       "      <td>Beauty Inside</td>\n",
       "      <td>1</td>\n",
       "    </tr>\n",
       "    <tr>\n",
       "      <td>14</td>\n",
       "      <td>3</td>\n",
       "      <td>La La Land</td>\n",
       "      <td>1</td>\n",
       "    </tr>\n",
       "    <tr>\n",
       "      <td>15</td>\n",
       "      <td>3</td>\n",
       "      <td>Love Story</td>\n",
       "      <td>1</td>\n",
       "    </tr>\n",
       "    <tr>\n",
       "      <td>16</td>\n",
       "      <td>3</td>\n",
       "      <td>Matrix</td>\n",
       "      <td>5</td>\n",
       "    </tr>\n",
       "    <tr>\n",
       "      <td>17</td>\n",
       "      <td>3</td>\n",
       "      <td>Star Wars</td>\n",
       "      <td>4</td>\n",
       "    </tr>\n",
       "  </tbody>\n",
       "</table>\n",
       "</div>"
      ],
      "text/plain": [
       "    user           item  rating\n",
       "0      0  Beauty Inside       5\n",
       "1      0     La La Land       5\n",
       "2      0     Love Story       5\n",
       "3      0         Matrix       1\n",
       "4      0      Star Wars       1\n",
       "5      1     La La Land       4\n",
       "6      1     Love Story       5\n",
       "7      1         Matrix       1\n",
       "8      1      Star Wars       1\n",
       "9      2  Beauty Inside       1\n",
       "10     2     La La Land       1\n",
       "11     2         Matrix       5\n",
       "12     2      Star Wars       5\n",
       "13     3  Beauty Inside       1\n",
       "14     3     La La Land       1\n",
       "15     3     Love Story       1\n",
       "16     3         Matrix       5\n",
       "17     3      Star Wars       4"
      ]
     },
     "execution_count": 15,
     "metadata": {},
     "output_type": "execute_result"
    }
   ],
   "source": [
    "mini_df.user = mini_df.user.astype('category').cat.codes.values\n",
    "mini_df"
   ]
  },
  {
   "cell_type": "markdown",
   "metadata": {},
   "source": [
    "영화 제목(`item`)을 숫자로 변환한다.  \n",
    "뷰티인사이드가 0, 라라랜드가 1, 러브스토리가 2, 매트릭스가 3, 스타워즈 4로 변환된 것을 확인 할 수 있다.  "
   ]
  },
  {
   "cell_type": "code",
   "execution_count": 16,
   "metadata": {},
   "outputs": [
    {
     "data": {
      "text/html": [
       "<div>\n",
       "<style scoped>\n",
       "    .dataframe tbody tr th:only-of-type {\n",
       "        vertical-align: middle;\n",
       "    }\n",
       "\n",
       "    .dataframe tbody tr th {\n",
       "        vertical-align: top;\n",
       "    }\n",
       "\n",
       "    .dataframe thead th {\n",
       "        text-align: right;\n",
       "    }\n",
       "</style>\n",
       "<table border=\"1\" class=\"dataframe\">\n",
       "  <thead>\n",
       "    <tr style=\"text-align: right;\">\n",
       "      <th></th>\n",
       "      <th>user</th>\n",
       "      <th>item</th>\n",
       "      <th>rating</th>\n",
       "    </tr>\n",
       "  </thead>\n",
       "  <tbody>\n",
       "    <tr>\n",
       "      <td>0</td>\n",
       "      <td>0</td>\n",
       "      <td>0</td>\n",
       "      <td>5</td>\n",
       "    </tr>\n",
       "    <tr>\n",
       "      <td>1</td>\n",
       "      <td>0</td>\n",
       "      <td>1</td>\n",
       "      <td>5</td>\n",
       "    </tr>\n",
       "    <tr>\n",
       "      <td>2</td>\n",
       "      <td>0</td>\n",
       "      <td>2</td>\n",
       "      <td>5</td>\n",
       "    </tr>\n",
       "    <tr>\n",
       "      <td>3</td>\n",
       "      <td>0</td>\n",
       "      <td>3</td>\n",
       "      <td>1</td>\n",
       "    </tr>\n",
       "    <tr>\n",
       "      <td>4</td>\n",
       "      <td>0</td>\n",
       "      <td>4</td>\n",
       "      <td>1</td>\n",
       "    </tr>\n",
       "    <tr>\n",
       "      <td>5</td>\n",
       "      <td>1</td>\n",
       "      <td>1</td>\n",
       "      <td>4</td>\n",
       "    </tr>\n",
       "    <tr>\n",
       "      <td>6</td>\n",
       "      <td>1</td>\n",
       "      <td>2</td>\n",
       "      <td>5</td>\n",
       "    </tr>\n",
       "    <tr>\n",
       "      <td>7</td>\n",
       "      <td>1</td>\n",
       "      <td>3</td>\n",
       "      <td>1</td>\n",
       "    </tr>\n",
       "    <tr>\n",
       "      <td>8</td>\n",
       "      <td>1</td>\n",
       "      <td>4</td>\n",
       "      <td>1</td>\n",
       "    </tr>\n",
       "    <tr>\n",
       "      <td>9</td>\n",
       "      <td>2</td>\n",
       "      <td>0</td>\n",
       "      <td>1</td>\n",
       "    </tr>\n",
       "    <tr>\n",
       "      <td>10</td>\n",
       "      <td>2</td>\n",
       "      <td>1</td>\n",
       "      <td>1</td>\n",
       "    </tr>\n",
       "    <tr>\n",
       "      <td>11</td>\n",
       "      <td>2</td>\n",
       "      <td>3</td>\n",
       "      <td>5</td>\n",
       "    </tr>\n",
       "    <tr>\n",
       "      <td>12</td>\n",
       "      <td>2</td>\n",
       "      <td>4</td>\n",
       "      <td>5</td>\n",
       "    </tr>\n",
       "    <tr>\n",
       "      <td>13</td>\n",
       "      <td>3</td>\n",
       "      <td>0</td>\n",
       "      <td>1</td>\n",
       "    </tr>\n",
       "    <tr>\n",
       "      <td>14</td>\n",
       "      <td>3</td>\n",
       "      <td>1</td>\n",
       "      <td>1</td>\n",
       "    </tr>\n",
       "    <tr>\n",
       "      <td>15</td>\n",
       "      <td>3</td>\n",
       "      <td>2</td>\n",
       "      <td>1</td>\n",
       "    </tr>\n",
       "    <tr>\n",
       "      <td>16</td>\n",
       "      <td>3</td>\n",
       "      <td>3</td>\n",
       "      <td>5</td>\n",
       "    </tr>\n",
       "    <tr>\n",
       "      <td>17</td>\n",
       "      <td>3</td>\n",
       "      <td>4</td>\n",
       "      <td>4</td>\n",
       "    </tr>\n",
       "  </tbody>\n",
       "</table>\n",
       "</div>"
      ],
      "text/plain": [
       "    user  item  rating\n",
       "0      0     0       5\n",
       "1      0     1       5\n",
       "2      0     2       5\n",
       "3      0     3       1\n",
       "4      0     4       1\n",
       "5      1     1       4\n",
       "6      1     2       5\n",
       "7      1     3       1\n",
       "8      1     4       1\n",
       "9      2     0       1\n",
       "10     2     1       1\n",
       "11     2     3       5\n",
       "12     2     4       5\n",
       "13     3     0       1\n",
       "14     3     1       1\n",
       "15     3     2       1\n",
       "16     3     3       5\n",
       "17     3     4       4"
      ]
     },
     "execution_count": 16,
     "metadata": {},
     "output_type": "execute_result"
    }
   ],
   "source": [
    "mini_df.item = mini_df.item.astype('category').cat.codes.values\n",
    "mini_df"
   ]
  },
  {
   "cell_type": "code",
   "execution_count": 17,
   "metadata": {},
   "outputs": [],
   "source": [
    "from tensorflow.keras import Model\n",
    "from tensorflow.keras.layers import Input, Embedding, Flatten, dot\n",
    "from tensorflow.keras import regularizers\n",
    "\n",
    "item_input = Input(shape=[1]) # mini_df.item\n",
    "user_input = Input(shape=[1]) # mini_df.user"
   ]
  },
  {
   "cell_type": "markdown",
   "metadata": {},
   "source": [
    "#### 임베딩 (Embedding)\n",
    "\n",
    "잠재 인수(Latent factor)의 모양(Shape)를 정의하고 모델에 삽입하는 것을 **임베딩(Embedding)** 이라고 한다.  \n",
    "임베딩(Embedding)된 값들은 모델이 훈련되면서 학습이 된다. 다시 말하면 손실함수(Loss function)가 최저값을 찾아가는 과정에서 최적의 값으로 자동으로 세팅된다.    \n",
    "영화(`item`)에 대한 잠재 인수의 모양(Shape)을 다음과 같이 정의하자.  \n",
    "\n",
    "- 열(Row)의 길이는 영화의 개수\n",
    "- 컬럼(Column)의 길이는 잠재 인수의 개수\n",
    "\n",
    "$Q = \\begin{bmatrix}\n",
    "q_{00} & q_{01} \\\\\n",
    "q_{10} & q_{11} \\\\\n",
    "q_{20} & q_{21} \\\\\n",
    "q_{30} & q_{31} \\\\\n",
    "q_{40} & q_{41} \n",
    "\\end{bmatrix} $\n",
    "\n",
    "사용자(`user`)에 대한 잠재 인수의 모양(Shape)을 다음과 같이 정의하자.  \n",
    "\n",
    "- 열(Row)의 길이는 사용자의 수\n",
    "- 컬럼(Column)의 길이는 잠재 인수의 개수\n",
    "\n",
    "$P = \\begin{bmatrix}\n",
    "p_{00} & p_{01} \\\\\n",
    "p_{10} & p_{11} \\\\\n",
    "p_{20} & p_{21} \\\\\n",
    "p_{30} & p_{31}\n",
    "\\end{bmatrix} $\n",
    "\n"
   ]
  },
  {
   "cell_type": "code",
   "execution_count": 18,
   "metadata": {},
   "outputs": [
    {
     "name": "stderr",
     "output_type": "stream",
     "text": [
      "WARNING: Logging before flag parsing goes to stderr.\n",
      "W0913 01:34:07.430426 139839168730944 deprecation.py:506] From /home/dataman/anaconda3/lib/python3.7/site-packages/tensorflow/python/keras/initializers.py:119: calling RandomUniform.__init__ (from tensorflow.python.ops.init_ops) with dtype is deprecated and will be removed in a future version.\n",
      "Instructions for updating:\n",
      "Call initializer instance with the dtype argument instead of passing it to the constructor\n"
     ]
    }
   ],
   "source": [
    "n_items = len(mini_df.item.unique()) # 영화 5편\n",
    "n_items_latent_factors = 2 # 영화의 잠재 인수 개수\n",
    "\n",
    "n_users = len(mini_df.user.unique()) # 사용자 4명 \n",
    "n_users_latent_factors = 2 # 사용자의 잠재 인수 개수\n",
    "\n",
    "# Item latent factor\n",
    "item_embedding = Embedding(n_items, n_items_latent_factors, # (5X2) Latent factor\n",
    "                           name='item_embedding')(item_input)\n",
    "# User latent factor\n",
    "user_embedding = Embedding(n_users, n_users_latent_factors, # (4X2) Latent factor\n",
    "                           name='user_embedding')(user_input)"
   ]
  },
  {
   "cell_type": "markdown",
   "metadata": {},
   "source": [
    "#### 벡터화 (Flattern)\n",
    "\n",
    "2D로 되어 있는 임베딩(Embedding)을 1D로 변환한다.  이것을 **잠재 벡터(Latent vector)** 라고 한다.  "
   ]
  },
  {
   "cell_type": "code",
   "execution_count": 19,
   "metadata": {},
   "outputs": [],
   "source": [
    "# Item latent vector\n",
    "item_vec = Flatten()(item_embedding)\n",
    "# User latent vector\n",
    "user_vec = Flatten()(user_embedding)"
   ]
  },
  {
   "cell_type": "markdown",
   "metadata": {},
   "source": [
    "#### 미니 모델링 (Modeling)\n",
    "\n",
    "- $\\hat R = Q \\cdot P^T$\n",
    "\n",
    "손실 함수(Loss function)는 평균 제곱 오차(mean-squared error)를 사용한다.   \n",
    "최적화(Optimizer)는 경사하강법(gradient descent)을 사용한다."
   ]
  },
  {
   "cell_type": "code",
   "execution_count": 20,
   "metadata": {},
   "outputs": [],
   "source": [
    "r_hat = dot([item_vec, user_vec], axes=-1)\n",
    "mini_model = Model([user_input, item_input], r_hat)\n",
    "mini_model.compile(optimizer = 'sgd', loss = 'mean_squared_error')"
   ]
  },
  {
   "cell_type": "markdown",
   "metadata": {},
   "source": [
    "#### 미니 모델 훈련 (Train Model)"
   ]
  },
  {
   "cell_type": "code",
   "execution_count": 21,
   "metadata": {},
   "outputs": [
    {
     "name": "stdout",
     "output_type": "stream",
     "text": [
      "loss:  0.030767172574996948\n"
     ]
    },
    {
     "data": {
      "image/png": "[encoded data removed]",
      "text/plain": [
       "<Figure size 432x288 with 1 Axes>"
      ]
     },
     "metadata": {
      "needs_background": "light"
     },
     "output_type": "display_data"
    }
   ],
   "source": [
    "hist = mini_model.fit([mini_df.user, mini_df.item], mini_df.rating, epochs=2000, verbose=0) \n",
    "print('loss: ', hist.history['loss'][-1])\n",
    "\n",
    "%matplotlib inline\n",
    "import matplotlib.pyplot as plt\n",
    "\n",
    "plt.plot(hist.history['loss'])\n",
    "plt.xlabel('epoch')\n",
    "plt.ylabel('loss')\n",
    "plt.show()"
   ]
  },
  {
   "cell_type": "markdown",
   "metadata": {},
   "source": [
    "#### 미니 예측 (Predict)\n",
    "\n",
    "이제 빵꾸난 별점을 예측해 보자  "
   ]
  },
  {
   "cell_type": "code",
   "execution_count": 22,
   "metadata": {},
   "outputs": [
    {
     "data": {
      "text/html": [
       "<div>\n",
       "<style scoped>\n",
       "    .dataframe tbody tr th:only-of-type {\n",
       "        vertical-align: middle;\n",
       "    }\n",
       "\n",
       "    .dataframe tbody tr th {\n",
       "        vertical-align: top;\n",
       "    }\n",
       "\n",
       "    .dataframe thead th {\n",
       "        text-align: right;\n",
       "    }\n",
       "</style>\n",
       "<table border=\"1\" class=\"dataframe\">\n",
       "  <thead>\n",
       "    <tr style=\"text-align: right;\">\n",
       "      <th></th>\n",
       "      <th>0</th>\n",
       "      <th>1</th>\n",
       "      <th>2</th>\n",
       "      <th>3</th>\n",
       "    </tr>\n",
       "  </thead>\n",
       "  <tbody>\n",
       "    <tr>\n",
       "      <td>0</td>\n",
       "      <td>4.999623</td>\n",
       "      <td>4.522830</td>\n",
       "      <td>1.008499</td>\n",
       "      <td>0.986881</td>\n",
       "    </tr>\n",
       "    <tr>\n",
       "      <td>1</td>\n",
       "      <td>4.741117</td>\n",
       "      <td>4.289957</td>\n",
       "      <td>1.006786</td>\n",
       "      <td>0.981370</td>\n",
       "    </tr>\n",
       "    <tr>\n",
       "      <td>2</td>\n",
       "      <td>5.235123</td>\n",
       "      <td>4.735589</td>\n",
       "      <td>1.041489</td>\n",
       "      <td>1.020268</td>\n",
       "    </tr>\n",
       "    <tr>\n",
       "      <td>3</td>\n",
       "      <td>1.000833</td>\n",
       "      <td>1.003219</td>\n",
       "      <td>5.234733</td>\n",
       "      <td>4.739758</td>\n",
       "    </tr>\n",
       "    <tr>\n",
       "      <td>4</td>\n",
       "      <td>1.001417</td>\n",
       "      <td>0.994072</td>\n",
       "      <td>4.737130</td>\n",
       "      <td>4.290676</td>\n",
       "    </tr>\n",
       "  </tbody>\n",
       "</table>\n",
       "</div>"
      ],
      "text/plain": [
       "          0         1         2         3\n",
       "0  4.999623  4.522830  1.008499  0.986881\n",
       "1  4.741117  4.289957  1.006786  0.981370\n",
       "2  5.235123  4.735589  1.041489  1.020268\n",
       "3  1.000833  1.003219  5.234733  4.739758\n",
       "4  1.001417  0.994072  4.737130  4.290676"
      ]
     },
     "execution_count": 22,
     "metadata": {},
     "output_type": "execute_result"
    }
   ],
   "source": [
    "Q = mini_model.get_layer(name='item_embedding').get_weights()[0]\n",
    "P = mini_model.get_layer(name='user_embedding').get_weights()[0]\n",
    "P_t = np.transpose(P)\n",
    "\n",
    "R_hat = np.dot(Q, P_t)\n",
    "pd.DataFrame(R_hat)"
   ]
  },
  {
   "cell_type": "code",
   "execution_count": 23,
   "metadata": {},
   "outputs": [
    {
     "name": "stdout",
     "output_type": "stream",
     "text": [
      "뷰티 인사이드에 대한 Bob의 예상 별점은 4.5\n",
      "러브 스토리에 대한 Carol의 예상 별점은 1.0 이다.\n"
     ]
    }
   ],
   "source": [
    "print('뷰티 인사이드에 대한 Bob의 예상 별점은 {:.1f}'.format(R_hat[0][1]))\n",
    "print('러브 스토리에 대한 Carol의 예상 별점은 {:.1f} 이다.'.format(R_hat[2][2]))"
   ]
  },
  {
   "cell_type": "markdown",
   "metadata": {},
   "source": [
    "⚙️ 엔지니어\n",
    "\n",
    "> 실제 값과 가깝게 예측을 하고 있다!    \n"
   ]
  },
  {
   "cell_type": "markdown",
   "metadata": {},
   "source": [
    "## 잠재 인수 모델링 (Latent Factor Modeling)\n",
    "\n",
    "알고 있는 데이터세트($X, Y$)를 학습하여 새로운 입력값($X_{new}$)에 대해 출력값($\\hat Y$)을 예측하는 모델이 선형 회귀 모델이다. 잠재 인수 모델도 선형 회귀 모델과 비슷하게 손실함수를 정의하고 손실함수가 최소가 되는 $P$와 $Q$를 찾는 모델이다.  \n",
    "\n",
    "### 손실함수 (Loss function)\n",
    "\n",
    "잠재 인수 모델(Latent factor model)에서의 손실 함수(Loss function)는 **SSE(Sum of Squared Error)** 를 사용한다.  \n",
    "\n",
    "$J(p, q) = {1 \\over 2}\\sum_{(i,j) \\in R} (r_{ij} - q_i \\cdot p_{j}^T)^2$  \n",
    "\n",
    "여기에 과대적합(Overfitting)을 방지하기 위해서 **L2 Regularization** 을 추가한다.  \n",
    "\n",
    "$\\begin{align}\n",
    "J(p, q) & = {1 \\over 2}\\sum_{(i,j) \\in R} (r_{ij} - q_i \\cdot p_{j}^T)^2 \\\\\n",
    " & + {1 \\over 2}\\lambda \\sum_{i} ||q_i||^2 + {1 \\over 2}\\lambda \\sum_{j} ||p_j||^2\n",
    "\\end{align}$  \n",
    "\n",
    "\n",
    "### 최적화 (Optimization)\n",
    "\n",
    "손실함수의 최소값을 찾기 위해서 **경사 하강법(Gradient Descent)** 을 적용한다.  \n",
    "\n",
    "REPEAT(epoch) {\n",
    "\n",
    "$\\begin{align}\n",
    "p: &= p-\\alpha \\dfrac{\\partial J(p,q)}{\\partial p} \\\\    \n",
    "q: &= q-\\alpha \\dfrac{\\partial J(p,q)}{\\partial q}\n",
    "\\end{align}$    \n",
    "}\n",
    "\n",
    "$\\alpha$: learining rate    \n",
    "\n",
    "⚙️ 엔지니어\n",
    "\n",
    "> 여기서는    \n",
    "> SSE 대신에 MSE를  \n",
    "> GD 대신에 Adam을 사용한다.  \n",
    "\n",
    "### 정리  \n",
    "\n",
    "잠재 인수 모델 (Latent factor model)을 만드는 방법을 정리해 보자.  \n",
    "\n",
    "1. Item, User 값을 인덱스 값으로 변환한다.    \n",
    "2. 잠재 인수(Latent factor)의 개수를 정한다.  \n",
    "3. 잠재 인수(Latent factor)를 **임베딩(Embedding)** 한다.  \n",
    "4. **벡터화(Flatten)** 해서 잠재 벡터(Latent vector)로 변환한다.     \n",
    "5. $\\hat R$를 Item과 User의 잠재 벡터의 **내적(dot)** 으로 설정한다.   \n",
    "6. 손실 함수 (Loss function)를 정의한다. 여기서는 **평균 제곱 오차(mean squared error)** 를 사용한다.  \n",
    "7. 옵티마이저(Optimizer)를 정의한다. 여기서는 **Adam** 을 사용한다.  \n",
    "8. 반복할 회수(epoch)를 결정한다.  \n",
    "9. 주어진 조건으로 모델을 최적화(fit) 시킨다.   "
   ]
  },
  {
   "cell_type": "markdown",
   "metadata": {},
   "source": [
    "## 케라스(Keras)로 모델링(Modeling)\n",
    "\n",
    "### 데이터 변환 및 분할\n",
    "\n",
    "훈련 데이터는 `ratings_df`에서 랜덤하게 80%를 선택하고,  \n",
    "테스트 데이터는 나머지 20%를 랜덤하게 선택한다.  "
   ]
  },
  {
   "cell_type": "code",
   "execution_count": 24,
   "metadata": {},
   "outputs": [
    {
     "name": "stdout",
     "output_type": "stream",
     "text": [
      "shape of train data is  (80544, 4)\n",
      "shape of test data is  (20292, 4)\n"
     ]
    }
   ],
   "source": [
    "# Indexing userId and movieId\n",
    "users = ratings_df.userId.unique()\n",
    "movies = ratings_df.movieId.unique()\n",
    "\n",
    "userid2idx = {o:i for i,o in enumerate(users)}\n",
    "movieid2idx = {o:i for i,o in enumerate(movies)}\n",
    "\n",
    "ratings_df['userId'] = ratings_df['userId'].apply(lambda x: userid2idx[x])\n",
    "ratings_df['movieId'] = ratings_df['movieId'].apply(lambda x: movieid2idx[x])\n",
    "\n",
    "# Split train and test data\n",
    "split = np.random.rand(len(ratings_df)) < 0.8\n",
    "\n",
    "train_df = ratings_df[split]\n",
    "test_df = ratings_df[~split]\n",
    "\n",
    "print('shape of train data is ',train_df.shape)\n",
    "print('shape of test data is ',test_df.shape)"
   ]
  },
  {
   "cell_type": "markdown",
   "metadata": {},
   "source": [
    "### 임베딩 (Embedding)\n",
    "\n",
    "잠재 인수 개수를 64개로 하자.  "
   ]
  },
  {
   "cell_type": "code",
   "execution_count": 25,
   "metadata": {},
   "outputs": [],
   "source": [
    "n_movies = len(ratings_df.movieId.unique())\n",
    "n_users = len(ratings_df.userId.unique())\n",
    "n_latent_factors = 64\n",
    "\n",
    "movie_input = Input(shape=[1])\n",
    "# Item latent factor\n",
    "movie_embedding = Embedding(n_movies, n_latent_factors,\n",
    "                           name='movie_embedding')(movie_input)\n",
    "\n",
    "user_input = Input(shape=[1])\n",
    "# User latent factor\n",
    "user_embedding = Embedding(n_users, n_latent_factors,\n",
    "                           name='user_embedding')(user_input)"
   ]
  },
  {
   "cell_type": "markdown",
   "metadata": {},
   "source": [
    "### 벡터화 (Flatten)"
   ]
  },
  {
   "cell_type": "code",
   "execution_count": 26,
   "metadata": {},
   "outputs": [],
   "source": [
    "# Item latent vector\n",
    "movie_vec = Flatten()(movie_embedding)\n",
    "# User latent vector\n",
    "user_vec = Flatten()(user_embedding)"
   ]
  },
  {
   "cell_type": "markdown",
   "metadata": {},
   "source": [
    "### 모델링 (Modeling)"
   ]
  },
  {
   "cell_type": "code",
   "execution_count": 27,
   "metadata": {},
   "outputs": [],
   "source": [
    "r_hat = dot([movie_vec, user_vec], axes=-1)\n",
    "model = Model([user_input, movie_input], r_hat)\n",
    "model.compile(optimizer = 'adam', loss = 'mean_squared_error')"
   ]
  },
  {
   "cell_type": "markdown",
   "metadata": {},
   "source": [
    "### 모델 훈련 및 평가 (Train & Test Model)\n",
    "\n",
    "⚙️ 엔지니어\n",
    "\n",
    "> 돌려놓고 커피 한잔 하세여~"
   ]
  },
  {
   "cell_type": "code",
   "execution_count": 28,
   "metadata": {},
   "outputs": [
    {
     "name": "stdout",
     "output_type": "stream",
     "text": [
      "train loss:  0.015632702463206954\n",
      "test loss:  1.4420501856603685\n"
     ]
    },
    {
     "data": {
      "image/png": "[encoded data removed]",
      "text/plain": [
       "<Figure size 432x288 with 1 Axes>"
      ]
     },
     "metadata": {
      "needs_background": "light"
     },
     "output_type": "display_data"
    }
   ],
   "source": [
    "hist = model.fit([train_df.userId, train_df.movieId], train_df.rating, \n",
    "                 batch_size=128, epochs=50, verbose=0, \n",
    "                 validation_data = ([test_df.userId, test_df.movieId],test_df.rating)) \n",
    "print('train loss: ', hist.history['loss'][-1])\n",
    "print('test loss: ', hist.history['val_loss'][-1])\n",
    "\n",
    "%matplotlib inline\n",
    "import matplotlib.pyplot as plt\n",
    "\n",
    "plt.plot(hist.history['loss'], 'b')\n",
    "plt.plot(hist.history['val_loss'] , 'r')\n",
    "plt.xlabel('epoch')\n",
    "plt.ylabel('loss')\n",
    "plt.legend(['train', 'test'], loc='upper left')\n",
    "plt.show()"
   ]
  },
  {
   "cell_type": "markdown",
   "metadata": {},
   "source": [
    "⚙️ 엔지니어\n",
    "\n",
    "> 음...  \n",
    "> 개선 사항이 보이지만  \n",
    "> 오늘은 여기까지 하자  "
   ]
  },
  {
   "cell_type": "markdown",
   "metadata": {},
   "source": [
    "## 해결 (Solution)\n",
    "\n",
    "⚙️ 엔지니어  \n",
    "\n",
    "> 보스~ 원하시는 솔루션입니다.      \n",
    ">\n",
    "> userId, movieId 값을 입력하시면    \n",
    "> 예상되는 별점값이 출력 됩니다.   \n",
    "\n"
   ]
  },
  {
   "cell_type": "code",
   "execution_count": 29,
   "metadata": {},
   "outputs": [
    {
     "name": "stdout",
     "output_type": "stream",
     "text": [
      "영화 William Shakespeare's Romeo + Juliet (1996) 에 대한 사용자 ID 214님의 예상 별점은 4.0 입니다.\n"
     ]
    }
   ],
   "source": [
    "userId = 214       # 1 ~ 610\n",
    "movieId = 1059  # 1 ~ 193609\n",
    "movie_title = list(movies_df[movies_df['movieId']==movieId].title)[0]\n",
    "\n",
    "user_v = np.expand_dims(userid2idx[userId], 0)\n",
    "movie_v = np.expand_dims(movieid2idx[movieId], 0)\n",
    "predict = model.predict([user_v, movie_v])\n",
    "\n",
    "print('영화 {} 에 대한 사용자 ID {}님의 예상 별점은 {:.1f} 입니다.'.format(movie_title, userId, predict[0][0]))"
   ]
  }
 ],
 "metadata": {
  "kernelspec": {
   "display_name": "Python 3",
   "language": "python",
   "name": "python3"
  },
  "language_info": {
   "codemirror_mode": {
    "name": "ipython",
    "version": 3
   },
   "file_extension": ".py",
   "mimetype": "text/x-python",
   "name": "python",
   "nbconvert_exporter": "python",
   "pygments_lexer": "ipython3",
   "version": "3.7.3"
  }
 },
 "nbformat": 4,
 "nbformat_minor": 2
}
