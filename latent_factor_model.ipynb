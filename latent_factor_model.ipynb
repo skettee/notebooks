{
 "cells": [
  {
   "cell_type": "markdown",
   "metadata": {},
   "source": [
    "# 잠재 인수 모델 (Latent Factor Model)\n",
    "\n",
    "Date: 2019-9-06  \n",
    "Author: skettee  \n",
    "Categories: Deep Learning, Recommendation  \n",
    "Tags: 딥러닝, 잠재 인수, 행렬인수분해, 추천   \n",
    "<!--eofm-->"
   ]
  },
  {
   "cell_type": "markdown",
   "metadata": {},
   "source": [
    "\n",
    "영화나 상품 추천에 사용되는 잠재 인수 모델(Latent Factor Model)을 살펴 보고 Keras로 모델링을 해보자!\n",
    "<!--more-->\n",
    "\n",
    "실제로 돌려 보고 싶으면 구글 코랩으로 ~  \n",
    "\n",
    "[![Open In Colab](https://colab.research.google.com/assets/colab-badge.svg)](https://colab.research.google.com/github/skettee/notebooks/blob/master/latent_factor_model.ipynb)"
   ]
  },
  {
   "cell_type": "markdown",
   "metadata": {},
   "source": [
    "## 문제 (Problem)\n",
    "\n",
    "👤 상사\n",
    "\n",
    "> 인공지능을 이용해서 영화를 추천하는 프로젝트를 시작한다    \n",
    "> 데이터는 movielens에서 제공하는 데이터를 사용하게      \n",
    "> https://movielens.org/\n",
    ">\n",
    "> 여기서 제공하는 영화 메타데이터와 사용자 별점을 이용해서    \n",
    "> 영화에 대한 사용자의 별점을 예측하는 프로그램을 만들어 보게    \n",
    "\n",
    "⚙️ 엔지니어\n",
    "\n",
    "> 아니 보스... 사진 인식 프로젝트는 어떻게 하라고...  CNN시작도 안했는데...  \n",
    "> 막 지르는 구나...  "
   ]
  },
  {
   "cell_type": "markdown",
   "metadata": {},
   "source": [
    "## 데이터 수집 (Data Collection)\n",
    " \n",
    "이제는 데이터 수집도 일이 되었다.  \n",
    "데이터를 다운로드하고 파일로 저장하고 데이터프레임으로 변환하는 작업이 필요하다.\n",
    "\n",
    "우리가 사용할 무비렌즈 데이터셋은 다음과 같다.  \n",
    "\n",
    "**MovieLens Latest Datasets**  \n",
    "100,000 ratings and 3,600 tag applications applied to 9,000 movies by 600 users. Last updated 9/2018.\n",
    "\n",
    "- [README.txt](http://files.grouplens.org/datasets/movielens/ml-latest-small-README.html)    \n",
    "- ml-latest-small.zip (size: 1 MB)\n",
    "- http://files.grouplens.org/datasets/movielens/ml-latest-small.zip\n",
    "\n",
    "Zip파일을 풀면 아래의 데이터가 나온다. (README.txt 참조)\n",
    "\n",
    "1. ratings.csv  \n",
    "  - 파일 형식: userId, movieId, rating, timestamp\n",
    "  - userId: 1 ~ 610 사이의 정수값   \n",
    "  - movieId: 1 ~ 193609 사이의 정수값   \n",
    "  - rating: 0.5 ~ 5.0 사이의 별점값 (0.5씩 증가)  \n",
    "  - timestamp: 별점을 준 시간을 초로 표시  (1970.01.01 부터 UTC time)  \n",
    "\n",
    "\n",
    "2. movies.csv  \n",
    "  - 파일 형식: movieId, title, genres\n",
    "  - movieId: 1 ~ 193609 사이의 정수값  \n",
    "  - title: 영화 제목  \n",
    "  - genres: 하나 이상의 장르가 '|' 로 연결되어 표시  \n",
    "      Action, Adventure, Animation, Children's, Comedy, Comedy, Documentary, Drama, Fantasy, Film-Noir, Horror, Musical, Mystery, Romance, Sci-Fi, Thriller, War, Western  "
   ]
  },
  {
   "cell_type": "code",
   "execution_count": 1,
   "metadata": {},
   "outputs": [
    {
     "name": "stdout",
     "output_type": "stream",
     "text": [
      "...100%, 0 MB, 782 KB/s, 1 seconds passed\n",
      "Successfully downloaded /tmp/tmpgpeoa1q0/ml-latest-small.zip 978202 bytes\n"
     ]
    }
   ],
   "source": [
    "import sys\n",
    "import time\n",
    "\n",
    "import os\n",
    "import tempfile\n",
    "import zipfile\n",
    "from six.moves import urllib\n",
    "import tensorflow as tf\n",
    "\n",
    "def _progresshook(count, block_size, total_size):\n",
    "    global start_time\n",
    "    if count == 0:\n",
    "        start_time = time.time()\n",
    "        return\n",
    "    duration = time.time() - start_time\n",
    "    progress_size = int(count * block_size)\n",
    "    speed = int(progress_size / (1024 * duration))\n",
    "    percent = int(count * block_size * 100 / total_size)\n",
    "    sys.stdout.write(\"\\r...%d%%, %d MB, %d KB/s, %d seconds passed\" %\n",
    "                    (percent, progress_size / (1024 * 1024), speed, duration))\n",
    "    sys.stdout.flush()\n",
    "\n",
    "DATA_DIR = \"/tmp/movielens-data/\"\n",
    "DATA_SET = 'ml-latest-small'\n",
    "RATINGS_FILE = \"ratings.csv\"\n",
    "MOVIES_FILE = \"movies.csv\"\n",
    "DATA_URL = \"http://files.grouplens.org/datasets/movielens/\"\n",
    "\n",
    "data_subdir = os.path.join(DATA_DIR, DATA_SET)\n",
    "expected_files = [\"{}.zip\".format(DATA_SET), RATINGS_FILE, MOVIES_FILE]\n",
    "\n",
    "tf.io.gfile.makedirs(data_subdir)\n",
    "if set(expected_files).intersection(\n",
    "    tf.io.gfile.listdir(data_subdir)) == set(expected_files):\n",
    "    print(\"Dataset {} has already been downloaded\".format(DATA_SET))\n",
    "else:\n",
    "    tf.io.gfile.makedirs(data_subdir)\n",
    "\n",
    "    url = \"{}{}.zip\".format(DATA_URL, DATA_SET)\n",
    "    temp_dir = tempfile.mkdtemp()\n",
    "\n",
    "    try:\n",
    "        zip_path = os.path.join(temp_dir, \"{}.zip\".format(DATA_SET))\n",
    "        zip_path, _ = urllib.request.urlretrieve(url, zip_path, _progresshook)\n",
    "        statinfo = os.stat(zip_path)\n",
    "        print()\n",
    "        print(\"Successfully downloaded {} {} bytes\".format(zip_path, statinfo.st_size))\n",
    "\n",
    "        zipfile.ZipFile(zip_path, \"r\").extractall(temp_dir)\n",
    "\n",
    "        working_dir = os.path.join(temp_dir, DATA_SET)\n",
    "\n",
    "        tf.io.gfile.copy(os.path.join(working_dir, \"ratings.csv\"), os.path.join(temp_dir, RATINGS_FILE))\n",
    "        tf.io.gfile.copy(os.path.join(working_dir, \"movies.csv\"), os.path.join(temp_dir, MOVIES_FILE))\n",
    "        \n",
    "        tf.io.gfile.rmtree(working_dir)\n",
    "\n",
    "        for fname in tf.io.gfile.listdir(temp_dir):\n",
    "            if not tf.io.gfile.exists(os.path.join(data_subdir, fname)):\n",
    "                tf.io.gfile.copy(os.path.join(temp_dir, fname),\n",
    "                                 os.path.join(data_subdir, fname))\n",
    "            else:\n",
    "                print(\"Skipping copy of {}, as it already exists in the \"\n",
    "                             \"destination folder.\".format(fname))\n",
    "    finally:\n",
    "        tf.io.gfile.rmtree(temp_dir)"
   ]
  },
  {
   "cell_type": "markdown",
   "metadata": {},
   "source": [
    "### Ratings 데이터프레임"
   ]
  },
  {
   "cell_type": "code",
   "execution_count": 2,
   "metadata": {},
   "outputs": [
    {
     "data": {
      "text/html": [
       "<div>\n",
       "<style scoped>\n",
       "    .dataframe tbody tr th:only-of-type {\n",
       "        vertical-align: middle;\n",
       "    }\n",
       "\n",
       "    .dataframe tbody tr th {\n",
       "        vertical-align: top;\n",
       "    }\n",
       "\n",
       "    .dataframe thead th {\n",
       "        text-align: right;\n",
       "    }\n",
       "</style>\n",
       "<table border=\"1\" class=\"dataframe\">\n",
       "  <thead>\n",
       "    <tr style=\"text-align: right;\">\n",
       "      <th></th>\n",
       "      <th>userId</th>\n",
       "      <th>movieId</th>\n",
       "      <th>rating</th>\n",
       "      <th>timestamp</th>\n",
       "    </tr>\n",
       "  </thead>\n",
       "  <tbody>\n",
       "    <tr>\n",
       "      <td>0</td>\n",
       "      <td>1</td>\n",
       "      <td>1</td>\n",
       "      <td>4.0</td>\n",
       "      <td>964982703</td>\n",
       "    </tr>\n",
       "    <tr>\n",
       "      <td>1</td>\n",
       "      <td>1</td>\n",
       "      <td>3</td>\n",
       "      <td>4.0</td>\n",
       "      <td>964981247</td>\n",
       "    </tr>\n",
       "    <tr>\n",
       "      <td>2</td>\n",
       "      <td>1</td>\n",
       "      <td>6</td>\n",
       "      <td>4.0</td>\n",
       "      <td>964982224</td>\n",
       "    </tr>\n",
       "    <tr>\n",
       "      <td>3</td>\n",
       "      <td>1</td>\n",
       "      <td>47</td>\n",
       "      <td>5.0</td>\n",
       "      <td>964983815</td>\n",
       "    </tr>\n",
       "    <tr>\n",
       "      <td>4</td>\n",
       "      <td>1</td>\n",
       "      <td>50</td>\n",
       "      <td>5.0</td>\n",
       "      <td>964982931</td>\n",
       "    </tr>\n",
       "  </tbody>\n",
       "</table>\n",
       "</div>"
      ],
      "text/plain": [
       "   userId  movieId  rating  timestamp\n",
       "0       1        1     4.0  964982703\n",
       "1       1        3     4.0  964981247\n",
       "2       1        6     4.0  964982224\n",
       "3       1       47     5.0  964983815\n",
       "4       1       50     5.0  964982931"
      ]
     },
     "execution_count": 2,
     "metadata": {},
     "output_type": "execute_result"
    }
   ],
   "source": [
    "import pandas as pd\n",
    "import numpy as np\n",
    "\n",
    "ratings_df = pd.read_csv(os.path.join(data_subdir, RATINGS_FILE))\n",
    "ratings_df.head()"
   ]
  },
  {
   "cell_type": "markdown",
   "metadata": {},
   "source": [
    "### Movies 데이터프레임"
   ]
  },
  {
   "cell_type": "code",
   "execution_count": 3,
   "metadata": {},
   "outputs": [
    {
     "data": {
      "text/html": [
       "<div>\n",
       "<style scoped>\n",
       "    .dataframe tbody tr th:only-of-type {\n",
       "        vertical-align: middle;\n",
       "    }\n",
       "\n",
       "    .dataframe tbody tr th {\n",
       "        vertical-align: top;\n",
       "    }\n",
       "\n",
       "    .dataframe thead th {\n",
       "        text-align: right;\n",
       "    }\n",
       "</style>\n",
       "<table border=\"1\" class=\"dataframe\">\n",
       "  <thead>\n",
       "    <tr style=\"text-align: right;\">\n",
       "      <th></th>\n",
       "      <th>movieId</th>\n",
       "      <th>title</th>\n",
       "      <th>genres</th>\n",
       "    </tr>\n",
       "  </thead>\n",
       "  <tbody>\n",
       "    <tr>\n",
       "      <td>0</td>\n",
       "      <td>1</td>\n",
       "      <td>Toy Story (1995)</td>\n",
       "      <td>Adventure|Animation|Children|Comedy|Fantasy</td>\n",
       "    </tr>\n",
       "    <tr>\n",
       "      <td>1</td>\n",
       "      <td>2</td>\n",
       "      <td>Jumanji (1995)</td>\n",
       "      <td>Adventure|Children|Fantasy</td>\n",
       "    </tr>\n",
       "    <tr>\n",
       "      <td>2</td>\n",
       "      <td>3</td>\n",
       "      <td>Grumpier Old Men (1995)</td>\n",
       "      <td>Comedy|Romance</td>\n",
       "    </tr>\n",
       "    <tr>\n",
       "      <td>3</td>\n",
       "      <td>4</td>\n",
       "      <td>Waiting to Exhale (1995)</td>\n",
       "      <td>Comedy|Drama|Romance</td>\n",
       "    </tr>\n",
       "    <tr>\n",
       "      <td>4</td>\n",
       "      <td>5</td>\n",
       "      <td>Father of the Bride Part II (1995)</td>\n",
       "      <td>Comedy</td>\n",
       "    </tr>\n",
       "  </tbody>\n",
       "</table>\n",
       "</div>"
      ],
      "text/plain": [
       "   movieId                               title  \\\n",
       "0        1                    Toy Story (1995)   \n",
       "1        2                      Jumanji (1995)   \n",
       "2        3             Grumpier Old Men (1995)   \n",
       "3        4            Waiting to Exhale (1995)   \n",
       "4        5  Father of the Bride Part II (1995)   \n",
       "\n",
       "                                        genres  \n",
       "0  Adventure|Animation|Children|Comedy|Fantasy  \n",
       "1                   Adventure|Children|Fantasy  \n",
       "2                               Comedy|Romance  \n",
       "3                         Comedy|Drama|Romance  \n",
       "4                                       Comedy  "
      ]
     },
     "execution_count": 3,
     "metadata": {},
     "output_type": "execute_result"
    }
   ],
   "source": [
    "movies_df = pd.read_csv(os.path.join(data_subdir, MOVIES_FILE))\n",
    "movies_df.head()"
   ]
  },
  {
   "cell_type": "markdown",
   "metadata": {},
   "source": [
    "### #번 사용자가 5개 별점을 준 영화 리스트"
   ]
  },
  {
   "cell_type": "code",
   "execution_count": 4,
   "metadata": {},
   "outputs": [
    {
     "name": "stdout",
     "output_type": "stream",
     "text": [
      "Top rated titles of userId 100:\n",
      "\n",
      "Top Gun (1986)\n",
      "Terms of Endearment (1983)\n",
      "Christmas Vacation (National Lampoon's Christmas Vacation) (1989)\n",
      "Officer and a Gentleman, An (1982)\n",
      "Sweet Home Alabama (2002)\n"
     ]
    }
   ],
   "source": [
    "userId = 100 # 1~610\n",
    "rating = 5  # 1 ~ 5\n",
    "top_movie_ids = ratings_df[(ratings_df['userId'] == userId) \n",
    "                           & (ratings_df['rating'] == rating)].movieId\n",
    "top_titles = movies_df[movies_df['movieId'].isin(top_movie_ids)].title\n",
    "\n",
    "print('Top rated titles of userId {}:\\n'.format(userId))\n",
    "for item in top_titles:\n",
    "    print(item)"
   ]
  },
  {
   "cell_type": "markdown",
   "metadata": {},
   "source": [
    "## 데이터 분석 (Data Analysis)\n",
    "\n",
    "### 데이터 확인 (Data Visualization)"
   ]
  },
  {
   "cell_type": "code",
   "execution_count": 5,
   "metadata": {},
   "outputs": [
    {
     "name": "stdout",
     "output_type": "stream",
     "text": [
      "100836 Ratings, 610 Users, 9724 Movies\n"
     ]
    }
   ],
   "source": [
    "print('{} Ratings, {} Users, {} Movies'.format(len(ratings_df), \n",
    "                                               len(ratings_df.userId.unique()), \n",
    "                                               len(ratings_df.movieId.unique())))"
   ]
  },
  {
   "cell_type": "markdown",
   "metadata": {},
   "source": [
    "데이터가 구멍이 난 것이 없는지 확인"
   ]
  },
  {
   "cell_type": "code",
   "execution_count": 6,
   "metadata": {},
   "outputs": [
    {
     "name": "stdout",
     "output_type": "stream",
     "text": [
      "missing number of userId data is  0\n",
      "missing number of movieId data is  0\n",
      "missing number of rating data is  0\n"
     ]
    }
   ],
   "source": [
    "# Check missing data\n",
    "print('missing number of userId data is ', ratings_df['userId'].isnull().sum())\n",
    "print('missing number of movieId data is ', ratings_df['movieId'].isnull().sum())\n",
    "print('missing number of rating data is ', ratings_df['rating'].isnull().sum())"
   ]
  },
  {
   "cell_type": "markdown",
   "metadata": {},
   "source": [
    "`userId`, `movieId`, `rating` 세개만 가지고 피처 벡터(feature vector)를 추출할 예정이다.   \n",
    "일단 `userId`를 컬럼(Column), `movieId`를 열(Row)로 만들어서 `rating`값을 확인해 보자  "
   ]
  },
  {
   "cell_type": "code",
   "execution_count": 7,
   "metadata": {},
   "outputs": [
    {
     "data": {
      "text/plain": [
       "(9724, 1220)"
      ]
     },
     "execution_count": 7,
     "metadata": {},
     "output_type": "execute_result"
    }
   ],
   "source": [
    "df_table = ratings_df.set_index([\"movieId\", \"userId\"]).unstack()\n",
    "df_table.shape"
   ]
  },
  {
   "cell_type": "code",
   "execution_count": 8,
   "metadata": {},
   "outputs": [
    {
     "data": {
      "text/html": [
       "<div>\n",
       "<style scoped>\n",
       "    .dataframe tbody tr th:only-of-type {\n",
       "        vertical-align: middle;\n",
       "    }\n",
       "\n",
       "    .dataframe tbody tr th {\n",
       "        vertical-align: top;\n",
       "    }\n",
       "\n",
       "    .dataframe thead tr th {\n",
       "        text-align: left;\n",
       "    }\n",
       "\n",
       "    .dataframe thead tr:last-of-type th {\n",
       "        text-align: right;\n",
       "    }\n",
       "</style>\n",
       "<table border=\"1\" class=\"dataframe\">\n",
       "  <thead>\n",
       "    <tr>\n",
       "      <th></th>\n",
       "      <th colspan=\"10\" halign=\"left\">rating</th>\n",
       "    </tr>\n",
       "    <tr>\n",
       "      <th>userId</th>\n",
       "      <th>213</th>\n",
       "      <th>214</th>\n",
       "      <th>215</th>\n",
       "      <th>216</th>\n",
       "      <th>217</th>\n",
       "      <th>218</th>\n",
       "      <th>219</th>\n",
       "      <th>220</th>\n",
       "      <th>221</th>\n",
       "      <th>222</th>\n",
       "    </tr>\n",
       "    <tr>\n",
       "      <th>movieId</th>\n",
       "      <th></th>\n",
       "      <th></th>\n",
       "      <th></th>\n",
       "      <th></th>\n",
       "      <th></th>\n",
       "      <th></th>\n",
       "      <th></th>\n",
       "      <th></th>\n",
       "      <th></th>\n",
       "      <th></th>\n",
       "    </tr>\n",
       "  </thead>\n",
       "  <tbody>\n",
       "    <tr>\n",
       "      <td>1057</td>\n",
       "      <td></td>\n",
       "      <td></td>\n",
       "      <td></td>\n",
       "      <td></td>\n",
       "      <td></td>\n",
       "      <td></td>\n",
       "      <td></td>\n",
       "      <td></td>\n",
       "      <td></td>\n",
       "      <td></td>\n",
       "    </tr>\n",
       "    <tr>\n",
       "      <td>1059</td>\n",
       "      <td></td>\n",
       "      <td>4</td>\n",
       "      <td></td>\n",
       "      <td></td>\n",
       "      <td></td>\n",
       "      <td></td>\n",
       "      <td></td>\n",
       "      <td></td>\n",
       "      <td></td>\n",
       "      <td>2</td>\n",
       "    </tr>\n",
       "    <tr>\n",
       "      <td>1060</td>\n",
       "      <td></td>\n",
       "      <td></td>\n",
       "      <td></td>\n",
       "      <td></td>\n",
       "      <td></td>\n",
       "      <td></td>\n",
       "      <td></td>\n",
       "      <td></td>\n",
       "      <td></td>\n",
       "      <td></td>\n",
       "    </tr>\n",
       "    <tr>\n",
       "      <td>1061</td>\n",
       "      <td></td>\n",
       "      <td></td>\n",
       "      <td>3.5</td>\n",
       "      <td></td>\n",
       "      <td>3</td>\n",
       "      <td></td>\n",
       "      <td></td>\n",
       "      <td></td>\n",
       "      <td></td>\n",
       "      <td></td>\n",
       "    </tr>\n",
       "    <tr>\n",
       "      <td>1064</td>\n",
       "      <td></td>\n",
       "      <td></td>\n",
       "      <td></td>\n",
       "      <td></td>\n",
       "      <td></td>\n",
       "      <td></td>\n",
       "      <td></td>\n",
       "      <td></td>\n",
       "      <td></td>\n",
       "      <td></td>\n",
       "    </tr>\n",
       "    <tr>\n",
       "      <td>1066</td>\n",
       "      <td></td>\n",
       "      <td></td>\n",
       "      <td></td>\n",
       "      <td></td>\n",
       "      <td></td>\n",
       "      <td></td>\n",
       "      <td></td>\n",
       "      <td></td>\n",
       "      <td></td>\n",
       "      <td></td>\n",
       "    </tr>\n",
       "    <tr>\n",
       "      <td>1068</td>\n",
       "      <td></td>\n",
       "      <td></td>\n",
       "      <td></td>\n",
       "      <td></td>\n",
       "      <td></td>\n",
       "      <td></td>\n",
       "      <td></td>\n",
       "      <td></td>\n",
       "      <td></td>\n",
       "      <td></td>\n",
       "    </tr>\n",
       "    <tr>\n",
       "      <td>1073</td>\n",
       "      <td></td>\n",
       "      <td>3</td>\n",
       "      <td></td>\n",
       "      <td></td>\n",
       "      <td>3</td>\n",
       "      <td></td>\n",
       "      <td>2.5</td>\n",
       "      <td></td>\n",
       "      <td></td>\n",
       "      <td></td>\n",
       "    </tr>\n",
       "    <tr>\n",
       "      <td>1077</td>\n",
       "      <td></td>\n",
       "      <td></td>\n",
       "      <td></td>\n",
       "      <td>3</td>\n",
       "      <td>2</td>\n",
       "      <td></td>\n",
       "      <td></td>\n",
       "      <td></td>\n",
       "      <td>4</td>\n",
       "      <td></td>\n",
       "    </tr>\n",
       "  </tbody>\n",
       "</table>\n",
       "</div>"
      ],
      "text/plain": [
       "        rating                                      \n",
       "userId     213 214  215 216 217 218  219 220 221 222\n",
       "movieId                                             \n",
       "1057                                                \n",
       "1059             4                                 2\n",
       "1060                                                \n",
       "1061                3.5       3                     \n",
       "1064                                                \n",
       "1066                                                \n",
       "1068                                                \n",
       "1073             3            3      2.5            \n",
       "1077                      3   2                4    "
      ]
     },
     "execution_count": 8,
     "metadata": {},
     "output_type": "execute_result"
    }
   ],
   "source": [
    "df_table.iloc[808:817, 212:222].fillna(\"\")"
   ]
  },
  {
   "cell_type": "markdown",
   "metadata": {},
   "source": [
    "⚙️ 엔지니어\n",
    "\n",
    "> 빵꾸가 많이 보인다...    \n",
    "> 별점이 비어 있는 빵꾸난 부분을   \n",
    "> 우리가 만들 모델을 통해서   \n",
    "> 별점을 예측해서 채워 넣어야 한다.     \n",
    ">\n",
    "> 어떻게?"
   ]
  },
  {
   "cell_type": "markdown",
   "metadata": {},
   "source": [
    "### 데이터 모델링 (Data Modeling)"
   ]
  },
  {
   "cell_type": "markdown",
   "metadata": {},
   "source": [
    "데이터가 크고 불완전하면 이해하기도 어렵고 다루기도 어렵다.  \n",
    "미니 데이터를 만들어서 솔루션을 찾아보자!  \n",
    "\n",
    "5편의 영화에 대해서 4명이 별점을 매긴 데이터가 있다.      \n",
    "\n",
    " 영화 \\ 평가자    | Alice | Bob | Carol | Dave\n",
    "--------------|------|-----|------|------\n",
    "**뷰티인사이드**   | 5       | 5      | 1       | 1\n",
    "**라라랜드**         | 5       | 4      | 1       | 1\n",
    "**러브스토리**      | 5       | 5      | 1       | 1\n",
    "**매트릭스**         | 1        | 1      | 5       | 5\n",
    "**스타워즈**         | 1        | 1      | 5       | 4\n",
    "\n",
    "우리는 여기서 앨리스(Alice), 밥(Bob), 캐롤(Carol), 데이브(Dave)를 분류할 수 있는 특징과 뷰티 인사이드, 라라랜드, 러브 스토리, 매트릭스, 스타워즈를 분류 할 수 있는 특징을 발견할 것이다.  \n",
    "\n",
    "우선 영화를 보자    \n",
    "뷰티 인사이드, 라라랜드, 러브 스토리는 '로맨틱 영화'로 분류할 수 있고,  \n",
    "매트릭스와 스타워즈는 '공상과학 영화'로 분류할 수 있다.   \n",
    "\n",
    "영화 \\ 특징           | 로맨틱 영화 | 공상과학 영화\n",
    "-----------------|-----------|--------------\n",
    "**뷰티인사이드**  | 높은 점수   | 낮은 점수\n",
    "**라라랜드**        | 높은 점수   | 낮은 점수\n",
    "**러브스토리**     | 높은 점수   | 낮은 점수\n",
    "**매트릭스**        | 낮은 점수   | 높은 점수\n",
    "**스타워즈**        | 낮은 점수   | 높은 점수\n",
    "\n",
    "사용자를 보자  \n",
    "앨리스와 밥은 로맨틱 영화를 좋아하고 공상과학 영화를 좋아하지 않는 '로맨틱한 사람'으로 분류할 수 있고,  \n",
    "캐롤과 데이브는 공상과학 영화를 좋아하고 로맨틱 영화를 좋아하지 않는 '상상력이 풍부한 사람'으로 분류할 수 있다.  \n",
    "\n",
    "특징 \\ 평가자                          | Alice       | Bob          | Carol       | Dave\n",
    "----------------------------|----------|----------|----------|----------\n",
    "**로맨틱한 사람**                   | 높은 점수 | 높은 점수 | 낮은 점수 | 낮은 점수\n",
    "**상상력이 풍부한 사람**        | 낮은 점수 | 낮은 점수 | 높은 점수 | 높은 점수  \n",
    "\n",
    "**잠재 인수(Latent factor)** \n",
    "\n",
    "'로맨틱 영화', '상상력이 풍부한 사람'과 같은 피처(feature)는 데이터에서는 보이지 않는다.   \n",
    "이와같이 데이터들 속에 숨어있는 특징을 **잠재 인수(Latent factor)** 라고 한다.  \n",
    "\n",
    "⚙️ 엔지니어\n",
    "\n",
    "> 잠재 인수(Latent factor)의 값들이       \n",
    "> 영화의 특징을 보여주고    \n",
    "> 평가자의 특징을 보여 주면서  \n",
    "> 별점수까지 보여 주는 방법이 없을까?    \n",
    "> \n",
    "> 있다! 그것은 바로...  "
   ]
  },
  {
   "cell_type": "markdown",
   "metadata": {},
   "source": [
    "### 행렬 인수 분해 (Matrix Factorization)  \n",
    "\n",
    "\n",
    "\n",
    "별점 매트릭스를 $R$라고 하자    \n",
    "\n",
    "$R= \\begin{bmatrix}\n",
    "5 & 5 & 1 & 1  \\\\\n",
    "5 & 4 & 1 & 1  \\\\\n",
    "5 & 5 & 1 & 1  \\\\\n",
    "1 & 1 & 5 & 5  \\\\\n",
    "1 & 1 & 5 & 4\n",
    "\\end{bmatrix}$  \n",
    "\n",
    "우리는 이제 $R$ (5X4) 매트릭스를 $Q$ (5X2)와 $P^T$ (2X4) 매트릭스로 분해를 할 것이다.  "
   ]
  },
  {
   "cell_type": "code",
   "execution_count": 9,
   "metadata": {},
   "outputs": [],
   "source": [
    "# Non-negative matrix factorization\n",
    "from sklearn.decomposition import NMF\n",
    "R = [\n",
    "     [5,5,1,1],\n",
    "     [5,4,1,1],\n",
    "     [5,5,1,1],\n",
    "     [1,1,5,5],\n",
    "     [1,1,5,4],\n",
    "    ]\n",
    "\n",
    "k = 2 # number of factors\n",
    "model = NMF(n_components=k)\n",
    "Q = model.fit_transform(np.array(R))\n",
    "P = model.components_"
   ]
  },
  {
   "cell_type": "markdown",
   "metadata": {},
   "source": [
    "아래 $Q$ 매트릭스를 보자.  \n",
    "\n",
    "0번 컬럼(Column)을 '로맨틱 영화',  \n",
    "1번 컬럼(Column)을 '공상과학 영화' 라고 하면  \n",
    "$Q$ 매트릭스는 영화의 특징을 나타내고 있다.  "
   ]
  },
  {
   "cell_type": "code",
   "execution_count": 10,
   "metadata": {},
   "outputs": [
    {
     "data": {
      "text/html": [
       "<div>\n",
       "<style scoped>\n",
       "    .dataframe tbody tr th:only-of-type {\n",
       "        vertical-align: middle;\n",
       "    }\n",
       "\n",
       "    .dataframe tbody tr th {\n",
       "        vertical-align: top;\n",
       "    }\n",
       "\n",
       "    .dataframe thead th {\n",
       "        text-align: right;\n",
       "    }\n",
       "</style>\n",
       "<table border=\"1\" class=\"dataframe\">\n",
       "  <thead>\n",
       "    <tr style=\"text-align: right;\">\n",
       "      <th></th>\n",
       "      <th>Romantic</th>\n",
       "      <th>Sci-Fi</th>\n",
       "    </tr>\n",
       "  </thead>\n",
       "  <tbody>\n",
       "    <tr>\n",
       "      <td>0</td>\n",
       "      <td>1.931132</td>\n",
       "      <td>0.000002</td>\n",
       "    </tr>\n",
       "    <tr>\n",
       "      <td>1</td>\n",
       "      <td>1.744253</td>\n",
       "      <td>0.047301</td>\n",
       "    </tr>\n",
       "    <tr>\n",
       "      <td>2</td>\n",
       "      <td>1.931132</td>\n",
       "      <td>0.000002</td>\n",
       "    </tr>\n",
       "    <tr>\n",
       "      <td>3</td>\n",
       "      <td>0.376532</td>\n",
       "      <td>2.425963</td>\n",
       "    </tr>\n",
       "    <tr>\n",
       "      <td>4</td>\n",
       "      <td>0.375488</td>\n",
       "      <td>2.186905</td>\n",
       "    </tr>\n",
       "  </tbody>\n",
       "</table>\n",
       "</div>"
      ],
      "text/plain": [
       "   Romantic    Sci-Fi\n",
       "0  1.931132  0.000002\n",
       "1  1.744253  0.047301\n",
       "2  1.931132  0.000002\n",
       "3  0.376532  2.425963\n",
       "4  0.375488  2.186905"
      ]
     },
     "execution_count": 10,
     "metadata": {},
     "output_type": "execute_result"
    }
   ],
   "source": [
    "# Q (5X2) 매트릭스\n",
    "pd.DataFrame(Q, columns=['Romantic', 'Sci-Fi'])"
   ]
  },
  {
   "cell_type": "markdown",
   "metadata": {},
   "source": [
    "아래 $P^T$ 매트릭스를 보자.  \n",
    "\n",
    "0번 열(Row)을 '로맨틱한 사람',  \n",
    "1번 열(Row)을 '상상력이 풍부한 사람' 이라고 하면  \n",
    "$P^T$ 매트릭스는 평가자의 특징을 나타내고 있다.  "
   ]
  },
  {
   "cell_type": "code",
   "execution_count": 11,
   "metadata": {},
   "outputs": [
    {
     "data": {
      "text/html": [
       "<div>\n",
       "<style scoped>\n",
       "    .dataframe tbody tr th:only-of-type {\n",
       "        vertical-align: middle;\n",
       "    }\n",
       "\n",
       "    .dataframe tbody tr th {\n",
       "        vertical-align: top;\n",
       "    }\n",
       "\n",
       "    .dataframe thead th {\n",
       "        text-align: right;\n",
       "    }\n",
       "</style>\n",
       "<table border=\"1\" class=\"dataframe\">\n",
       "  <thead>\n",
       "    <tr style=\"text-align: right;\">\n",
       "      <th></th>\n",
       "      <th>0</th>\n",
       "      <th>1</th>\n",
       "      <th>2</th>\n",
       "      <th>3</th>\n",
       "    </tr>\n",
       "  </thead>\n",
       "  <tbody>\n",
       "    <tr>\n",
       "      <td>Romantic Guy</td>\n",
       "      <td>2.669263</td>\n",
       "      <td>2.503536</td>\n",
       "      <td>0.518479</td>\n",
       "      <td>0.518187</td>\n",
       "    </tr>\n",
       "    <tr>\n",
       "      <td>Imaginary Guy</td>\n",
       "      <td>0.000000</td>\n",
       "      <td>0.023698</td>\n",
       "      <td>2.077725</td>\n",
       "      <td>1.872818</td>\n",
       "    </tr>\n",
       "  </tbody>\n",
       "</table>\n",
       "</div>"
      ],
      "text/plain": [
       "                      0         1         2         3\n",
       "Romantic Guy   2.669263  2.503536  0.518479  0.518187\n",
       "Imaginary Guy  0.000000  0.023698  2.077725  1.872818"
      ]
     },
     "execution_count": 11,
     "metadata": {},
     "output_type": "execute_result"
    }
   ],
   "source": [
    "# P (2X4) 매트릭스\n",
    "pd.DataFrame(P, index=['Romantic Guy', 'Imaginary Guy'])"
   ]
  },
  {
   "cell_type": "markdown",
   "metadata": {},
   "source": [
    "마지막으로 $Q$와 $P^T$ 매트릭스가  \n",
    "별점을 표현하는 지를 확인하기 위해서  \n",
    "$Q$와 $P^T$를 곱해 보자  "
   ]
  },
  {
   "cell_type": "code",
   "execution_count": 12,
   "metadata": {},
   "outputs": [
    {
     "data": {
      "text/html": [
       "<div>\n",
       "<style scoped>\n",
       "    .dataframe tbody tr th:only-of-type {\n",
       "        vertical-align: middle;\n",
       "    }\n",
       "\n",
       "    .dataframe tbody tr th {\n",
       "        vertical-align: top;\n",
       "    }\n",
       "\n",
       "    .dataframe thead th {\n",
       "        text-align: right;\n",
       "    }\n",
       "</style>\n",
       "<table border=\"1\" class=\"dataframe\">\n",
       "  <thead>\n",
       "    <tr style=\"text-align: right;\">\n",
       "      <th></th>\n",
       "      <th>0</th>\n",
       "      <th>1</th>\n",
       "      <th>2</th>\n",
       "      <th>3</th>\n",
       "    </tr>\n",
       "  </thead>\n",
       "  <tbody>\n",
       "    <tr>\n",
       "      <td>0</td>\n",
       "      <td>5.154699</td>\n",
       "      <td>4.834659</td>\n",
       "      <td>1.001255</td>\n",
       "      <td>1.000692</td>\n",
       "    </tr>\n",
       "    <tr>\n",
       "      <td>1</td>\n",
       "      <td>4.655871</td>\n",
       "      <td>4.367922</td>\n",
       "      <td>1.002637</td>\n",
       "      <td>0.992436</td>\n",
       "    </tr>\n",
       "    <tr>\n",
       "      <td>2</td>\n",
       "      <td>5.154699</td>\n",
       "      <td>4.834659</td>\n",
       "      <td>1.001255</td>\n",
       "      <td>1.000692</td>\n",
       "    </tr>\n",
       "    <tr>\n",
       "      <td>3</td>\n",
       "      <td>1.005062</td>\n",
       "      <td>1.000152</td>\n",
       "      <td>5.235708</td>\n",
       "      <td>4.738501</td>\n",
       "    </tr>\n",
       "    <tr>\n",
       "      <td>4</td>\n",
       "      <td>1.002276</td>\n",
       "      <td>0.991874</td>\n",
       "      <td>4.738469</td>\n",
       "      <td>4.290248</td>\n",
       "    </tr>\n",
       "  </tbody>\n",
       "</table>\n",
       "</div>"
      ],
      "text/plain": [
       "          0         1         2         3\n",
       "0  5.154699  4.834659  1.001255  1.000692\n",
       "1  4.655871  4.367922  1.002637  0.992436\n",
       "2  5.154699  4.834659  1.001255  1.000692\n",
       "3  1.005062  1.000152  5.235708  4.738501\n",
       "4  1.002276  0.991874  4.738469  4.290248"
      ]
     },
     "execution_count": 12,
     "metadata": {},
     "output_type": "execute_result"
    }
   ],
   "source": [
    "R_hat = np.dot(Q,P)\n",
    "pd.DataFrame(R_hat)"
   ]
  },
  {
   "cell_type": "markdown",
   "metadata": {},
   "source": [
    "$R$과 근사한 값이 나온다.  \n",
    "\n",
    "이렇게  $R \\simeq Q \\cdot P^T$ 를 **행렬인수분해(Matrix Factorization)** 라고 한다.  "
   ]
  },
  {
   "cell_type": "markdown",
   "metadata": {},
   "source": [
    "⚙️ 엔지니어\n",
    "\n",
    "> 놀랍다!   \n",
    ">\n",
    "> 평가자들의 영화 평점 매트릭스만 가지고  \n",
    "> 평가자들의 잠재 인수(latent factor)와  \n",
    "> 영화의 잠재 인수(latent factor)를  \n",
    "> 추출할 수 있다.  \n",
    ">\n",
    "> 여러분... 수학이 이렇게 신기하고  \n",
    "> 재미있습니다.  \n",
    ">\n",
    "> 학생때  \n",
    "> 열심히 할걸...  \n",
    ">\n",
    "> 그러나  \n",
    ">\n",
    "> 별점이 빵꾸난 데이터에 대해서  \n",
    "> 잠재 인수(Latent factor)를 어떻게 찾을까?  "
   ]
  },
  {
   "cell_type": "markdown",
   "metadata": {},
   "source": [
    "### 잠재 인수 모델 (Latent factor model)\n",
    "\n",
    "알고 있는 데이터세트($X, Y$)를 학습하여 새로운 입력값($X_{new}$)에 대해 출력값($\\hat Y$)을 예측하는 모델이 선형 회귀 모델이다. 잠재 인수 모델도 선형 회귀 모델과 비슷하게 손실함수를 정의하고 손실함수가 최소가 되는 $P$와 $Q$를 찾는 모델이다.  \n",
    "\n",
    "#### 손실함수(Loss function)\n",
    "\n",
    "잠재 인수 모델(Latent factor model)에서의 손실 함수(Loss function)는 **SSE(Sum of Squared Error)** 를 사용한다.  \n",
    "\n",
    "$J(p, q) = {1 \\over 2}\\sum_{(i,j) \\in R} (r_{ij} - q_i \\cdot p_{j}^T)^2$  \n",
    "\n",
    "여기에 과대적합(Overfitting)을 방지하기 위해서 **L2 Regularization** 을 추가한다.  \n",
    "\n",
    "$J(p, q) = {1 \\over 2}\\sum_{(i,j) \\in R} (r_{ij} - q_i \\cdot p_{j}^T)^2 + {1 \\over 2}\\lambda \\sum_{i} ||q_i||^2 + {1 \\over 2}\\lambda \\sum_{j} ||p_j||^2$  \n",
    "\n",
    "\n",
    "#### 최적화(Optimization)\n",
    "\n",
    "손실함수의 최소값을 찾기 위해서 **경사 하강법(Gradient Descent)** 을 적용한다.  \n",
    "\n",
    "REPEAT(epoch) {    \n",
    "$p:=p-\\alpha {\\partial {J(p,q)}\\over \\partial p}$    \n",
    "\n",
    "$q:=q-\\alpha {\\partial{J(p,q)}\\over \\partial q}$ , $\\alpha$: learining rate    \n",
    "}\n",
    "\n",
    "⚙️ 엔지니어\n",
    "\n",
    "> 이제 미니 데이터를 가지고 모델링을 해보자!  "
   ]
  },
  {
   "cell_type": "code",
   "execution_count": 13,
   "metadata": {},
   "outputs": [
    {
     "data": {
      "text/html": [
       "<div>\n",
       "<style scoped>\n",
       "    .dataframe tbody tr th:only-of-type {\n",
       "        vertical-align: middle;\n",
       "    }\n",
       "\n",
       "    .dataframe tbody tr th {\n",
       "        vertical-align: top;\n",
       "    }\n",
       "\n",
       "    .dataframe thead tr th {\n",
       "        text-align: left;\n",
       "    }\n",
       "\n",
       "    .dataframe thead tr:last-of-type th {\n",
       "        text-align: right;\n",
       "    }\n",
       "</style>\n",
       "<table border=\"1\" class=\"dataframe\">\n",
       "  <thead>\n",
       "    <tr>\n",
       "      <th></th>\n",
       "      <th colspan=\"4\" halign=\"left\">rating</th>\n",
       "    </tr>\n",
       "    <tr>\n",
       "      <th>user</th>\n",
       "      <th>Alice</th>\n",
       "      <th>Bob</th>\n",
       "      <th>Carol</th>\n",
       "      <th>Dave</th>\n",
       "    </tr>\n",
       "    <tr>\n",
       "      <th>item</th>\n",
       "      <th></th>\n",
       "      <th></th>\n",
       "      <th></th>\n",
       "      <th></th>\n",
       "    </tr>\n",
       "  </thead>\n",
       "  <tbody>\n",
       "    <tr>\n",
       "      <td>Beauty Inside</td>\n",
       "      <td>5.0</td>\n",
       "      <td>?</td>\n",
       "      <td>1</td>\n",
       "      <td>1.0</td>\n",
       "    </tr>\n",
       "    <tr>\n",
       "      <td>La La Land</td>\n",
       "      <td>5.0</td>\n",
       "      <td>4</td>\n",
       "      <td>1</td>\n",
       "      <td>1.0</td>\n",
       "    </tr>\n",
       "    <tr>\n",
       "      <td>Love Story</td>\n",
       "      <td>5.0</td>\n",
       "      <td>5</td>\n",
       "      <td>?</td>\n",
       "      <td>1.0</td>\n",
       "    </tr>\n",
       "    <tr>\n",
       "      <td>Matrix</td>\n",
       "      <td>1.0</td>\n",
       "      <td>1</td>\n",
       "      <td>5</td>\n",
       "      <td>5.0</td>\n",
       "    </tr>\n",
       "    <tr>\n",
       "      <td>Star Wars</td>\n",
       "      <td>1.0</td>\n",
       "      <td>1</td>\n",
       "      <td>5</td>\n",
       "      <td>4.0</td>\n",
       "    </tr>\n",
       "  </tbody>\n",
       "</table>\n",
       "</div>"
      ],
      "text/plain": [
       "              rating               \n",
       "user           Alice Bob Carol Dave\n",
       "item                               \n",
       "Beauty Inside    5.0   ?     1  1.0\n",
       "La La Land       5.0   4     1  1.0\n",
       "Love Story       5.0   5     ?  1.0\n",
       "Matrix           1.0   1     5  5.0\n",
       "Star Wars        1.0   1     5  4.0"
      ]
     },
     "execution_count": 13,
     "metadata": {},
     "output_type": "execute_result"
    }
   ],
   "source": [
    "import pandas as pd\n",
    "import numpy as np\n",
    "\n",
    "data = [\n",
    "    ['Alice', 'Beauty Inside', 5],\n",
    "    ['Alice', 'La La Land', 5],\n",
    "    ['Alice', 'Love Story', 5],\n",
    "    ['Alice', 'Matrix', 1],\n",
    "    ['Alice', 'Star Wars', 1], \n",
    "    ['Bob', 'La La Land', 4],\n",
    "    ['Bob', 'Love Story', 5],\n",
    "    ['Bob', 'Matrix', 1],\n",
    "    ['Bob', 'Star Wars', 1],\n",
    "    ['Carol', 'Beauty Inside', 1],\n",
    "    ['Carol', 'La La Land', 1],\n",
    "    ['Carol', 'Matrix', 5],\n",
    "    ['Carol', 'Star Wars', 5], \n",
    "    ['Dave', 'Beauty Inside', 1], \n",
    "    ['Dave', 'La La Land', 1],\n",
    "    ['Dave', 'Love Story', 1],\n",
    "    ['Dave', 'Matrix', 5],\n",
    "    ['Dave', 'Star Wars', 4],\n",
    "]\n",
    "\n",
    "mini_df = pd.DataFrame( data = data, columns = ['user', 'item', 'rating'])\n",
    "df_table = mini_df.set_index([\"item\", \"user\"]).unstack().fillna('?')\n",
    "\n",
    "df_table"
   ]
  },
  {
   "cell_type": "markdown",
   "metadata": {},
   "source": [
    "## 데이터 변환 (Data Transformation)\n",
    "\n",
    "잠재 인수 모델(Latent factor model)에서 데이터 훈련을 위한 입력 값은 '평가자'와 '영화'의 인덱스 값, 그리고 별점이다.  \n",
    "미니 데이터로 예를 들면 '라라랜드'를 평가한 'Alice'의 평점이 '5.0' 이므로 모델에 입력하는 값은 다음과 같다.\n",
    "\n",
    "- 라라랜드를 인덱싱한 값: 1\n",
    "- 앨리스를 인덱싱한 값: 0\n",
    "- 별점 5.0\n",
    "\n",
    "따라서 영화 리스트와 평가자 리스트를 겹치지 않게 인덱싱 값으로 변환해야 한다.\n",
    "\n",
    "다음은 미니 데이터에서 평가자(`user`)를 인덱싱한 결과이다.  \n",
    "앨리스는 0, 밥은 1, 캐럴은 2, 데이브는 3으로 변환된 것을 확인할 수 있다."
   ]
  },
  {
   "cell_type": "code",
   "execution_count": 14,
   "metadata": {},
   "outputs": [
    {
     "data": {
      "text/html": [
       "<div>\n",
       "<style scoped>\n",
       "    .dataframe tbody tr th:only-of-type {\n",
       "        vertical-align: middle;\n",
       "    }\n",
       "\n",
       "    .dataframe tbody tr th {\n",
       "        vertical-align: top;\n",
       "    }\n",
       "\n",
       "    .dataframe thead tr th {\n",
       "        text-align: left;\n",
       "    }\n",
       "\n",
       "    .dataframe thead tr:last-of-type th {\n",
       "        text-align: right;\n",
       "    }\n",
       "</style>\n",
       "<table border=\"1\" class=\"dataframe\">\n",
       "  <thead>\n",
       "    <tr>\n",
       "      <th></th>\n",
       "      <th colspan=\"4\" halign=\"left\">rating</th>\n",
       "    </tr>\n",
       "    <tr>\n",
       "      <th>user</th>\n",
       "      <th>0</th>\n",
       "      <th>1</th>\n",
       "      <th>2</th>\n",
       "      <th>3</th>\n",
       "    </tr>\n",
       "    <tr>\n",
       "      <th>item</th>\n",
       "      <th></th>\n",
       "      <th></th>\n",
       "      <th></th>\n",
       "      <th></th>\n",
       "    </tr>\n",
       "  </thead>\n",
       "  <tbody>\n",
       "    <tr>\n",
       "      <td>Beauty Inside</td>\n",
       "      <td>5.0</td>\n",
       "      <td>?</td>\n",
       "      <td>1</td>\n",
       "      <td>1.0</td>\n",
       "    </tr>\n",
       "    <tr>\n",
       "      <td>La La Land</td>\n",
       "      <td>5.0</td>\n",
       "      <td>4</td>\n",
       "      <td>1</td>\n",
       "      <td>1.0</td>\n",
       "    </tr>\n",
       "    <tr>\n",
       "      <td>Love Story</td>\n",
       "      <td>5.0</td>\n",
       "      <td>5</td>\n",
       "      <td>?</td>\n",
       "      <td>1.0</td>\n",
       "    </tr>\n",
       "    <tr>\n",
       "      <td>Matrix</td>\n",
       "      <td>1.0</td>\n",
       "      <td>1</td>\n",
       "      <td>5</td>\n",
       "      <td>5.0</td>\n",
       "    </tr>\n",
       "    <tr>\n",
       "      <td>Star Wars</td>\n",
       "      <td>1.0</td>\n",
       "      <td>1</td>\n",
       "      <td>5</td>\n",
       "      <td>4.0</td>\n",
       "    </tr>\n",
       "  </tbody>\n",
       "</table>\n",
       "</div>"
      ],
      "text/plain": [
       "              rating           \n",
       "user               0  1  2    3\n",
       "item                           \n",
       "Beauty Inside    5.0  ?  1  1.0\n",
       "La La Land       5.0  4  1  1.0\n",
       "Love Story       5.0  5  ?  1.0\n",
       "Matrix           1.0  1  5  5.0\n",
       "Star Wars        1.0  1  5  4.0"
      ]
     },
     "execution_count": 14,
     "metadata": {},
     "output_type": "execute_result"
    }
   ],
   "source": [
    "mini_df.user = mini_df.user.astype('category').cat.codes.values\n",
    "df_table = mini_df.set_index([\"item\", \"user\"]).unstack().fillna('?')\n",
    "\n",
    "df_table"
   ]
  },
  {
   "cell_type": "markdown",
   "metadata": {},
   "source": [
    "영화(`item`)의 경우도 인덱싱을 한다.  \n",
    "뷰티인사이드가 0, 라라랜드가 1, 러브스토리가 2, 매트릭스가 3, 스타워즈 4로 변환된 것을 확인 할 수 있다.  "
   ]
  },
  {
   "cell_type": "code",
   "execution_count": 15,
   "metadata": {},
   "outputs": [
    {
     "data": {
      "text/html": [
       "<div>\n",
       "<style scoped>\n",
       "    .dataframe tbody tr th:only-of-type {\n",
       "        vertical-align: middle;\n",
       "    }\n",
       "\n",
       "    .dataframe tbody tr th {\n",
       "        vertical-align: top;\n",
       "    }\n",
       "\n",
       "    .dataframe thead tr th {\n",
       "        text-align: left;\n",
       "    }\n",
       "\n",
       "    .dataframe thead tr:last-of-type th {\n",
       "        text-align: right;\n",
       "    }\n",
       "</style>\n",
       "<table border=\"1\" class=\"dataframe\">\n",
       "  <thead>\n",
       "    <tr>\n",
       "      <th></th>\n",
       "      <th colspan=\"4\" halign=\"left\">rating</th>\n",
       "    </tr>\n",
       "    <tr>\n",
       "      <th>user</th>\n",
       "      <th>0</th>\n",
       "      <th>1</th>\n",
       "      <th>2</th>\n",
       "      <th>3</th>\n",
       "    </tr>\n",
       "    <tr>\n",
       "      <th>item</th>\n",
       "      <th></th>\n",
       "      <th></th>\n",
       "      <th></th>\n",
       "      <th></th>\n",
       "    </tr>\n",
       "  </thead>\n",
       "  <tbody>\n",
       "    <tr>\n",
       "      <td>0</td>\n",
       "      <td>5.0</td>\n",
       "      <td>?</td>\n",
       "      <td>1</td>\n",
       "      <td>1.0</td>\n",
       "    </tr>\n",
       "    <tr>\n",
       "      <td>1</td>\n",
       "      <td>5.0</td>\n",
       "      <td>4</td>\n",
       "      <td>1</td>\n",
       "      <td>1.0</td>\n",
       "    </tr>\n",
       "    <tr>\n",
       "      <td>2</td>\n",
       "      <td>5.0</td>\n",
       "      <td>5</td>\n",
       "      <td>?</td>\n",
       "      <td>1.0</td>\n",
       "    </tr>\n",
       "    <tr>\n",
       "      <td>3</td>\n",
       "      <td>1.0</td>\n",
       "      <td>1</td>\n",
       "      <td>5</td>\n",
       "      <td>5.0</td>\n",
       "    </tr>\n",
       "    <tr>\n",
       "      <td>4</td>\n",
       "      <td>1.0</td>\n",
       "      <td>1</td>\n",
       "      <td>5</td>\n",
       "      <td>4.0</td>\n",
       "    </tr>\n",
       "  </tbody>\n",
       "</table>\n",
       "</div>"
      ],
      "text/plain": [
       "     rating           \n",
       "user      0  1  2    3\n",
       "item                  \n",
       "0       5.0  ?  1  1.0\n",
       "1       5.0  4  1  1.0\n",
       "2       5.0  5  ?  1.0\n",
       "3       1.0  1  5  5.0\n",
       "4       1.0  1  5  4.0"
      ]
     },
     "execution_count": 15,
     "metadata": {},
     "output_type": "execute_result"
    }
   ],
   "source": [
    "mini_df.item = mini_df.item.astype('category').cat.codes.values\n",
    "df_table = mini_df.set_index([\"item\", \"user\"]).unstack().fillna('?')\n",
    "\n",
    "df_table"
   ]
  },
  {
   "cell_type": "markdown",
   "metadata": {},
   "source": [
    "## 모델링 (Modeling)\n",
    "\n",
    "잠재 인수 모델에서 필요한 Embedding에 대해서 알아보자.  \n",
    "\n",
    "### Embedding  \n",
    "\n",
    "임베딩(Embedding)은 잠재 인수 (Latent factor)를 생성한다.  \n",
    "영화(`item`)의 잠재 인수와 잠재 벡터는 아래와 같이 생성한다."
   ]
  },
  {
   "cell_type": "code",
   "execution_count": 16,
   "metadata": {},
   "outputs": [
    {
     "name": "stderr",
     "output_type": "stream",
     "text": [
      "WARNING: Logging before flag parsing goes to stderr.\n",
      "W0906 18:42:21.169342 140660089382720 deprecation.py:506] From /home/dataman/anaconda3/lib/python3.7/site-packages/tensorflow/python/keras/initializers.py:119: calling RandomUniform.__init__ (from tensorflow.python.ops.init_ops) with dtype is deprecated and will be removed in a future version.\n",
      "Instructions for updating:\n",
      "Call initializer instance with the dtype argument instead of passing it to the constructor\n"
     ]
    }
   ],
   "source": [
    "from tensorflow.keras import Model\n",
    "from tensorflow.keras.layers import Input, Embedding, Flatten, dot\n",
    "from tensorflow.keras import regularizers\n",
    "\n",
    "n_items = len(mini_df.item.unique()) # 5편의 영화\n",
    "n_items_latent_factors = 2 # 영화의 잠재 인수 개수\n",
    "\n",
    "item_input = Input(shape=[1])\n",
    "# Item latent factor\n",
    "item_embedding = Embedding(n_items, n_items_latent_factors, # (5X2) Latent factor\n",
    "                           name='item_embedding')(item_input)\n",
    "# Item latent vector\n",
    "item_vec = Flatten()(item_embedding)"
   ]
  },
  {
   "cell_type": "markdown",
   "metadata": {},
   "source": [
    "평가자(`user`)의 잠재 인수와 잠재 벡터를 생성한다."
   ]
  },
  {
   "cell_type": "code",
   "execution_count": 17,
   "metadata": {},
   "outputs": [],
   "source": [
    "n_users = len(mini_df.user.unique()) # 4명의 평가자\n",
    "n_users_latent_factors = 2 # 평가자의 잠재 인수 개수\n",
    "\n",
    "user_input = Input(shape=[1])\n",
    "# User latent factor\n",
    "user_embedding = Embedding(n_users, n_users_latent_factors, # (4X2) Latent factor\n",
    "                           name='user_embedding')(user_input)\n",
    "# User latent vector\n",
    "user_vec = Flatten()(user_embedding)"
   ]
  },
  {
   "cell_type": "markdown",
   "metadata": {},
   "source": [
    "### 미니 데이터를 가지고 Modeling  \n",
    "\n",
    "$\\hat R = Q \\cdot P^T$"
   ]
  },
  {
   "cell_type": "code",
   "execution_count": 18,
   "metadata": {},
   "outputs": [],
   "source": [
    "r_hat = dot([item_vec, user_vec], axes=-1)\n",
    "mini_model = Model([user_input, item_input], r_hat)\n",
    "mini_model.compile(optimizer = 'sgd', loss = 'mean_squared_error')"
   ]
  },
  {
   "cell_type": "markdown",
   "metadata": {},
   "source": [
    "### 모델 훈련"
   ]
  },
  {
   "cell_type": "code",
   "execution_count": 19,
   "metadata": {},
   "outputs": [
    {
     "name": "stdout",
     "output_type": "stream",
     "text": [
      "loss:  0.03074105642735958\n"
     ]
    },
    {
     "data": {
      "image/png": "[encoded data removed]",
      "text/plain": [
       "<Figure size 432x288 with 1 Axes>"
      ]
     },
     "metadata": {
      "needs_background": "light"
     },
     "output_type": "display_data"
    }
   ],
   "source": [
    "hist = mini_model.fit([mini_df.user, mini_df.item], mini_df.rating, epochs=2000, verbose=0) \n",
    "print('loss: ', hist.history['loss'][-1])\n",
    "\n",
    "%matplotlib inline\n",
    "import matplotlib.pyplot as plt\n",
    "\n",
    "plt.plot(hist.history['loss'])\n",
    "plt.xlabel('epoch')\n",
    "plt.ylabel('loss')\n",
    "plt.show()"
   ]
  },
  {
   "cell_type": "markdown",
   "metadata": {},
   "source": [
    "### 예측\n",
    "\n",
    "이제 빵꾸난 별점을 예측해 보자  "
   ]
  },
  {
   "cell_type": "code",
   "execution_count": 20,
   "metadata": {},
   "outputs": [
    {
     "data": {
      "text/html": [
       "<div>\n",
       "<style scoped>\n",
       "    .dataframe tbody tr th:only-of-type {\n",
       "        vertical-align: middle;\n",
       "    }\n",
       "\n",
       "    .dataframe tbody tr th {\n",
       "        vertical-align: top;\n",
       "    }\n",
       "\n",
       "    .dataframe thead th {\n",
       "        text-align: right;\n",
       "    }\n",
       "</style>\n",
       "<table border=\"1\" class=\"dataframe\">\n",
       "  <thead>\n",
       "    <tr style=\"text-align: right;\">\n",
       "      <th></th>\n",
       "      <th>0</th>\n",
       "      <th>1</th>\n",
       "      <th>2</th>\n",
       "      <th>3</th>\n",
       "    </tr>\n",
       "  </thead>\n",
       "  <tbody>\n",
       "    <tr>\n",
       "      <td>0</td>\n",
       "      <td>4.999927</td>\n",
       "      <td>4.525294</td>\n",
       "      <td>1.004016</td>\n",
       "      <td>0.994853</td>\n",
       "    </tr>\n",
       "    <tr>\n",
       "      <td>1</td>\n",
       "      <td>4.739066</td>\n",
       "      <td>4.290169</td>\n",
       "      <td>1.003192</td>\n",
       "      <td>0.989438</td>\n",
       "    </tr>\n",
       "    <tr>\n",
       "      <td>2</td>\n",
       "      <td>5.235585</td>\n",
       "      <td>4.737882</td>\n",
       "      <td>1.014246</td>\n",
       "      <td>1.008297</td>\n",
       "    </tr>\n",
       "    <tr>\n",
       "      <td>3</td>\n",
       "      <td>1.002523</td>\n",
       "      <td>1.002334</td>\n",
       "      <td>5.235493</td>\n",
       "      <td>4.738781</td>\n",
       "    </tr>\n",
       "    <tr>\n",
       "      <td>4</td>\n",
       "      <td>1.001823</td>\n",
       "      <td>0.992321</td>\n",
       "      <td>4.738204</td>\n",
       "      <td>4.290364</td>\n",
       "    </tr>\n",
       "  </tbody>\n",
       "</table>\n",
       "</div>"
      ],
      "text/plain": [
       "          0         1         2         3\n",
       "0  4.999927  4.525294  1.004016  0.994853\n",
       "1  4.739066  4.290169  1.003192  0.989438\n",
       "2  5.235585  4.737882  1.014246  1.008297\n",
       "3  1.002523  1.002334  5.235493  4.738781\n",
       "4  1.001823  0.992321  4.738204  4.290364"
      ]
     },
     "execution_count": 20,
     "metadata": {},
     "output_type": "execute_result"
    }
   ],
   "source": [
    "Q = mini_model.get_layer(name='item_embedding').get_weights()[0]\n",
    "P = mini_model.get_layer(name='user_embedding').get_weights()[0]\n",
    "P_t = np.transpose(P)\n",
    "\n",
    "R_hat = np.dot(Q, P_t)\n",
    "pd.DataFrame(R_hat)"
   ]
  },
  {
   "cell_type": "code",
   "execution_count": 21,
   "metadata": {},
   "outputs": [
    {
     "name": "stdout",
     "output_type": "stream",
     "text": [
      "뷰티 인사이드에 대한 Bob의 예상 별점은 4.5\n",
      "러브 스토리에 대한 Carol의 예상 별점은 1.0 이다.\n"
     ]
    }
   ],
   "source": [
    "print('뷰티 인사이드에 대한 Bob의 예상 별점은 {:.1f}'.format(R_hat[0][1]))\n",
    "print('러브 스토리에 대한 Carol의 예상 별점은 {:.1f} 이다.'.format(R_hat[2][2]))"
   ]
  },
  {
   "cell_type": "markdown",
   "metadata": {},
   "source": [
    "⚙️ 엔지니어\n",
    "\n",
    "> 우리가 예상한 별점과 가깝게 예측을 하고 있다!    \n",
    ">\n",
    "> 이제 Movielens의 별점 정보를 가지고 모델링을 하자"
   ]
  },
  {
   "cell_type": "markdown",
   "metadata": {},
   "source": [
    "### Movielens를 가지고 모델링(Modeling)하기\n",
    "\n",
    "#### 데이터 변환\n",
    "\n",
    "훈련 데이터는 `ratings_df`에서 랜덤하게 80%를 선택하고,  \n",
    "테스트 데이터는 나머지 20%를 랜덤하게 선택한다.  "
   ]
  },
  {
   "cell_type": "code",
   "execution_count": 22,
   "metadata": {},
   "outputs": [
    {
     "name": "stdout",
     "output_type": "stream",
     "text": [
      "shape of train data is  (80863, 4)\n",
      "shape of test data is  (19973, 4)\n"
     ]
    }
   ],
   "source": [
    "movielens_df = ratings_df.copy()\n",
    "\n",
    "# Indexing userId and movieId\n",
    "users = movielens_df.userId.unique()\n",
    "movies = movielens_df.movieId.unique()\n",
    "\n",
    "userid2idx = {o:i for i,o in enumerate(users)}\n",
    "movieid2idx = {o:i for i,o in enumerate(movies)}\n",
    "\n",
    "movielens_df['userId'] = movielens_df['userId'].apply(lambda x: userid2idx[x])\n",
    "movielens_df['movieId'] = movielens_df['movieId'].apply(lambda x: movieid2idx[x])\n",
    "\n",
    "# Split train and test data\n",
    "split = np.random.rand(len(movielens_df)) < 0.8\n",
    "\n",
    "train_df = movielens_df[split]\n",
    "test_df = movielens_df[~split]\n",
    "\n",
    "print('shape of train data is ',train_df.shape)\n",
    "print('shape of test data is ',test_df.shape)"
   ]
  },
  {
   "cell_type": "markdown",
   "metadata": {},
   "source": [
    "#### Latent factor 모델링"
   ]
  },
  {
   "cell_type": "code",
   "execution_count": 23,
   "metadata": {},
   "outputs": [],
   "source": [
    "n_movies = len(movielens_df.movieId.unique())\n",
    "n_users = len(movielens_df.userId.unique())\n",
    "n_latent_factors = 64\n",
    "\n",
    "movie_input = Input(shape=[1])\n",
    "# Item latent factor\n",
    "movie_embedding = Embedding(n_movies, n_latent_factors,\n",
    "                           name='movie_embedding')(movie_input)\n",
    "# Item latent vector\n",
    "movie_vec = Flatten()(movie_embedding)\n",
    "\n",
    "user_input = Input(shape=[1])\n",
    "# User latent factor\n",
    "user_embedding = Embedding(n_users, n_latent_factors,\n",
    "                           name='user_embedding')(user_input)\n",
    "# User latent vector\n",
    "user_vec = Flatten()(user_embedding)\n",
    "\n",
    "r_hat = dot([movie_vec, user_vec], axes=-1)\n",
    "model = Model([user_input, movie_input], r_hat)\n",
    "model.compile(optimizer = 'adam', loss = 'mean_squared_error')"
   ]
  },
  {
   "cell_type": "markdown",
   "metadata": {},
   "source": [
    "### 모델 훈련 및 평가\n",
    "\n",
    "⚙️ 엔지니어\n",
    "\n",
    "> 돌려놓고 커피 한잔 하세여~"
   ]
  },
  {
   "cell_type": "code",
   "execution_count": 24,
   "metadata": {},
   "outputs": [
    {
     "name": "stdout",
     "output_type": "stream",
     "text": [
      "train loss:  0.015583596717465682\n",
      "test loss:  1.4580945893663293\n"
     ]
    },
    {
     "data": {
      "image/png": "[encoded data removed]",
      "text/plain": [
       "<Figure size 432x288 with 1 Axes>"
      ]
     },
     "metadata": {
      "needs_background": "light"
     },
     "output_type": "display_data"
    }
   ],
   "source": [
    "hist = model.fit([train_df.userId, train_df.movieId], train_df.rating, \n",
    "                 batch_size=128, epochs=50, verbose=0, \n",
    "                 validation_data = ([test_df.userId, test_df.movieId],test_df.rating)) \n",
    "print('train loss: ', hist.history['loss'][-1])\n",
    "print('test loss: ', hist.history['val_loss'][-1])\n",
    "\n",
    "%matplotlib inline\n",
    "import matplotlib.pyplot as plt\n",
    "\n",
    "plt.plot(hist.history['loss'], 'b')\n",
    "plt.plot(hist.history['val_loss'] , 'r')\n",
    "plt.xlabel('epoch')\n",
    "plt.ylabel('loss')\n",
    "plt.legend(['train', 'test'], loc='upper left')\n",
    "plt.show()"
   ]
  },
  {
   "cell_type": "markdown",
   "metadata": {},
   "source": [
    "⚙️ 엔지니어\n",
    "\n",
    "> 음...  \n",
    "> 개선 사항이 보이지만  \n",
    "> 오늘은 여기까지 하자  "
   ]
  },
  {
   "cell_type": "markdown",
   "metadata": {},
   "source": [
    "## 해결 (Solution)\n",
    "\n",
    "⚙️ 엔지니어  \n",
    "\n",
    "> 보스~ 원하시는 솔루션입니다.      \n",
    ">\n",
    "> userId, movieId 값을 입력하시면    \n",
    "> 예상되는 별점값이 출력 됩니다.   "
   ]
  },
  {
   "cell_type": "code",
   "execution_count": 25,
   "metadata": {},
   "outputs": [
    {
     "name": "stdout",
     "output_type": "stream",
     "text": [
      "영화 William Shakespeare's Romeo + Juliet (1996) 에 대한 사용자 ID 214님의 예상 별점은 4.0 입니다.\n"
     ]
    }
   ],
   "source": [
    "userId = 214       # 1 ~ 610\n",
    "movieId = 1059  # 1 ~ 193609\n",
    "movie_title = list(movies_df[movies_df['movieId']==movieId].title)[0]\n",
    "\n",
    "user_v = np.expand_dims(userid2idx[userId], 0)\n",
    "movie_v = np.expand_dims(movieid2idx[movieId], 0)\n",
    "predict = model.predict([user_v, movie_v])\n",
    "\n",
    "print('영화 {} 에 대한 사용자 ID {}님의 예상 별점은 {:.1f} 입니다.'.format(movie_title, userId, predict[0][0]))"
   ]
  }
 ],
 "metadata": {
  "kernelspec": {
   "display_name": "Python 3",
   "language": "python",
   "name": "python3"
  },
  "language_info": {
   "codemirror_mode": {
    "name": "ipython",
    "version": 3
   },
   "file_extension": ".py",
   "mimetype": "text/x-python",
   "name": "python",
   "nbconvert_exporter": "python",
   "pygments_lexer": "ipython3",
   "version": "3.7.3"
  }
 },
 "nbformat": 4,
 "nbformat_minor": 2
}
