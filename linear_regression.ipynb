{
 "cells": [
  {
   "cell_type": "markdown",
   "metadata": {},
   "source": [
    "# 선형 회귀 (Linear Regression)\n",
    "\n",
    "Date: 2019-08-15  \n",
    "Author: skettee  \n",
    "Categories: Deep Learning, Linear Regression  \n",
    "Tags: Loss function, Mean-squared error, Gradient Descent, Normalization\n",
    "<!--eofm-->"
   ]
  },
  {
   "cell_type": "markdown",
   "metadata": {},
   "source": [
    "\n",
    "딥러닝의 세계로 들어가기 위해 알아야 하는 첫번째 모델인 선형 회귀(Linear Regression)에 대해 알아보고 keras를 이용해서 모델링을 해보자!\n",
    "<!--more-->\n",
    "\n",
    "실제로 돌려 보고 싶으면 구글 코랩으로 ~  \n",
    "\n",
    "[![Open In Colab](https://colab.research.google.com/assets/colab-badge.svg)](https://colab.research.google.com/github/skettee/notebooks/blob/master/linear_regression.ipynb)\n"
   ]
  },
  {
   "cell_type": "markdown",
   "metadata": {},
   "source": [
    "## 문제 (Problem)"
   ]
  },
  {
   "cell_type": "markdown",
   "metadata": {},
   "source": [
    "💰 고객  \n",
    " \n",
    "> 우리 학교에는 '몸짱반'이 있어요.   \n",
    "> 여기에 들어가기 위해서는   \n",
    "> 키와 몸무게의      \n",
    "> 특별한 조건이 있는거 같아요.  \n",
    ">\n",
    "> '몸짱반'에 들어간 친구들의   \n",
    "> 키와 몸무게 데이터를 가지고   \n",
    "> 키가 주어지면   \n",
    "> '몸짱반'에 들어가기 위한 몸무게를  \n",
    "> 자동으로 알고 싶어요...  \n",
    ">\n",
    "> 만들어 줄 수 있지요? \n",
    ">\n",
    "> 데이터는 아래에 있어요  \n",
    "> https://skettee.github.io/post/linear_regression/momjjangban_data.csv\n",
    "\n"
   ]
  },
  {
   "cell_type": "markdown",
   "metadata": {},
   "source": [
    "## 데이터 수집 (Data Collection)\n",
    "\n",
    "데이터를 다운로드하고 데이터프레임으로 변환한다.  \n",
    "\n",
    "Keras의 get_file을 이용해서 데이터를 다운로드 한다."
   ]
  },
  {
   "cell_type": "code",
   "execution_count": 1,
   "metadata": {},
   "outputs": [],
   "source": [
    "from tensorflow.keras.utils import get_file\n",
    "\n",
    "fname = 'momjjangban_data.csv'\n",
    "origin = 'https://skettee.github.io/post/linear_regression/momjjangban_data.csv'\n",
    "path = get_file(fname, origin)"
   ]
  },
  {
   "cell_type": "markdown",
   "metadata": {},
   "source": [
    "CSV파일을 읽어서 데이터프레임으로 변환한다.  "
   ]
  },
  {
   "cell_type": "code",
   "execution_count": 2,
   "metadata": {},
   "outputs": [
    {
     "data": {
      "text/html": [
       "<div>\n",
       "<style scoped>\n",
       "    .dataframe tbody tr th:only-of-type {\n",
       "        vertical-align: middle;\n",
       "    }\n",
       "\n",
       "    .dataframe tbody tr th {\n",
       "        vertical-align: top;\n",
       "    }\n",
       "\n",
       "    .dataframe thead th {\n",
       "        text-align: right;\n",
       "    }\n",
       "</style>\n",
       "<table border=\"1\" class=\"dataframe\">\n",
       "  <thead>\n",
       "    <tr style=\"text-align: right;\">\n",
       "      <th></th>\n",
       "      <th>height</th>\n",
       "      <th>weight</th>\n",
       "    </tr>\n",
       "  </thead>\n",
       "  <tbody>\n",
       "    <tr>\n",
       "      <td>0</td>\n",
       "      <td>158.9</td>\n",
       "      <td>52.015</td>\n",
       "    </tr>\n",
       "    <tr>\n",
       "      <td>1</td>\n",
       "      <td>173.6</td>\n",
       "      <td>66.910</td>\n",
       "    </tr>\n",
       "    <tr>\n",
       "      <td>2</td>\n",
       "      <td>174.4</td>\n",
       "      <td>66.000</td>\n",
       "    </tr>\n",
       "    <tr>\n",
       "      <td>3</td>\n",
       "      <td>169.2</td>\n",
       "      <td>NaN</td>\n",
       "    </tr>\n",
       "    <tr>\n",
       "      <td>4</td>\n",
       "      <td>154.0</td>\n",
       "      <td>49.275</td>\n",
       "    </tr>\n",
       "  </tbody>\n",
       "</table>\n",
       "</div>"
      ],
      "text/plain": [
       "   height  weight\n",
       "0   158.9  52.015\n",
       "1   173.6  66.910\n",
       "2   174.4  66.000\n",
       "3   169.2     NaN\n",
       "4   154.0  49.275"
      ]
     },
     "execution_count": 2,
     "metadata": {},
     "output_type": "execute_result"
    }
   ],
   "source": [
    "import numpy as np\n",
    "import pandas as pd\n",
    "\n",
    "df = pd.read_csv(path, index_col=0)\n",
    "\n",
    "df.head()"
   ]
  },
  {
   "cell_type": "markdown",
   "metadata": {},
   "source": [
    "## 데이터 클렌징 (Data Cleansing)\n",
    "\n",
    "데이터가 빵꾸난 것이 없는지 확인한다. 빵꾸난 데이터는 제거한다.  \n",
    "\n",
    "⚙️ 엔지니어\n",
    "\n",
    "> 얼굴만 클렌징하는거 아니다...  \n",
    "> 데이터도 클렌징해야 한다.  "
   ]
  },
  {
   "cell_type": "code",
   "execution_count": 3,
   "metadata": {},
   "outputs": [
    {
     "data": {
      "text/plain": [
       "height    True\n",
       "weight    True\n",
       "dtype: bool"
      ]
     },
     "execution_count": 3,
     "metadata": {},
     "output_type": "execute_result"
    }
   ],
   "source": [
    "# Check nan\n",
    "df.isnull().any()"
   ]
  },
  {
   "cell_type": "code",
   "execution_count": 4,
   "metadata": {},
   "outputs": [
    {
     "data": {
      "text/html": [
       "<div>\n",
       "<style scoped>\n",
       "    .dataframe tbody tr th:only-of-type {\n",
       "        vertical-align: middle;\n",
       "    }\n",
       "\n",
       "    .dataframe tbody tr th {\n",
       "        vertical-align: top;\n",
       "    }\n",
       "\n",
       "    .dataframe thead th {\n",
       "        text-align: right;\n",
       "    }\n",
       "</style>\n",
       "<table border=\"1\" class=\"dataframe\">\n",
       "  <thead>\n",
       "    <tr style=\"text-align: right;\">\n",
       "      <th></th>\n",
       "      <th>height</th>\n",
       "      <th>weight</th>\n",
       "    </tr>\n",
       "  </thead>\n",
       "  <tbody>\n",
       "    <tr>\n",
       "      <td>0</td>\n",
       "      <td>158.9</td>\n",
       "      <td>52.015</td>\n",
       "    </tr>\n",
       "    <tr>\n",
       "      <td>1</td>\n",
       "      <td>173.6</td>\n",
       "      <td>66.910</td>\n",
       "    </tr>\n",
       "    <tr>\n",
       "      <td>2</td>\n",
       "      <td>174.4</td>\n",
       "      <td>66.000</td>\n",
       "    </tr>\n",
       "    <tr>\n",
       "      <td>3</td>\n",
       "      <td>154.0</td>\n",
       "      <td>49.275</td>\n",
       "    </tr>\n",
       "    <tr>\n",
       "      <td>4</td>\n",
       "      <td>177.7</td>\n",
       "      <td>69.820</td>\n",
       "    </tr>\n",
       "  </tbody>\n",
       "</table>\n",
       "</div>"
      ],
      "text/plain": [
       "   height  weight\n",
       "0   158.9  52.015\n",
       "1   173.6  66.910\n",
       "2   174.4  66.000\n",
       "3   154.0  49.275\n",
       "4   177.7  69.820"
      ]
     },
     "execution_count": 4,
     "metadata": {},
     "output_type": "execute_result"
    }
   ],
   "source": [
    "# Remove row with nan\n",
    "df = df.dropna(axis=0).reset_index(drop=True)\n",
    "\n",
    "df.head()"
   ]
  },
  {
   "cell_type": "code",
   "execution_count": 5,
   "metadata": {},
   "outputs": [
    {
     "name": "stdout",
     "output_type": "stream",
     "text": [
      "(50,)\n",
      "(50,)\n"
     ]
    }
   ],
   "source": [
    "height_data = df.height\n",
    "weight_data = df.weight\n",
    "\n",
    "print(height_data.shape)\n",
    "print(weight_data.shape)"
   ]
  },
  {
   "cell_type": "markdown",
   "metadata": {},
   "source": [
    "## 데이터 분석 (Data Analysis)"
   ]
  },
  {
   "cell_type": "markdown",
   "metadata": {},
   "source": [
    "데이터가 어떤 모양인지 확인해 보자."
   ]
  },
  {
   "cell_type": "code",
   "execution_count": 6,
   "metadata": {},
   "outputs": [
    {
     "data": {
      "image/png": "[encoded data removed]",
      "text/plain": [
       "<Figure size 432x288 with 1 Axes>"
      ]
     },
     "metadata": {
      "needs_background": "light"
     },
     "output_type": "display_data"
    }
   ],
   "source": [
    "%matplotlib inline\n",
    "\n",
    "import matplotlib.pyplot as plt\n",
    "\n",
    "plt.scatter(height_data, weight_data)\n",
    "plt.xlabel('height (cm)')\n",
    "plt.ylabel('weight (kg)')\n",
    "plt.show()"
   ]
  },
  {
   "cell_type": "markdown",
   "metadata": {},
   "source": [
    "⚙️ 엔지니어\n",
    "\n",
    "> 키가 커질 수록 몸무게가 선형(Linear)적으로 늘어나네~   \n",
    "> 직선으로 모델링을 할 수 있겠다.\n",
    "> \n",
    "> 모델링 작업이 편안하도록 주어진 데이터를 변환하자!"
   ]
  },
  {
   "cell_type": "markdown",
   "metadata": {},
   "source": [
    "## 데이터 변환 (Data Transformation)"
   ]
  },
  {
   "cell_type": "markdown",
   "metadata": {},
   "source": [
    "Keras, tensorflow등의 머신런닝 프레임워크를 사용하기 위해서는  \n",
    "각각이 요구하는 데이터의 형식 및 모양에 맞추어서 변환을 해 주어야 한다.  \n",
    "여기서는  키와 몸무게 데이터를 각각 매트릭스로 변환하자  \n",
    "\n",
    "- 열의 크기는 데이터의 개수      \n",
    "- 컬럼의 크기는 측정한 항목의 개수   \n",
    " \n",
    "키 값을 입력하면 '몸짱반'에 들어갈 수 있는 몸무게를 예측해야 한다. 키 데이터를 입력 $x$라고 하고 몸무게 데이터를 출력 $y$라고 하자 \n",
    "\n",
    "- 키 데이터는 50개의 '키'를 측정한 데이터가 있으므로 50X1 매트릭스   \n",
    "- 몸무게 데이터는 50개의 '몸무게'를 측정한 데이터가 있으므로 50X1 매트릭스이다.  \n",
    "\n",
    "⚙️ 엔지니어\n",
    "\n",
    "> 모델링을 하면서 골치 아픈 것 중에 하나는  \n",
    "> 입력과 출력의 모양(Shape)를 맞추어 주는 것이다.  \n",
    "> 복잡하다 ... 잘못하면 다크-디멘션에 빠진다...   \n",
    "> 뒤에서 더 자세하게 설명할 기회가 있을 것이다.  \n",
    "\n"
   ]
  },
  {
   "cell_type": "code",
   "execution_count": 7,
   "metadata": {},
   "outputs": [
    {
     "name": "stdout",
     "output_type": "stream",
     "text": [
      "x =  [[158.9]\n",
      " [173.6]\n",
      " [174.4]\n",
      " [154. ]\n",
      " [177.7]\n",
      " [188.3]\n",
      " [183.4]\n",
      " [168.7]\n",
      " [185.1]\n",
      " [156.5]]\n",
      "x.shape=  (50, 1)\n",
      "\n",
      "y =  [[52.015]\n",
      " [66.91 ]\n",
      " [66.   ]\n",
      " [49.275]\n",
      " [69.82 ]\n",
      " [79.479]\n",
      " [75.685]\n",
      " [61.569]\n",
      " [76.346]\n",
      " [51.694]]\n",
      "y.shape=  (50, 1)\n"
     ]
    }
   ],
   "source": [
    "x = np.array(height_data).reshape(len(height_data), 1)\n",
    "y = np.array(weight_data).reshape(len(weight_data), 1)\n",
    "\n",
    "print('x = ', x[:10])\n",
    "print('x.shape= ', x.shape)\n",
    "print('\\ny = ', y[:10])\n",
    "print('y.shape= ', y.shape)"
   ]
  },
  {
   "cell_type": "markdown",
   "metadata": {},
   "source": [
    "⚙️ 엔지니어\n",
    "\n",
    "> 좋았어!   \n",
    "> \n",
    "> 그럼 변환된 데이터로 선형회귀(Linear Regression) 모델링을 시작해 보지"
   ]
  },
  {
   "cell_type": "markdown",
   "metadata": {},
   "source": [
    "## 선형 모델링 (Linear Modeling)"
   ]
  },
  {
   "cell_type": "markdown",
   "metadata": {},
   "source": [
    "모델을 $y=wx+b$로 놓고   \n",
    "주어진 데이터에 가장 비슷한 직선을 표시하는 $w$와 $b$를 찾아 가는 것이 선형 모델링이다.  \n",
    "$w$는 직선의 기울기고 $b$는 $y$절편이라고 배웠지만, 이제 부터는 $w$는 **가중치(weight)** 로, $b$는 **바이어스(bias)** 로 부르자\n",
    "\n",
    "⚙️ 엔지니어) \n",
    "\n",
    "> 그런데... $w$와 $b$를 어떻게 구하면 되지?\n"
   ]
  },
  {
   "cell_type": "markdown",
   "metadata": {},
   "source": [
    "### 손실 함수 (Loss function)\n",
    "\n",
    "⚙️ 엔지니어\n",
    "\n",
    "> 남여 커플 10명이 모여서 게임을 시작한다.  \n",
    "> 남자는 여자친구의 몸무게를 말하고 가장 비슷한 몸무게를 맞추는 커플이 1등이 된다.  \n",
    "> 1등을 정하는 방법은 남자가 말한 몸무게와 여자친구가 말한 실제 몸무게의 차이를 점수로 계산하고,  \n",
    "> 가장 점수가 낮은(가장 비슷하게 맞춘) 커플에게 1등을 주면 된다.  \n",
    ">\n",
    "> 실제로 점수를 계산할 때에는 단순한 차이값을 사용하지 않고  \n",
    "> 차이값을 제곱하고 반으로 나누어 준 값을 사용한다.    \n",
    ">\n",
    "> 그리고 커플 10명 전체에 대한 점수는 각 커플들의 점수의 평균을 내면 된다."
   ]
  },
  {
   "cell_type": "markdown",
   "metadata": {},
   "source": [
    "하나의 데이터 세트($x^{(i)}, y^{(i)}$)를 사용해서 모델에서 얻은 값과 실제 값과의 차이(Loss)를 구하는 함수를 구해보자.  \n",
    "여기서 $x^{(i)}$는 i번째 $x$값이고 $y^{(i)}$은 i번째 $y$값이다.  \n",
    "\n",
    "일단 $w$와 $b$는 임의의 값으로 놓자. 그리고 모델에 $x^{(i)}$을 넣고 계산한 결과 값 ${\\hat y}^{(i)}$과 실제 값 $y^{(i)}$의 차이를 구한다. 선형 모델링에서는 제곱 오차(squred error)를 사용한다.\n",
    "\n",
    "$L({\\hat y}^{(i)}, y^{(i)})={1\\over2}({\\hat y}^{(i)}-y^{(i)})^2$\n",
    "\n",
    "모든 데이터(m개의 데이터 세트)로 부터 얻은 것을 평균(mean squred error)한것이 손실 함수(Loss function)이다. 손실 함수는 $w$와 $b$의 함수로 나타낼 수 있다.\n",
    "\n",
    "$\\begin{align}\n",
    "{\\large J}(w, b) & = {1\\over m}\\sum_{i=1}^m L({\\hat y}^{(i)}, y^{(i)}) \\\\\n",
    "\\\\\n",
    "& = {1\\over {2m}}\\sum_{i=1}^m ({\\hat y}^{(i)}-y^{(i)})^2\n",
    "\\end{align}$\n",
    "\n",
    "⚙️ 엔지니어\n",
    "\n",
    "> 손실 함수   \n",
    "> \n",
    "> ${\\large J}(w, b) = {1\\over {2m}}\\sum_{i=1}^m ({\\hat y}^{(i)}-y^{(i)})^2$  \n",
    ">\n",
    "> 가 최소가 되는 $w$와 $b$를 찾으면 되겠군!"
   ]
  },
  {
   "cell_type": "markdown",
   "metadata": {},
   "source": [
    "**손실 함수 (Loss function) 시각화**\n",
    "\n",
    "우선 손실 함수(Loss function)가 어떻게 생겨 먹었는지 살펴 보자.  \n",
    "x축을 $w$로 놓고, y축을 $b$로 놓고, z축을 손실 함수 $J(w, b)$로 그래프를 그려 보면 어떻게 최소값을 찾을지 감이 올 것 같다.   \n",
    "\n",
    "$w$는 $-5\\leqq w \\leqq 5$ 정도로 잡고,   \n",
    "$b$는 $-5\\leqq b \\leqq 5$으로 잡아보자.  \n",
    "\n"
   ]
  },
  {
   "cell_type": "code",
   "execution_count": 8,
   "metadata": {},
   "outputs": [
    {
     "data": {
      "image/png": "[encoded data removed]",
      "text/plain": [
       "<Figure size 432x288 with 1 Axes>"
      ]
     },
     "metadata": {
      "needs_background": "light"
     },
     "output_type": "display_data"
    }
   ],
   "source": [
    "import numpy as np\n",
    "from sklearn.metrics import mean_squared_error\n",
    "from mpl_toolkits import mplot3d\n",
    "\n",
    "# W,b의 범위를 결정한다.\n",
    "w = np.arange(-5.0, 5.0, 0.1)\n",
    "b = np.arange(-5.0, 5.0, 0.1)\n",
    "j_array = []\n",
    "\n",
    "W, B = np.meshgrid(w, b)\n",
    "\n",
    "# w, b를 하나씩 대응한다.\n",
    "for we, be in zip(np.ravel(W), np.ravel(B)):\n",
    "    y_hat = np.add(np.multiply(we, x), be)\n",
    "    # Loss function\n",
    "    mse = mean_squared_error(y_hat, y) / 2.0\n",
    "    j_array.append(mse)\n",
    "\n",
    "# 손실(Loss)을 구한다.\n",
    "J = np.array(j_array).reshape(W.shape)\n",
    "\n",
    "# 서피스 그래프를 그린다.\n",
    "fig = plt.figure()\n",
    "ax = plt.axes(projection=\"3d\")\n",
    "\n",
    "ax.plot_surface(W, B, J, color='b', alpha=0.5)\n",
    "ax.set_xlabel('w')\n",
    "ax.set_ylabel('b')\n",
    "ax.set_zlabel('J')\n",
    "ax.set_zticks([])\n",
    "plt.show()"
   ]
  },
  {
   "cell_type": "markdown",
   "metadata": {},
   "source": [
    "⚙️ 엔지니어\n",
    "\n",
    "> U 모양으로 구부러진 모양이다!  \n",
    "> $w$가 1근처에서 손실 함수가 최소값을 가지는 것을 볼 수 있다.  \n",
    ">\n",
    "> $b$는 손실 함수가 최소가 되는 값이 잘 보이지 않는다.   \n",
    "> 확대를 하면 보이겠지만 귀찮다.  \n",
    ">\n",
    "> 이제 램덤하게 $w$와 $b$값이 주어지더라도   \n",
    "> 자동으로 손실 함수의 최소값을 찾는 방법을 찾으면 된다.  \n",
    ">\n",
    "> 어떻게 자동으로 찾지?"
   ]
  },
  {
   "cell_type": "markdown",
   "metadata": {},
   "source": [
    "### 경사 하강법 (Gradient Descent)\n",
    "\n",
    "⚙️ 엔지니어\n",
    "\n",
    "> 등산에서 쓰는 말처럼 들리는 이 방법은  \n",
    "> 내가 현재 있는 산의 위치에서   \n",
    "> 경사(기울기)를 확인하고   \n",
    "> 경사가 아래인 방향으로 한걸음 내려가고,   \n",
    "> 경사를 확인하고,   \n",
    "> 또 한걸음 내려가고를   \n",
    "> 계속 반복하면   \n",
    "> 결국 골짜기 가장 아래로 도착할 수 있다는 방법이다.    \n",
    ">\n",
    "> 여기서 경사를 확인 하는 방법이   \n",
    "> **미분**이다.   \n",
    "> \n",
    "> 잘 모르겠다고?   \n",
    "> 아래에 간단한 예제를 보자"
   ]
  },
  {
   "cell_type": "markdown",
   "metadata": {},
   "source": [
    "**이차 함수에서 미분으로 최소값 찾기**\n",
    "\n",
    "$y=x^2-2x+4$에서 $y$가 최소가 되는 $x$값을 미분으로 구해 보자.  \n",
    "* 참고로 $y=(x-1)^2 +3$으로 정리하면 $x=1$일때 $y$는 최소값 3을 갖는다는 것을 알 수 있다.  \n",
    "\n",
    "![이차 함수에서 미분으로 최소값 찾기](https://skettee.github.io/post/linear_regression/gd_graph.png)"
   ]
  },
  {
   "cell_type": "markdown",
   "metadata": {},
   "source": [
    "1. $x$값을 아무거나 하나 선택한다. 여기서는 $x=3$을 선택하자\n",
    "2. $x=3$일때 순간 변화율을 계산한다. 순간 변화율은 미분이다. ${dy\\over dx}=2x-2$ 이므로 순간 변화율은 4이다.\n",
    "3. 순간 변화율이 0보다 크면 $x$를 -방향으로 이동한다. 이떄 얼마나 이동하느냐가 중요한데 순간 변화율 4만큼 이동하면 최소값을 지나쳐 버린다. 따라서 조금씩 움직이도록 순간 변화율에 0.01배 만큼 움직이게 한다. ($x$를 0.04 만큼 -방향으로 이동한다. 즉 $x=2.96$)\n",
    "4. 순간 변화율이 0보다 작으면 x를 +방향으로 이동한다. 위와 마찬가지로 미분값에 0.01배 만큼 움직이게 한다. 여기서 0.01을 learning rate라고 하고 $\\alpha$로 표시한다.\n",
    "5. 2번에서 4번까지의 과정을 **epoch** 라고 한다.\n",
    "6. 업데이트 된 x값을 가지고 2, 3, 4번을 반복한다. 1000번 반복한다. (1000 epoch)\n",
    "\n"
   ]
  },
  {
   "cell_type": "code",
   "execution_count": 9,
   "metadata": {},
   "outputs": [
    {
     "name": "stdout",
     "output_type": "stream",
     "text": [
      "x for minimum y is:  1.0000000033659349\n"
     ]
    }
   ],
   "source": [
    "def derivative(x):\n",
    "    dydx = 2*x-2\n",
    "    return dydx\n",
    "    \n",
    "epoch = 1000 # 반복 회수\n",
    "learning_rate = 0.01 # alpha\n",
    "\n",
    "xx = 3 # 초기 x값\n",
    "\n",
    "for i in range(epoch):\n",
    "    xx = xx - learning_rate * derivative(xx)\n",
    "    \n",
    "print('x for minimum y is: ', xx)"
   ]
  },
  {
   "cell_type": "markdown",
   "metadata": {},
   "source": [
    "$w$와 $b$에 대한 손실 함수의 순간 변화율(미분값)을 구해서 반복해서 업데이트를 해 주면 자동으로 손실 함수의 최소 값에 도달 할 수 있다.     \n",
    "\n",
    "수식으로 표현해보자\n",
    "\n",
    "REPEAT(epoch) {    \n",
    "\n",
    "$\\begin{align}\n",
    "w: &=w-\\alpha \\dfrac{\\partial J(w,b)}{\\partial w} \\\\    \n",
    "b:  &=b-\\alpha \\dfrac{\\partial J(w,b)}{\\partial b}\n",
    "\\end{align}$  \n",
    "}  \n",
    "$\\alpha=0.001$ learining rate    \n",
    "\n",
    "⚙️ 엔지니어\n",
    "\n",
    "> 아하! 손실함수의 최소값을 찾아 가는 것이 기계(Machine)가 학습(Learning)하는 방법이구나!"
   ]
  },
  {
   "cell_type": "markdown",
   "metadata": {},
   "source": [
    "### 정리\n",
    "\n",
    "선형 모델(Linear model)을 만드는 방법을 정리해 보자.  \n",
    "\n",
    "1. $\\hat{y}=wx+b$ 함수를 정의한다.  \n",
    "2. 손실 함수 (Loss function)를 정의한다. 여기서는 **평균 제곱 오차(mean squared error)** 를 사용한다.  \n",
    "3. 손실 함수의 최소값을 찾는 방법을 선택한다. 여기서는 **경사 하강법(gradient descent)** 을 사용한다. 그리고 최소값을 찾는 방법(알고리즘)을 **옵티마이저(Optimizer)** 라고 부르겠다.  \n",
    "4. 반복할 회수(epoch)를 결정한다.  \n",
    "5. 주어진 조건으로 모델을 최적화(fit) 시킨다.  "
   ]
  },
  {
   "cell_type": "markdown",
   "metadata": {},
   "source": [
    "## 케라스(Keras)로 모델링(Modeling)\n",
    "\n",
    "⚙️ 엔지니어\n",
    "\n",
    "> 좋았어!   \n",
    "> \n",
    "> 이제 텐서플로우(Tensorflow)가 냠냠한   \n",
    "> **케라스(Keras)**를 이용해서 구현을 해보자!"
   ]
  },
  {
   "cell_type": "markdown",
   "metadata": {},
   "source": [
    "### 정규화(Normalization)\n",
    "  \n",
    "`정규값 = (현재값 - 최소값) / (최대값-최소값)` 으로 정규화 하자  \n",
    " \n",
    "그래프를 보면,  \n",
    "데이터의 모양은 그대로 유지하면서도  \n",
    "x축의 값이 0에서 1사이로 변환된 것을 볼 수 있다.  \n",
    "\n",
    "⚙️ 엔지니어  \n",
    "\n",
    "> 내가 해봐서 아는데...   \n",
    "> \n",
    "> 이거 안하면 엉뚱한 답이 나온다.\n",
    "> 꼭 해야됨!\n",
    "\n"
   ]
  },
  {
   "cell_type": "code",
   "execution_count": 10,
   "metadata": {},
   "outputs": [
    {
     "data": {
      "image/png": "[encoded data removed]",
      "text/plain": [
       "<Figure size 432x288 with 1 Axes>"
      ]
     },
     "metadata": {
      "needs_background": "light"
     },
     "output_type": "display_data"
    }
   ],
   "source": [
    "from sklearn import preprocessing\n",
    "\n",
    "mm_scaler = preprocessing.MinMaxScaler()\n",
    "X_train = mm_scaler.fit_transform(x)\n",
    "Y_train = mm_scaler.transform(y)\n",
    "\n",
    "plt.scatter(X_train, Y_train)\n",
    "plt.xlabel('scaled-height')\n",
    "plt.ylabel('scaled-weight')\n",
    "plt.show()"
   ]
  },
  {
   "cell_type": "markdown",
   "metadata": {},
   "source": [
    "### 모델링 (Modeling)\n",
    "\n",
    "⚙️ 엔지니어\n",
    "\n",
    "> 4줄로 모델링이 가능하다!   \n",
    "> \n",
    "> 케라스 만세!\n",
    "\n"
   ]
  },
  {
   "cell_type": "code",
   "execution_count": 16,
   "metadata": {},
   "outputs": [],
   "source": [
    "from tensorflow.keras import Sequential\n",
    "from tensorflow.keras.layers import Dense\n",
    "\n",
    "# 모델을 준비한다.\n",
    "model = Sequential()\n",
    "\n",
    "# 입력 변수의 개수가 1이고 출력 개수가 1인 y=wx+b 를 생성한다.\n",
    "model.add(Dense(1, input_dim=1))\n",
    "\n",
    "# Loss funtion과 Optimizer를 선택한다.\n",
    "model.compile(loss='mean_squared_error', optimizer='sgd') \n",
    "\n",
    "# epochs만큼 반복해서 손실값이 최저가 되도록 모델을 훈련한다.\n",
    "hist = model.fit(X_train, Y_train, epochs=3000, verbose=0) "
   ]
  },
  {
   "cell_type": "markdown",
   "metadata": {},
   "source": [
    "### 손실값의 변화를 그래프로 확인"
   ]
  },
  {
   "cell_type": "code",
   "execution_count": 12,
   "metadata": {},
   "outputs": [
    {
     "data": {
      "image/png": "[encoded data removed]",
      "text/plain": [
       "<Figure size 432x288 with 1 Axes>"
      ]
     },
     "metadata": {
      "needs_background": "light"
     },
     "output_type": "display_data"
    }
   ],
   "source": [
    "plt.plot(hist.history['loss'])\n",
    "plt.xlabel('epoch')\n",
    "plt.ylabel('loss')\n",
    "plt.show()"
   ]
  },
  {
   "cell_type": "markdown",
   "metadata": {},
   "source": [
    "⚙️ 엔지니어\n",
    "\n",
    "> 반복적으로 학습할 수록 손실(Loss)이 0에 가깝게 된다.  \n",
    "> 굿잡!"
   ]
  },
  {
   "cell_type": "markdown",
   "metadata": {},
   "source": [
    "### $w$와 $b$값을 확인"
   ]
  },
  {
   "cell_type": "code",
   "execution_count": 13,
   "metadata": {},
   "outputs": [
    {
     "name": "stdout",
     "output_type": "stream",
     "text": [
      "w:  0.89936906\n",
      "b:  -2.6258316\n"
     ]
    }
   ],
   "source": [
    "w, b = model.get_weights()\n",
    "w =  w[0][0]\n",
    "b = b[0]\n",
    "print('w: ', w)\n",
    "print('b: ', b)"
   ]
  },
  {
   "cell_type": "markdown",
   "metadata": {},
   "source": [
    "### 그래프로 확인"
   ]
  },
  {
   "cell_type": "code",
   "execution_count": 14,
   "metadata": {},
   "outputs": [
    {
     "data": {
      "image/png": "[encoded data removed]",
      "text/plain": [
       "<Figure size 432x288 with 1 Axes>"
      ]
     },
     "metadata": {
      "needs_background": "light"
     },
     "output_type": "display_data"
    }
   ],
   "source": [
    "x_scale = mm_scaler.transform(x)\n",
    "y_scale = mm_scaler.transform(y)\n",
    "plt.scatter(x_scale, y_scale)\n",
    "plt.plot(x_scale, w*x_scale+b, 'r')\n",
    "plt.xlabel('scaled-height')\n",
    "plt.ylabel('scaled-weight')\n",
    "plt.show()"
   ]
  },
  {
   "cell_type": "markdown",
   "metadata": {},
   "source": [
    "## 해결 (Solution)\n",
    "\n",
    "⚙️ 엔지니어  \n",
    "\n",
    "> 고객님~ 원하시는 솔루션입니다.   \n",
    "> input_height에 원하시는 키를 입력하시면    \n",
    "> '몸짱반'에 들어 갈 수 있는 몸무게가 자동으로 계산됩니다.    \n",
    "\n"
   ]
  },
  {
   "cell_type": "code",
   "execution_count": 15,
   "metadata": {},
   "outputs": [
    {
     "name": "stdout",
     "output_type": "stream",
     "text": [
      "몸짱반에 들어갈 수 있는 몸무게는 70.15 kg 입니다\n"
     ]
    }
   ],
   "source": [
    "input_height = 178.0\n",
    "\n",
    "input_x = mm_scaler.transform(np.array([input_height]).reshape(-1, 1))\n",
    "predict = model.predict(input_x)\n",
    "predict = mm_scaler.inverse_transform(predict)\n",
    "\n",
    "print('몸짱반에 들어갈 수 있는 몸무게는 {:.2f} kg 입니다'.format(predict[0][0]))"
   ]
  }
 ],
 "metadata": {
  "kernelspec": {
   "display_name": "Python 3",
   "language": "python",
   "name": "python3"
  },
  "language_info": {
   "codemirror_mode": {
    "name": "ipython",
    "version": 3
   },
   "file_extension": ".py",
   "mimetype": "text/x-python",
   "name": "python",
   "nbconvert_exporter": "python",
   "pygments_lexer": "ipython3",
   "version": "3.7.3"
  }
 },
 "nbformat": 4,
 "nbformat_minor": 4
}
