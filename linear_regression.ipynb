{
 "cells": [
  {
   "cell_type": "markdown",
   "metadata": {},
   "source": [
    "# 선형 회귀 (Linear Regression)\n",
    "\n",
    "Date: 2019-8-15  \n",
    "Author: skettee  \n",
    "Categories: Deep Learning, Linear Regression  \n",
    "Tags: 딥러닝, 선형회귀, 경사하강법  \n",
    "Description: 딥러닝 모델링\n",
    "<!--eofm-->"
   ]
  },
  {
   "cell_type": "markdown",
   "metadata": {},
   "source": [
    "\n",
    "**딥러닝의 세계로 들어가기 위해 알아야 하는 첫번째 모델인 선형 회귀(Linear Regression)에 대해 알아보고 python과 keras를 이용해서 모델링을 해보자!**\n",
    "<!--more-->\n",
    "\n",
    "실제로 돌려 보고 싶으면 구글 코랩으로 ~  \n",
    "\n",
    "[![Open In Colab](https://colab.research.google.com/assets/colab-badge.svg)](https://colab.research.google.com/github/skettee/notebooks/linear_regression.ipynb)\n"
   ]
  },
  {
   "cell_type": "markdown",
   "metadata": {},
   "source": [
    "## 문제 (Problem)"
   ]
  },
  {
   "cell_type": "markdown",
   "metadata": {},
   "source": [
    "💰 고객\n",
    "\n",
    "> 서로 다른 높이에서 공을 떨어뜨려서   \n",
    "> 땅에 닫는 시간을 측정한 데이터가 있네.     \n",
    ">\n",
    "> 이 데이터를 가지고   \n",
    "> 땅에 떨어지는 시간이 주어지면   \n",
    "> 떨어뜨린 높이를 자동으로 알고 싶네.    \n",
    ">\n",
    "> 만들어 줄 수 있지? \n",
    ">\n",
    "> 데이터는 아래에 있네"
   ]
  },
  {
   "cell_type": "code",
   "execution_count": 1,
   "metadata": {
    "jupyter": {
     "source_hidden": true
    }
   },
   "outputs": [],
   "source": [
    "import numpy as np\n",
    "\n",
    "def get_data():\n",
    "    np.random.seed(1)\n",
    "    data_size = 50\n",
    "    x = np.linspace(10, 1000, data_size)\n",
    "    y = np.sqrt(x/9.80665)\n",
    "    y += np.random.uniform(-0.01, 0.01, data_size)\n",
    "    return x, y"
   ]
  },
  {
   "cell_type": "code",
   "execution_count": 2,
   "metadata": {},
   "outputs": [
    {
     "name": "stdout",
     "output_type": "stream",
     "text": [
      "data length =  50\n",
      "\n",
      "height(m) data =  [ 10.          30.20408163  50.40816327  70.6122449   90.81632653\n",
      " 111.02040816 131.2244898  151.42857143 171.63265306 191.83673469]\n",
      "\n",
      "time(sec) data =  [1.00815043 1.75938774 2.25720368 2.67941116 3.03607298 3.3565059\n",
      " 3.65175391 3.92646805 4.18143387 4.42366033]\n"
     ]
    }
   ],
   "source": [
    "height_data, time_data = get_data()\n",
    "\n",
    "print('data length = ', len(height_data))\n",
    "print('\\nheight(m) data = ', height_data[:10])\n",
    "print('\\ntime(sec) data = ', time_data[:10])"
   ]
  },
  {
   "cell_type": "markdown",
   "metadata": {},
   "source": [
    "## 데이터 분석 (Data Analysis)"
   ]
  },
  {
   "cell_type": "markdown",
   "metadata": {},
   "source": [
    "⚙️ 엔지니어\n",
    "\n",
    "> 데이터가 어떤 모양인지    \n",
    "> 확인해 보아야 겠군"
   ]
  },
  {
   "cell_type": "code",
   "execution_count": 3,
   "metadata": {},
   "outputs": [
    {
     "data": {
      "image/png": "[encoded data removed]",
      "text/plain": [
       "<Figure size 432x288 with 1 Axes>"
      ]
     },
     "metadata": {
      "needs_background": "light"
     },
     "output_type": "display_data"
    }
   ],
   "source": [
    "%matplotlib inline\n",
    "\n",
    "import matplotlib.pyplot as plt\n",
    "\n",
    "plt.scatter(time_data, height_data)\n",
    "plt.xlabel('time (s)')\n",
    "plt.ylabel('height (m)')\n",
    "plt.show()"
   ]
  },
  {
   "cell_type": "markdown",
   "metadata": {},
   "source": [
    "⚙️ 엔지니어\n",
    "\n",
    "> 데이터가 많이 휘어 있군...   \n",
    "> 지금 나는 직선으로만 모델링을 할 수 있는데...   \n",
    "> \n",
    "> 이러면 나가린데...  "
   ]
  },
  {
   "cell_type": "markdown",
   "metadata": {},
   "source": [
    "## 데이터 변환 (Data Transformation)"
   ]
  },
  {
   "cell_type": "markdown",
   "metadata": {},
   "source": [
    "⚙️ 엔지니어\n",
    "\n",
    "> 어라... 가만히 보니 이 그래프 어디에서 많이 본건데...  \n",
    "> 이거 $y=ax^2 (a\\geqq0, x\\geqq0)$ 그래프 잖아!   \n",
    "> \n",
    "> 음... 거리가 늘어날 수록 시간은 제곱으로 늘어난다는 것인데...   \n",
    "> 그렇다면 거리와 시간의 제곱은 비례할 거고   \n",
    "> 시간 데이터를 시간의 제곱 데이터로 변환하면   \n",
    "> 둘 사이의 관계가 직선에 가깝게 될 거 같군."
   ]
  },
  {
   "cell_type": "code",
   "execution_count": 4,
   "metadata": {},
   "outputs": [
    {
     "data": {
      "image/png": "[encoded data removed]",
      "text/plain": [
       "<Figure size 432x288 with 1 Axes>"
      ]
     },
     "metadata": {
      "needs_background": "light"
     },
     "output_type": "display_data"
    }
   ],
   "source": [
    "time2_data = time_data * time_data\n",
    "\n",
    "plt.scatter(time2_data, height_data)\n",
    "plt.xlabel('time^2 (s)')\n",
    "plt.ylabel('height (m)')\n",
    "plt.show()"
   ]
  },
  {
   "cell_type": "markdown",
   "metadata": {},
   "source": [
    "⚙️ 엔지니어\n",
    "\n",
    "> 좋았어!   \n",
    "> \n",
    "> 그럼 변환된 데이터로 선형회귀(Linear Regression) 모델링을 시작해 보지"
   ]
  },
  {
   "cell_type": "code",
   "execution_count": 5,
   "metadata": {},
   "outputs": [
    {
     "name": "stdout",
     "output_type": "stream",
     "text": [
      "x =  [ 1.01636729  3.09544521  5.09496843  7.17924417  9.21773915 11.26613183\n",
      " 13.33530659 15.41715136 17.48438924 19.56877074]\n",
      "x.shape=  (50,)\n",
      "\n",
      "y =  [ 10.          30.20408163  50.40816327  70.6122449   90.81632653\n",
      " 111.02040816 131.2244898  151.42857143 171.63265306 191.83673469]\n",
      "y.shape=  (50,)\n"
     ]
    }
   ],
   "source": [
    "x = time2_data\n",
    "y = height_data\n",
    "\n",
    "print('x = ', x[:10])\n",
    "print('x.shape= ', x.shape)\n",
    "print('\\ny = ', y[:10])\n",
    "print('y.shape= ', y.shape)"
   ]
  },
  {
   "cell_type": "markdown",
   "metadata": {},
   "source": [
    "## 선형 모델링 (Linear Modeling)"
   ]
  },
  {
   "cell_type": "markdown",
   "metadata": {},
   "source": [
    "⚙️ 엔지니어) \n",
    "\n",
    "> 모델을 $y=wx+b$로 놓고   \n",
    "> 주어진 데이터에 가장 가까운 직선을 표시하는   \n",
    "> $w$와 $b$를 구하면 끝!   \n",
    "> \n",
    "> $w$는 직선의 기울기고 $b$는 $y$절편이라고 배웠지만,   \n",
    "> 이제 부터는 $w$는 **weight**고   \n",
    "> $b$는 **bias**로 부르도록 하겠다...   \n",
    ">\n",
    "> 왜? 멋있으니까!    \n",
    ">\n",
    "> 그런데... $w$와 $b$를 어떻게 구하면 되지?\n"
   ]
  },
  {
   "cell_type": "markdown",
   "metadata": {},
   "source": [
    "### 손실 함수 (Loss function)\n",
    "\n",
    "⚙️ 엔지니어\n",
    "\n",
    "> 남여 커플 10명이 모여서 게임을 시작한다.  \n",
    "> 남자는 여자친구의 몸무게를 말하고 가장 근접한 몸무게를 맞추는 커플이 1등이 된다.  \n",
    "> 1등을 정하는 방법은 남자가 말한 몸무게와 여자친구가 말한 실제 몸무게의 차이를 점수로 계산하고,  \n",
    "> 가장 점수가 낮은(가장 비슷하게 맞춘) 커플에게 1등을 주면 된다.  \n",
    ">\n",
    "> 실제로 점수를 계산할 때에는 단순한 차이값을 사용하지 않고  \n",
    "> 차이값을 제곱하고 반으로 나누어 준 값을 사용한다.    \n",
    ">\n",
    "> 그리고 커플 10명 전체에 대한 점수는 각 커플들의 점수의 평균을 내면 된다."
   ]
  },
  {
   "cell_type": "markdown",
   "metadata": {},
   "source": [
    "하나의 데이터 세트($x^{(i)}, y^{(i)}$)를 사용해서 모델에서 얻은 값과 실제 값과의 차이(Loss)를 구하는 함수를 구해보자.  \n",
    "여기서 $x^{(i)}$는 i번째 $x$값이고 $y^{(i)}$은 i번째 $y$값이다.  \n",
    "\n",
    "일단 $w$와 $b$는 임의의 값으로 놓자. 그리고 모델에 $x^{(i)}$을 넣고 계산한 결과 값 ${\\hat y}^{(i)}$과 실제 값 $y^{(i)}$의 차이를 구한다. 선형 모델링에서는 제곱 오차(squred error)를 사용한다.\n",
    "\n",
    "$L({\\hat y}^{(i)}, y^{(i)})={1\\over2}({\\hat y}^{(i)}-y^{(i)})^2$\n",
    "\n",
    "모든 데이터(m개의 데이터 세트)로 부터 얻은 것을 평균(mean squred error)한것이 손실 함수(Loss function)이다. 손실 함수는 $w$와 $b$의 함수로 나타낼 수 있다.\n",
    "\n",
    "${\\large J}(w, b) = {1\\over m}\\sum_{i=1}^m L({\\hat y}^{(i)}, y^{(i)}) = {1\\over {2m}}\\sum_{i=1}^m ({\\hat y}^{(i)}-y^{(i)})^2$\n",
    "\n",
    "⚙️ 엔지니어\n",
    "\n",
    "> 손실 함수   \n",
    "> \n",
    "> ${\\large J}(w, b) = {1\\over {2m}}\\sum_{i=1}^m ({\\hat y}^{(i)}-y^{(i)})^2$  \n",
    ">\n",
    "> 가 최소가 되는 $w$와 $b$를 찾으면 되겠군!"
   ]
  },
  {
   "cell_type": "markdown",
   "metadata": {},
   "source": [
    "**손실 함수 (Loss function) 시각화**\n",
    "\n",
    "⚙️ 엔지니어\n",
    "\n",
    "> 우선 손실 함수(Loss function)가 어떻게 생겨 먹었는지 살펴 보자.  \n",
    "> x축을 $w$로 놓고, y축을 $b$로 놓고, z축을 손실 함수 ${\\large J}(w, b)$로 \n",
    "> 그래프를 그려 보면  \n",
    "> 어떻게 최소값을 찾을지 감이 올 것 같다.   \n",
    ">\n",
    "> 일단 $w$는 딱봐도 양수니까   \n",
    "> $0\\leqq w \\leqq 20.0$ 정도로 잡고,  \n",
    "> $b$는 $-10.0\\leqq b \\leqq 10.0$으로 잡아보자.   \n",
    "> 간격은 0.1 간격으로"
   ]
  },
  {
   "cell_type": "code",
   "execution_count": 6,
   "metadata": {},
   "outputs": [
    {
     "data": {
      "image/png": "[encoded data removed]",
      "text/plain": [
       "<Figure size 432x288 with 1 Axes>"
      ]
     },
     "metadata": {
      "needs_background": "light"
     },
     "output_type": "display_data"
    }
   ],
   "source": [
    "import numpy as np\n",
    "from sklearn.metrics import mean_squared_error\n",
    "from mpl_toolkits import mplot3d\n",
    "\n",
    "# W,b의 범위를 결정한다.\n",
    "w = np.arange(0, 20.0, 0.1)\n",
    "b = np.arange(-10.0, 10.0, 0.1)\n",
    "j_array = []\n",
    "\n",
    "# (200, 200) 매트릭스로 변환한다.\n",
    "W, B = np.meshgrid(w, b)\n",
    "\n",
    "# w, b를 하나씩 대응한다.\n",
    "for we, be in zip(np.ravel(W), np.ravel(B)):\n",
    "    y_hat = np.add(np.multiply(we, x), be)\n",
    "    # Cost function\n",
    "    mse = mean_squared_error(y_hat, y) / 2.0\n",
    "    j_array.append(mse)\n",
    "\n",
    "# 손실(Loss)을 구하고 (200, 200) 매트릭스로 변환한다.\n",
    "J = np.array(j_array).reshape(W.shape)\n",
    "\n",
    "# 서피스 그래프를 그린다.\n",
    "fig = plt.figure()\n",
    "ax = plt.axes(projection=\"3d\")\n",
    "\n",
    "ax.plot_surface(W, B, J, color='b', alpha=0.5)\n",
    "ax.set_xlabel('w')\n",
    "ax.set_ylabel('b')\n",
    "ax.set_zlabel('J')\n",
    "ax.set_zticks([])\n",
    "plt.show()"
   ]
  },
  {
   "cell_type": "markdown",
   "metadata": {},
   "source": [
    "⚙️ 엔지니어\n",
    "\n",
    "> U 모양으로 구부러진 모양이다!  \n",
    "> $w$가 10근처에서 손실 함수가 최소값을 가지는 것을 볼 수 있다.  \n",
    ">\n",
    "> $b$는 손실 함수가 최소가 되는 값이 잘 보이지 않는다.   \n",
    "> 확대를 하면 보이겠지만 귀찮다.  \n",
    ">\n",
    "> 이제 램덤하게 $w$와 $b$값이 주어지더라도   \n",
    "> 자동으로 손실 함수의 최소값을 찾는 방법을 찾으면 된다.  \n",
    ">\n",
    "> 어떻게 자동으로 찾지?"
   ]
  },
  {
   "cell_type": "markdown",
   "metadata": {},
   "source": [
    "### 경사 하강법 (Gradient Descent)\n",
    "\n",
    "⚙️ 엔지니어\n",
    "\n",
    "> 등산에서 쓰는 말처럼 들리는 이 방법은  \n",
    "> 내가 현재 있는 산의 위치에서   \n",
    "> 경사(기울기)를 확인하고   \n",
    "> 경사가 아래인 방향으로 한걸음 내려가고,   \n",
    "> 경사를 확인하고,   \n",
    "> 또 한걸음 내려가고를   \n",
    "> 계속 반복하면   \n",
    "> 결국 골짜기 가장 아래로 도착할 수 있다는 방법이다.    \n",
    ">\n",
    "> 여기서 경사를 확인 하는 방법이   \n",
    "> **미분**이다.   \n",
    "> \n",
    "> 잘 모르겠다고?   \n",
    "> 아래에 간단한 예제를 보자"
   ]
  },
  {
   "cell_type": "markdown",
   "metadata": {},
   "source": [
    "**이차 함수에서 미분으로 최소값 찾기**\n",
    "\n",
    "$y=x^2-2x+4$에서 $y$가 최소가 되는 $x$값을 미분으로 구해 보자.  \n",
    "* 참고로 $y=(x-1)^2 +3$으로 정리하면 $x=1$일때 $y$는 최소값 3을 갖는다는 것을 알 수 있다."
   ]
  },
  {
   "cell_type": "markdown",
   "metadata": {},
   "source": [
    "1. $x$값을 아무거나 하나 선택한다. 여기서는 $x=3$을 선택하자\n",
    "2. $x=3$일때 순간 변화율을 계산한다. 순간 변화율은 미분이다. ${dy\\over dx}=2x-2$ 이므로 순간 변화율은 4이다.\n",
    "3. 순간 변화율이 0보다 크면 $x$를 -방향으로 이동한다. 이떄 얼마나 이동하느냐가 중요한데 순간 변화율 4만큼 이동하면 최소값을 지나쳐 버린다. 따라서 조금씩 움직이도록 순간 변화율에 0.01배 만큼 움직이게 한다. ($x$를 0.04 만큼 -방향으로 이동한다. 즉 $x=2.96$)\n",
    "4. 순간 변화율이 0보다 작으면 x를 +방향으로 이동한다. 위와 마찬가지로 미분값에 0.01배 만큼 움직이게 한다. 여기서 0.01을 learning rate라고 하고 $\\alpha$로 표시한다.\n",
    "5. 1000번 반복한다."
   ]
  },
  {
   "cell_type": "code",
   "execution_count": 7,
   "metadata": {},
   "outputs": [
    {
     "name": "stdout",
     "output_type": "stream",
     "text": [
      "x for minimum y is:  1.0000000033659349\n"
     ]
    }
   ],
   "source": [
    "def derivative(x):\n",
    "    dydx = 2*x-2\n",
    "    return dydx\n",
    "    \n",
    "epoch = 1000 # 반복 개수\n",
    "learning_rate = 0.01 # alpha\n",
    "\n",
    "xx = 3 # 초기 x값\n",
    "\n",
    "for i in range(epoch):\n",
    "    xx = xx - learning_rate * derivative(xx)\n",
    "    \n",
    "print('x for minimum y is: ', xx)"
   ]
  },
  {
   "cell_type": "markdown",
   "metadata": {},
   "source": [
    "⚙️ 엔지니어\n",
    "\n",
    "> 좋았어!   \n",
    ">\n",
    "> $w$와 $b$에 대한 손실 함수의 순간 변화율을 구해서   \n",
    "> 반복해서 업데이트를 해 주면   \n",
    "> 자동으로 손실 함수의 최소 값에 도달 할 수 있겠어!   \n",
    "> \n",
    "> 수식으로 표현해보자\n",
    ">\n",
    "> REPEAT(epoch) {    \n",
    "> $w:=w-\\alpha {\\partial {J(w,b)}\\over \\partial w}$    \n",
    ">\n",
    "> $b:=b-\\alpha {\\partial{J(w,b)}\\over \\partial b}$ , $\\alpha=0.01$ learining rate    \n",
    "> }\n",
    ">\n",
    "> 아하! **손실함수의 최소값을 찾아 가는 것**이 기계(Machine)가 학습(Learning)하는 방법이구나!"
   ]
  },
  {
   "cell_type": "markdown",
   "metadata": {},
   "source": [
    "### 정리\n",
    "\n",
    "⚙️ 엔지니어\n",
    "\n",
    "> 선형 모델(Linear model)을 만드는 방법을 정리해 보자.  \n",
    "> 1. $\\hat{y}=wx+b$ 함수를 정의한다.  \n",
    "> 2. 손실 함수 (Loss function)를 정의한다. 여기서는 평균 제곱 오차(mean squared error)를 사용한다.  \n",
    "> 3. 손실 함수의 최소값을 찾는 방법을 선택한다. 여기서는 경사 하강법(gradient descnet)를 사용한다. 그리고 최소값을 찾는 방법(알고리즘)을 옵티마이저(Optimizer)라고 부르겠다.  \n",
    "> 4. 설정된 회수(~~1000~~40000번) 만큼 반복해서 주어진 데이터로 모델을 최적화(fit) 시킨다.  "
   ]
  },
  {
   "cell_type": "markdown",
   "metadata": {},
   "source": [
    "## 텐서플로우(Tensorflow)로 모델링(Modeling)\n",
    "\n",
    "⚙️ 엔지니어\n",
    "\n",
    "> 좋았어!   \n",
    "> \n",
    "> 이제 텐서플로우(Tensorflow)가 냠냠한   \n",
    "> **케라스(Keras)**를 이용해서 구현을 해보자!"
   ]
  },
  {
   "cell_type": "markdown",
   "metadata": {},
   "source": [
    "### 정규화(Normalization)\n",
    "\n",
    "⚙️ 엔지니어  \n",
    "\n",
    "> 내가 해봐서 아는데...   \n",
    "> \n",
    "> 이거 안하면 엉뚱한 답이 나온다.\n",
    "> 꼭 해야됨!"
   ]
  },
  {
   "cell_type": "code",
   "execution_count": 8,
   "metadata": {},
   "outputs": [
    {
     "name": "stdout",
     "output_type": "stream",
     "text": [
      "X_train=  [0.00241728 0.00736205 0.01211761 0.01707475 0.021923   0.02679479\n",
      " 0.03171601 0.03666737 0.04158398 0.04654137]\n",
      "\n",
      "Y_train=  [0.02378349 0.07183585 0.11988821 0.16794057 0.21599293 0.26404529\n",
      " 0.31209765 0.36015    0.40820236 0.45625472]\n"
     ]
    }
   ],
   "source": [
    "# 정규화 (Normalization)\n",
    "norm= np.linalg.norm(x)\n",
    "X_train = x / norm\n",
    "Y_train = y / norm\n",
    "\n",
    "print('X_train= ', X_train[:10])\n",
    "print('\\nY_train= ', Y_train[:10])\n"
   ]
  },
  {
   "cell_type": "markdown",
   "metadata": {},
   "source": [
    "### Keras를 가지고 모델링(Modeling)하기\n",
    "\n",
    "⚙️ 엔지니어\n",
    "\n",
    "> 4줄로 모델링이 가능하다!   \n",
    "> \n",
    "> 케라스 만세!"
   ]
  },
  {
   "cell_type": "code",
   "execution_count": 9,
   "metadata": {},
   "outputs": [
    {
     "name": "stderr",
     "output_type": "stream",
     "text": [
      "WARNING: Logging before flag parsing goes to stderr.\n",
      "W0812 23:01:41.166896 4420593088 deprecation.py:506] From /Users/skettee/anaconda3/lib/python3.7/site-packages/tensorflow/python/ops/init_ops.py:1251: calling VarianceScaling.__init__ (from tensorflow.python.ops.init_ops) with dtype is deprecated and will be removed in a future version.\n",
      "Instructions for updating:\n",
      "Call initializer instance with the dtype argument instead of passing it to the constructor\n"
     ]
    }
   ],
   "source": [
    "from tensorflow.keras import Sequential\n",
    "from tensorflow.keras.layers import Dense\n",
    "\n",
    "# 모델을 준비한다.\n",
    "model = Sequential()\n",
    "\n",
    "# 입력 변수가 1이고 출력 개수가 1인 y=wx+b (Dense)를 생성한다.\n",
    "model.add(Dense(1, input_shape=(1,)))\n",
    "\n",
    "# Loss funtion과 Optimizer를 선택한다.\n",
    "model.compile(loss='mean_squared_error', optimizer='sgd') \n",
    "\n",
    "# epochs만큼 반복해서 손실값이 최저가 되도록 모델을 훈련한다.\n",
    "hist = model.fit(X_train, Y_train, epochs=40000, verbose=0) "
   ]
  },
  {
   "cell_type": "markdown",
   "metadata": {},
   "source": [
    "### 손실값의 변화를 그래프로 확인"
   ]
  },
  {
   "cell_type": "code",
   "execution_count": 10,
   "metadata": {},
   "outputs": [
    {
     "data": {
      "image/png": "[encoded data removed]",
      "text/plain": [
       "<Figure size 432x288 with 1 Axes>"
      ]
     },
     "metadata": {
      "needs_background": "light"
     },
     "output_type": "display_data"
    }
   ],
   "source": [
    "plt.plot(hist.history['loss'])\n",
    "plt.xlabel('epoch')\n",
    "plt.ylabel('loss')\n",
    "plt.show()"
   ]
  },
  {
   "cell_type": "markdown",
   "metadata": {},
   "source": [
    "⚙️ 엔지니어\n",
    "\n",
    "> 반복적으로 학습할 수록 손실(Loss)이 0에 가깝게 된다.  \n",
    "> 굿잡!"
   ]
  },
  {
   "cell_type": "markdown",
   "metadata": {},
   "source": [
    "### $w$와 $b$값을 확인"
   ]
  },
  {
   "cell_type": "code",
   "execution_count": 11,
   "metadata": {},
   "outputs": [
    {
     "name": "stdout",
     "output_type": "stream",
     "text": [
      "w:  9.800606\n",
      "b:  0.0008281114\n"
     ]
    }
   ],
   "source": [
    "w, b = model.get_weights()\n",
    "print('w: ', w[0][0])\n",
    "print('b: ', b[0])"
   ]
  },
  {
   "cell_type": "markdown",
   "metadata": {},
   "source": [
    "⚙️ 엔지니어\n",
    "\n",
    "> $\\hat{y}=9.80x$ 이다.  \n",
    "> 어... $y$의 단위는 $m$(meter)이고 $x$는 $sec^2$이니까...  \n",
    "> 9.8은 바로 중력 가속도이다!  "
   ]
  },
  {
   "cell_type": "markdown",
   "metadata": {},
   "source": [
    "## 해결 (Solution)\n",
    "\n",
    "⚙️ 엔지니어  \n",
    "\n",
    "> 고객님~ 원하시는 솔루션입니다.   \n",
    "> input_time에 원하시는 시간을 입력하시면   \n",
    "> 예상되는 높이가 자동으로 계산됩니다.    \n",
    "> \n",
    "> 그런데 고객님~   \n",
    "> 이 모델은 중력 가속도($9.8m/sec^2$)모델인데...   \n",
    ">\n",
    "> 혹시 고객님 성이 갈씨?"
   ]
  },
  {
   "cell_type": "code",
   "execution_count": 12,
   "metadata": {},
   "outputs": [
    {
     "name": "stdout",
     "output_type": "stream",
     "text": [
      "Predicted height = 9.801 m\n"
     ]
    }
   ],
   "source": [
    "input_time = 1.0\n",
    "\n",
    "predict = model.predict([input_time*input_time])\n",
    "\n",
    "print('Predicted height = {:.3f} m'.format(predict[0][0]))"
   ]
  }
 ],
 "metadata": {
  "kernelspec": {
   "display_name": "Python 3",
   "language": "python",
   "name": "python3"
  },
  "language_info": {
   "codemirror_mode": {
    "name": "ipython",
    "version": 3
   },
   "file_extension": ".py",
   "mimetype": "text/x-python",
   "name": "python",
   "nbconvert_exporter": "python",
   "pygments_lexer": "ipython3",
   "version": "3.7.3"
  }
 },
 "nbformat": 4,
 "nbformat_minor": 4
}
